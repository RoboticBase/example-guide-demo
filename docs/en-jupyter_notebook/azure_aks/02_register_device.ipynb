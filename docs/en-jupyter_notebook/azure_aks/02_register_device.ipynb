{
 "cells": [
  {
   "cell_type": "markdown",
   "metadata": {},
   "source": [
    "# 2 register device to fiware on Azure AKS"
   ]
  },
  {
   "cell_type": "markdown",
   "metadata": {},
   "source": [
    "change ${CORE_ROOT} to your path of `core`."
   ]
  },
  {
   "cell_type": "code",
   "execution_count": null,
   "metadata": {
    "scrolled": false
   },
   "outputs": [],
   "source": [
    "export CORE_ROOT=\"${HOME}/core\""
   ]
  },
  {
   "cell_type": "markdown",
   "metadata": {},
   "source": [
    "change ${PJ_ROOT} to your path of `example-guide-demo`."
   ]
  },
  {
   "cell_type": "code",
   "execution_count": null,
   "metadata": {
    "scrolled": false
   },
   "outputs": [],
   "source": [
    "export PJ_ROOT=\"${HOME}/example-guide-demo\"\n",
    "cd ${PJ_ROOT};pwd"
   ]
  },
  {
   "cell_type": "markdown",
   "metadata": {},
   "source": [
    "example)\n",
    "```\n",
    "/Users/user/example-guide-demo\n",
    "```"
   ]
  },
  {
   "cell_type": "markdown",
   "metadata": {},
   "source": [
    "## load environment variables"
   ]
  },
  {
   "cell_type": "markdown",
   "metadata": {},
   "source": [
    "load from `core`"
   ]
  },
  {
   "cell_type": "code",
   "execution_count": null,
   "metadata": {
    "scrolled": false
   },
   "outputs": [],
   "source": [
    "source ${CORE_ROOT}/docs/environments/azure_aks/env"
   ]
  },
  {
   "cell_type": "markdown",
   "metadata": {},
   "source": [
    "load from `example-guide-demo`"
   ]
  },
  {
   "cell_type": "code",
   "execution_count": null,
   "metadata": {
    "scrolled": false
   },
   "outputs": [],
   "source": [
    "source ${PJ_ROOT}/docs/environments/azure_aks/env"
   ]
  },
  {
   "cell_type": "markdown",
   "metadata": {},
   "source": [
    "### register users to RabbitMQ"
   ]
  },
  {
   "cell_type": "code",
   "execution_count": null,
   "metadata": {
    "scrolled": false
   },
   "outputs": [],
   "source": [
    "for e in $(env); do\n",
    "  if [[ \"${e}\" =~ ^MQTT__([[:alnum:]_-]+)=([[:alnum:]_-]+)$ ]]; then\n",
    "    username=${BASH_REMATCH[1]}\n",
    "    password=${BASH_REMATCH[2]}\n",
    "    \n",
    "    kubectl exec rabbitmq-0 -- rabbitmqctl add_user ${username} ${password}\n",
    "    kubectl exec rabbitmq-0 -- rabbitmqctl set_permissions -p / ${username} \".*\" \".*\" \".*\"\n",
    "  fi\n",
    "done"
   ]
  },
  {
   "cell_type": "markdown",
   "metadata": {},
   "source": [
    "example)\n",
    "```\n",
    "Adding user \"iotagent\" ...\n",
    "User \"iotagent\" already exists\n",
    "command terminated with exit code 70\n",
    "Setting permissions for user \"iotagent\" in vhost \"/\" ...\n",
    "Adding user \"mobile_robot\" ...\n",
    "Setting permissions for user \"mobile_robot\" in vhost \"/\" ...\n",
    "Adding user \"comm_robot\" ...\n",
    "Setting permissions for user \"comm_robot\" in vhost \"/\" ...\n",
    "Adding user \"dest_led\" ...\n",
    "Setting permissions for user \"dest_led\" in vhost \"/\" ...\n",
    "Adding user \"dest_button\" ...\n",
    "Setting permissions for user \"dest_button\" in vhost \"/\" ...\n",
    "```"
   ]
  },
  {
   "cell_type": "code",
   "execution_count": null,
   "metadata": {
    "scrolled": false
   },
   "outputs": [],
   "source": [
    "kubectl exec rabbitmq-0 -- rabbitmqctl list_users"
   ]
  },
  {
   "cell_type": "markdown",
   "metadata": {},
   "source": [
    "example)\n",
    "```\n",
    "Listing users ...\n",
    "user\ttags\n",
    "dest_button\t[]\n",
    "dest_led\t[]\n",
    "mobile_robot\t[]\n",
    "comm_robot\t[]\n",
    "guest\t[administrator]\n",
    "iotagent\t[]\n",
    "```"
   ]
  },
  {
   "cell_type": "markdown",
   "metadata": {},
   "source": [
    "## register comm_robot service"
   ]
  },
  {
   "cell_type": "code",
   "execution_count": null,
   "metadata": {
    "scrolled": false
   },
   "outputs": [],
   "source": [
    "TOKEN=$(cat ${CORE_ROOT}/secrets/auth-tokens.json | jq '.[0].settings.bearer_tokens[0].token' -r)\n",
    "curl -H \"Authorization: bearer ${TOKEN}\" -H \"Fiware-Service: ${FIWARE_SERVICE}\" -H \"Fiware-ServicePath: ${COMM_ROBOT_SERVICEPATH}\" -H \"Content-Type: application/json\" https://api.${DOMAIN}/idas/ul20/manage/iot/services/ -X POST -d @- <<__EOS__\n",
    "{\n",
    "  \"services\": [\n",
    "    {\n",
    "      \"apikey\": \"${COMM_ROBOT_TYPE}\",\n",
    "      \"cbroker\": \"http://orion:1026\",\n",
    "      \"resource\": \"/iot/d\",\n",
    "      \"entity_type\": \"${COMM_ROBOT_TYPE}\"\n",
    "    }\n",
    "  ]\n",
    "}\n",
    "__EOS__"
   ]
  },
  {
   "cell_type": "markdown",
   "metadata": {},
   "source": [
    "example)\n",
    "```json\n",
    "{}\n",
    "```"
   ]
  },
  {
   "cell_type": "markdown",
   "metadata": {},
   "source": [
    "### confirm registered service"
   ]
  },
  {
   "cell_type": "code",
   "execution_count": null,
   "metadata": {
    "scrolled": false
   },
   "outputs": [],
   "source": [
    "TOKEN=$(cat ${CORE_ROOT}/secrets/auth-tokens.json | jq '.[0].settings.bearer_tokens[0].token' -r)\n",
    "curl -sS -H \"Authorization: bearer ${TOKEN}\" -H \"Fiware-Service: ${FIWARE_SERVICE}\" -H \"Fiware-Servicepath: ${COMM_ROBOT_SERVICEPATH}\" https://api.${DOMAIN}/idas/ul20/manage/iot/services/ | jq ."
   ]
  },
  {
   "cell_type": "markdown",
   "metadata": {},
   "source": [
    "example)\n",
    "```json\n",
    "{\n",
    "  \"count\": 1,\n",
    "  \"services\": [\n",
    "    {\n",
    "      \"commands\": [],\n",
    "      \"lazy\": [],\n",
    "      \"attributes\": [],\n",
    "      \"_id\": \"5cd6105e4d78cc000f950ebc\",\n",
    "      \"resource\": \"/iot/d\",\n",
    "      \"apikey\": \"comm_robot\",\n",
    "      \"service\": \"guide_demo\",\n",
    "      \"subservice\": \"/comm_robot\",\n",
    "      \"__v\": 0,\n",
    "      \"static_attributes\": [],\n",
    "      \"internal_attributes\": [],\n",
    "      \"entity_type\": \"comm_robot\"\n",
    "    }\n",
    "  ]\n",
    "}\n",
    "```"
   ]
  },
  {
   "cell_type": "markdown",
   "metadata": {},
   "source": [
    "## register comm_robot device"
   ]
  },
  {
   "cell_type": "code",
   "execution_count": null,
   "metadata": {
    "scrolled": false
   },
   "outputs": [],
   "source": [
    "TOKEN=$(cat ${CORE_ROOT}/secrets/auth-tokens.json | jq '.[0].settings.bearer_tokens[0].token' -r)\n",
    "curl -H \"Authorization: bearer ${TOKEN}\" -H \"Fiware-Service: ${FIWARE_SERVICE}\" -H \"Fiware-ServicePath: ${COMM_ROBOT_SERVICEPATH}\" -H \"Content-Type: application/json\" https://api.${DOMAIN}/idas/ul20/manage/iot/devices/ -X POST -d @- <<__EOS__\n",
    "{\n",
    "  \"devices\": [\n",
    "    {\n",
    "      \"device_id\": \"${COMM_ROBOT_ID}\",\n",
    "      \"entity_name\": \"${COMM_ROBOT_ID}\",\n",
    "      \"entity_type\": \"${COMM_ROBOT_TYPE}\",\n",
    "      \"timezone\": \"Asia/Tokyo\",\n",
    "      \"protocol\": \"UL20\",\n",
    "      \"attributes\": [\n",
    "        {\n",
    "          \"name\": \"move\",\n",
    "          \"type\": \"string\"\n",
    "        }\n",
    "      ],\n",
    "      \"transport\": \"AMQP\"\n",
    "    }\n",
    "  ]\n",
    "}\n",
    "__EOS__"
   ]
  },
  {
   "cell_type": "markdown",
   "metadata": {},
   "source": [
    "example)\n",
    "```json\n",
    "{}\n",
    "```"
   ]
  },
  {
   "cell_type": "markdown",
   "metadata": {},
   "source": [
    "### confirm registered device"
   ]
  },
  {
   "cell_type": "code",
   "execution_count": null,
   "metadata": {
    "scrolled": false
   },
   "outputs": [],
   "source": [
    "TOKEN=$(cat ${CORE_ROOT}/secrets/auth-tokens.json | jq '.[0].settings.bearer_tokens[0].token' -r)\n",
    "curl -sS -H \"Authorization: bearer ${TOKEN}\" -H \"Fiware-Service: ${FIWARE_SERVICE}\" -H \"Fiware-Servicepath: ${COMM_ROBOT_SERVICEPATH}\" https://api.${DOMAIN}/idas/ul20/manage/iot/devices/${COMM_ROBOT_ID}/ | jq ."
   ]
  },
  {
   "cell_type": "markdown",
   "metadata": {},
   "source": [
    "example)\n",
    "```json\n",
    "{\n",
    "  \"device_id\": \"xperiahello_01\",\n",
    "  \"service\": \"guide_demo\",\n",
    "  \"service_path\": \"/comm_robot\",\n",
    "  \"entity_name\": \"xperiahello_01\",\n",
    "  \"entity_type\": \"comm_robot\",\n",
    "  \"transport\": \"AMQP\",\n",
    "  \"attributes\": [\n",
    "    {\n",
    "      \"object_id\": \"move\",\n",
    "      \"name\": \"move\",\n",
    "      \"type\": \"string\"\n",
    "    }\n",
    "  ],\n",
    "  \"lazy\": [],\n",
    "  \"commands\": [],\n",
    "  \"static_attributes\": [],\n",
    "  \"protocol\": \"UL20\"\n",
    "}\n",
    "```"
   ]
  },
  {
   "cell_type": "code",
   "execution_count": null,
   "metadata": {
    "scrolled": false
   },
   "outputs": [],
   "source": [
    "TOKEN=$(cat ${CORE_ROOT}/secrets/auth-tokens.json | jq '.[0].settings.bearer_tokens[0].token' -r)\n",
    "curl -sS -H \"Authorization: bearer ${TOKEN}\" -H \"Fiware-Service: ${FIWARE_SERVICE}\" -H \"Fiware-Servicepath: ${COMM_ROBOT_SERVICEPATH}\" https://api.${DOMAIN}/orion/v2/entities/${COMM_ROBOT_ID}/ | jq ."
   ]
  },
  {
   "cell_type": "markdown",
   "metadata": {},
   "source": [
    "example)\n",
    "```json\n",
    "{\n",
    "  \"id\": \"xperiahello_01\",\n",
    "  \"type\": \"comm_robot\",\n",
    "  \"TimeInstant\": {\n",
    "    \"type\": \"ISO8601\",\n",
    "    \"value\": \" \",\n",
    "    \"metadata\": {}\n",
    "  },\n",
    "  \"move\": {\n",
    "    \"type\": \"string\",\n",
    "    \"value\": \" \",\n",
    "    \"metadata\": {}\n",
    "  }\n",
    "}\n",
    "```"
   ]
  },
  {
   "cell_type": "markdown",
   "metadata": {},
   "source": [
    "### register `cygnus-mongo` as a subscriber of comm_robot device"
   ]
  },
  {
   "cell_type": "code",
   "execution_count": null,
   "metadata": {
    "scrolled": false
   },
   "outputs": [],
   "source": [
    "TOKEN=$(cat ${CORE_ROOT}/secrets/auth-tokens.json | jq '.[0].settings.bearer_tokens[0].token' -r)\n",
    "curl -i -H \"Authorization: bearer ${TOKEN}\" -H \"Fiware-Service: ${FIWARE_SERVICE}\" -H \"Fiware-ServicePath: ${COMM_ROBOT_SERVICEPATH}\" -H \"Content-Type: application/json\" https://api.${DOMAIN}/orion/v2/subscriptions/ -X POST -d @- <<__EOS__\n",
    "{\n",
    "  \"subject\": {\n",
    "    \"entities\": [{\n",
    "      \"idPattern\": \"${COMM_ROBOT_ID}\",\n",
    "      \"type\": \"${COMM_ROBOT_TYPE}\"\n",
    "    }],\n",
    "    \"condition\": {\n",
    "      \"attrs\": [\"move\"]\n",
    "    }\n",
    "  },\n",
    "  \"notification\": {\n",
    "    \"http\": {\n",
    "      \"url\": \"http://cygnus-mongo:5050/notify\"\n",
    "    },\n",
    "    \"attrs\": [\"move\"],\n",
    "    \"attrsFormat\": \"legacy\"\n",
    "  }\n",
    "}\n",
    "__EOS__"
   ]
  },
  {
   "cell_type": "markdown",
   "metadata": {},
   "source": [
    "example)\n",
    "```\n",
    "HTTP/1.1 201 Created\n",
    "content-length: 0\n",
    "location: /v2/subscriptions/5cd6126adb70c85cdee24f94\n",
    "fiware-correlator: dc5c6d16-7380-11e9-b740-f2a8c31f77d6\n",
    "date: Sat, 11 May 2019 00:08:11 GMT\n",
    "x-envoy-upstream-service-time: 2026\n",
    "server: envoy\n",
    "```"
   ]
  },
  {
   "cell_type": "code",
   "execution_count": null,
   "metadata": {
    "scrolled": false
   },
   "outputs": [],
   "source": [
    "TOKEN=$(cat ${CORE_ROOT}/secrets/auth-tokens.json | jq '.[0].settings.bearer_tokens[0].token' -r)\n",
    "curl -sS -H \"Authorization: bearer ${TOKEN}\" -H \"Fiware-Service: ${FIWARE_SERVICE}\" -H \"Fiware-ServicePath: ${COMM_ROBOT_SERVICEPATH}\" https://api.${DOMAIN}/orion/v2/subscriptions/ | jq ."
   ]
  },
  {
   "cell_type": "markdown",
   "metadata": {},
   "source": [
    "example)\n",
    "```json\n",
    "[\n",
    "  {\n",
    "    \"id\": \"5cd6126adb70c85cdee24f94\",\n",
    "    \"status\": \"active\",\n",
    "    \"subject\": {\n",
    "      \"entities\": [\n",
    "        {\n",
    "          \"idPattern\": \"xperiahello_01\",\n",
    "          \"type\": \"comm_robot\"\n",
    "        }\n",
    "      ],\n",
    "      \"condition\": {\n",
    "        \"attrs\": [\n",
    "          \"move\"\n",
    "        ]\n",
    "      }\n",
    "    },\n",
    "    \"notification\": {\n",
    "      \"timesSent\": 1,\n",
    "      \"lastNotification\": \"2019-05-11T00:08:10.00Z\",\n",
    "      \"attrs\": [\n",
    "        \"move\"\n",
    "      ],\n",
    "      \"attrsFormat\": \"legacy\",\n",
    "      \"http\": {\n",
    "        \"url\": \"http://cygnus-mongo:5050/notify\"\n",
    "      },\n",
    "      \"lastSuccess\": \"2019-05-11T00:08:10.00Z\",\n",
    "      \"lastSuccessCode\": 200\n",
    "    }\n",
    "  }\n",
    "]\n",
    "```"
   ]
  },
  {
   "cell_type": "markdown",
   "metadata": {},
   "source": [
    "## register mobile_robot service"
   ]
  },
  {
   "cell_type": "code",
   "execution_count": null,
   "metadata": {
    "scrolled": false
   },
   "outputs": [],
   "source": [
    "TOKEN=$(cat ${CORE_ROOT}/secrets/auth-tokens.json | jq '.[0].settings.bearer_tokens[0].token' -r)\n",
    "curl -H \"Authorization: bearer ${TOKEN}\" -H \"Fiware-Service: ${FIWARE_SERVICE}\" -H \"Fiware-ServicePath: ${MOBILE_ROBOT_SERVICEPATH}\" -H \"Content-Type: application/json\" https://api.${DOMAIN}/idas/ul20/manage/iot/services/ -X POST -d @- <<__EOS__\n",
    "{\n",
    "  \"services\": [\n",
    "    {\n",
    "      \"apikey\": \"${MOBILE_ROBOT_TYPE}\",\n",
    "      \"cbroker\": \"http://orion:1026\",\n",
    "      \"resource\": \"/iot/d\",\n",
    "      \"entity_type\": \"${MOBILE_ROBOT_TYPE}\"\n",
    "    }\n",
    "  ]\n",
    "}\n",
    "__EOS__"
   ]
  },
  {
   "cell_type": "markdown",
   "metadata": {},
   "source": [
    "example)\n",
    "```json\n",
    "{}\n",
    "```"
   ]
  },
  {
   "cell_type": "markdown",
   "metadata": {},
   "source": [
    "### confirm registered service"
   ]
  },
  {
   "cell_type": "code",
   "execution_count": null,
   "metadata": {
    "scrolled": false
   },
   "outputs": [],
   "source": [
    "TOKEN=$(cat ${CORE_ROOT}/secrets/auth-tokens.json | jq '.[0].settings.bearer_tokens[0].token' -r)\n",
    "curl -sS -H \"Authorization: bearer ${TOKEN}\" -H \"Fiware-Service: ${FIWARE_SERVICE}\" -H \"Fiware-Servicepath: ${MOBILE_ROBOT_SERVICEPATH}\" https://api.${DOMAIN}/idas/ul20/manage/iot/services/ | jq ."
   ]
  },
  {
   "cell_type": "markdown",
   "metadata": {},
   "source": [
    "example)\n",
    "```json\n",
    "{\n",
    "  \"count\": 1,\n",
    "  \"services\": [\n",
    "    {\n",
    "      \"commands\": [],\n",
    "      \"lazy\": [],\n",
    "      \"attributes\": [],\n",
    "      \"_id\": \"5cd616b11466750010c61da2\",\n",
    "      \"resource\": \"/iot/d\",\n",
    "      \"apikey\": \"mobile_robot\",\n",
    "      \"service\": \"guide_demo\",\n",
    "      \"subservice\": \"/mobile_robot\",\n",
    "      \"__v\": 0,\n",
    "      \"static_attributes\": [],\n",
    "      \"internal_attributes\": [],\n",
    "      \"entity_type\": \"mobile_robot\"\n",
    "    }\n",
    "  ]\n",
    "}\n",
    "```"
   ]
  },
  {
   "cell_type": "markdown",
   "metadata": {},
   "source": [
    "## register mobile_robot device"
   ]
  },
  {
   "cell_type": "code",
   "execution_count": null,
   "metadata": {
    "scrolled": false
   },
   "outputs": [],
   "source": [
    "TOKEN=$(cat ${CORE_ROOT}/secrets/auth-tokens.json | jq '.[0].settings.bearer_tokens[0].token' -r)\n",
    "curl -H \"Authorization: bearer ${TOKEN}\" -H \"Fiware-Service: ${FIWARE_SERVICE}\" -H \"Fiware-ServicePath: ${MOBILE_ROBOT_SERVICEPATH}\" -H \"Content-Type: application/json\" https://api.${DOMAIN}/idas/ul20/manage/iot/devices/ -X POST -d @- <<__EOS__\n",
    "{\n",
    "  \"devices\": [\n",
    "    {\n",
    "      \"device_id\": \"${MOBILE_ROBOT_ID}\",\n",
    "      \"entity_name\": \"${MOBILE_ROBOT_ID}\",\n",
    "      \"entity_type\": \"${MOBILE_ROBOT_TYPE}\",\n",
    "      \"timezone\": \"Asia/Tokyo\",\n",
    "      \"protocol\": \"UL20\",\n",
    "      \"attributes\": [\n",
    "        {\n",
    "          \"name\": \"r_state\",\n",
    "          \"type\": \"string\"\n",
    "        },\n",
    "        {\n",
    "          \"name\": \"r_mode\",\n",
    "          \"type\": \"string\"\n",
    "        },\n",
    "        {\n",
    "          \"name\": \"x\",\n",
    "          \"type\": \"float32\"\n",
    "        },\n",
    "        {\n",
    "          \"name\": \"y\",\n",
    "          \"type\": \"float32\"\n",
    "        },\n",
    "        {\n",
    "          \"name\": \"theta\",\n",
    "          \"type\": \"float32\"\n",
    "        },\n",
    "        {\n",
    "          \"name\": \"voltage\",\n",
    "          \"type\": \"float32\"\n",
    "        },\n",
    "        {\n",
    "          \"name\": \"current\",\n",
    "          \"type\": \"float32\"\n",
    "        },\n",
    "        {\n",
    "          \"name\": \"charge\",\n",
    "          \"type\": \"float32\"\n",
    "        },\n",
    "        {\n",
    "          \"name\": \"capacity\",\n",
    "          \"type\": \"float32\"\n",
    "        },\n",
    "        {\n",
    "          \"name\": \"design_capacity\",\n",
    "          \"type\": \"float32\"\n",
    "        },\n",
    "        {\n",
    "          \"name\": \"percentage\",\n",
    "          \"type\": \"float32\"\n",
    "        }\n",
    "      ],\n",
    "      \"commands\": [\n",
    "        {\n",
    "          \"name\": \"move\",\n",
    "          \"type\": \"string\"\n",
    "        }\n",
    "      ],\n",
    "      \"transport\": \"AMQP\"\n",
    "    }\n",
    "  ]\n",
    "}\n",
    "__EOS__"
   ]
  },
  {
   "cell_type": "markdown",
   "metadata": {},
   "source": [
    "example)\n",
    "```json\n",
    "{}\n",
    "```"
   ]
  },
  {
   "cell_type": "markdown",
   "metadata": {},
   "source": [
    "### confirm registered device"
   ]
  },
  {
   "cell_type": "code",
   "execution_count": null,
   "metadata": {
    "scrolled": false
   },
   "outputs": [],
   "source": [
    "TOKEN=$(cat ${CORE_ROOT}/secrets/auth-tokens.json | jq '.[0].settings.bearer_tokens[0].token' -r)\n",
    "curl -sS -H \"Authorization: bearer ${TOKEN}\" -H \"Fiware-Service: ${FIWARE_SERVICE}\" -H \"Fiware-Servicepath: ${MOBILE_ROBOT_SERVICEPATH}\" https://api.${DOMAIN}/idas/ul20/manage/iot/devices/${MOBILE_ROBOT_ID}/ | jq ."
   ]
  },
  {
   "cell_type": "markdown",
   "metadata": {},
   "source": [
    "example)\n",
    "```json\n",
    "{\n",
    "  \"device_id\": \"rosbot2_01\",\n",
    "  \"service\": \"guide_demo\",\n",
    "  \"service_path\": \"/mobile_robot\",\n",
    "  \"entity_name\": \"rosbot2_01\",\n",
    "  \"entity_type\": \"mobile_robot\",\n",
    "  \"transport\": \"AMQP\",\n",
    "  \"attributes\": [\n",
    "    {\n",
    "      \"object_id\": \"r_state\",\n",
    "      \"name\": \"r_state\",\n",
    "      \"type\": \"string\"\n",
    "    },\n",
    "    {\n",
    "      \"object_id\": \"r_mode\",\n",
    "      \"name\": \"r_mode\",\n",
    "      \"type\": \"string\"\n",
    "    },\n",
    "    {\n",
    "      \"object_id\": \"x\",\n",
    "      \"name\": \"x\",\n",
    "      \"type\": \"float32\"\n",
    "    },\n",
    "    {\n",
    "      \"object_id\": \"y\",\n",
    "      \"name\": \"y\",\n",
    "      \"type\": \"float32\"\n",
    "    },\n",
    "    {\n",
    "      \"object_id\": \"theta\",\n",
    "      \"name\": \"theta\",\n",
    "      \"type\": \"float32\"\n",
    "    },\n",
    "    {\n",
    "      \"object_id\": \"voltage\",\n",
    "      \"name\": \"voltage\",\n",
    "      \"type\": \"float32\"\n",
    "    },\n",
    "    {\n",
    "      \"object_id\": \"current\",\n",
    "      \"name\": \"current\",\n",
    "      \"type\": \"float32\"\n",
    "    },\n",
    "    {\n",
    "      \"object_id\": \"charge\",\n",
    "      \"name\": \"charge\",\n",
    "      \"type\": \"float32\"\n",
    "    },\n",
    "    {\n",
    "      \"object_id\": \"capacity\",\n",
    "      \"name\": \"capacity\",\n",
    "      \"type\": \"float32\"\n",
    "    },\n",
    "    {\n",
    "      \"object_id\": \"design_capacity\",\n",
    "      \"name\": \"design_capacity\",\n",
    "      \"type\": \"float32\"\n",
    "    },\n",
    "    {\n",
    "      \"object_id\": \"percentage\",\n",
    "      \"name\": \"percentage\",\n",
    "      \"type\": \"float32\"\n",
    "    }\n",
    "  ],\n",
    "  \"lazy\": [],\n",
    "  \"commands\": [\n",
    "    {\n",
    "      \"object_id\": \"move\",\n",
    "      \"name\": \"move\",\n",
    "      \"type\": \"string\"\n",
    "    }\n",
    "  ],\n",
    "  \"static_attributes\": [],\n",
    "  \"protocol\": \"UL20\"\n",
    "}\n",
    "```"
   ]
  },
  {
   "cell_type": "code",
   "execution_count": null,
   "metadata": {
    "scrolled": false
   },
   "outputs": [],
   "source": [
    "TOKEN=$(cat ${CORE_ROOT}/secrets/auth-tokens.json | jq '.[0].settings.bearer_tokens[0].token' -r)\n",
    "curl -sS -H \"Authorization: bearer ${TOKEN}\" -H \"Fiware-Service: ${FIWARE_SERVICE}\" -H \"Fiware-Servicepath: ${MOBILE_ROBOT_SERVICEPATH}\" https://api.${DOMAIN}/orion/v2/entities/${MOBILE_ROBOT_ID}/ | jq ."
   ]
  },
  {
   "cell_type": "markdown",
   "metadata": {},
   "source": [
    "example)\n",
    "```json\n",
    "{\n",
    "  \"id\": \"rosbot2_01\",\n",
    "  \"type\": \"mobile_robot\",\n",
    "  \"TimeInstant\": {\n",
    "    \"type\": \"ISO8601\",\n",
    "    \"value\": \" \",\n",
    "    \"metadata\": {}\n",
    "  },\n",
    "  \"capacity\": {\n",
    "    \"type\": \"float32\",\n",
    "    \"value\": \" \",\n",
    "    \"metadata\": {}\n",
    "  },\n",
    "  \"charge\": {\n",
    "    \"type\": \"float32\",\n",
    "    \"value\": \" \",\n",
    "    \"metadata\": {}\n",
    "  },\n",
    "  \"current\": {\n",
    "    \"type\": \"float32\",\n",
    "    \"value\": \" \",\n",
    "    \"metadata\": {}\n",
    "  },\n",
    "  \"design_capacity\": {\n",
    "    \"type\": \"float32\",\n",
    "    \"value\": \" \",\n",
    "    \"metadata\": {}\n",
    "  },\n",
    "  \"move_info\": {\n",
    "    \"type\": \"commandResult\",\n",
    "    \"value\": \" \",\n",
    "    \"metadata\": {}\n",
    "  },\n",
    "  \"move_status\": {\n",
    "    \"type\": \"commandStatus\",\n",
    "    \"value\": \"UNKNOWN\",\n",
    "    \"metadata\": {}\n",
    "  },\n",
    "  \"percentage\": {\n",
    "    \"type\": \"float32\",\n",
    "    \"value\": \" \",\n",
    "    \"metadata\": {}\n",
    "  },\n",
    "  \"r_mode\": {\n",
    "    \"type\": \"string\",\n",
    "    \"value\": \" \",\n",
    "    \"metadata\": {}\n",
    "  },\n",
    "  \"r_state\": {\n",
    "    \"type\": \"string\",\n",
    "    \"value\": \" \",\n",
    "    \"metadata\": {}\n",
    "  },\n",
    "  \"theta\": {\n",
    "    \"type\": \"float32\",\n",
    "    \"value\": \" \",\n",
    "    \"metadata\": {}\n",
    "  },\n",
    "  \"voltage\": {\n",
    "    \"type\": \"float32\",\n",
    "    \"value\": \" \",\n",
    "    \"metadata\": {}\n",
    "  },\n",
    "  \"x\": {\n",
    "    \"type\": \"float32\",\n",
    "    \"value\": \" \",\n",
    "    \"metadata\": {}\n",
    "  },\n",
    "  \"y\": {\n",
    "    \"type\": \"float32\",\n",
    "    \"value\": \" \",\n",
    "    \"metadata\": {}\n",
    "  },\n",
    "  \"move\": {\n",
    "    \"type\": \"string\",\n",
    "    \"value\": \"\",\n",
    "    \"metadata\": {}\n",
    "  }\n",
    "}\n",
    "```"
   ]
  },
  {
   "cell_type": "markdown",
   "metadata": {},
   "source": [
    "### register `cygnus-mongo` as a subscriber of mobile_robot device"
   ]
  },
  {
   "cell_type": "code",
   "execution_count": null,
   "metadata": {
    "scrolled": false
   },
   "outputs": [],
   "source": [
    "TOKEN=$(cat ${CORE_ROOT}/secrets/auth-tokens.json | jq '.[0].settings.bearer_tokens[0].token' -r)\n",
    "curl -i -H \"Authorization: bearer ${TOKEN}\" -H \"Fiware-Service: ${FIWARE_SERVICE}\" -H \"Fiware-ServicePath: ${MOBILE_ROBOT_SERVICEPATH}\" -H \"Content-Type: application/json\" https://api.${DOMAIN}/orion/v2/subscriptions/ -X POST -d @- <<__EOS__\n",
    "{\n",
    "  \"subject\": {\n",
    "    \"entities\": [{\n",
    "      \"idPattern\": \"${MOBILE_ROBOT_ID}\",\n",
    "      \"type\": \"${MOBILE_ROBOT_TYPE}\"\n",
    "    }],\n",
    "    \"condition\": {\n",
    "      \"attrs\": [\"r_mode\", \"r_state\", \"x\", \"y\", \"theta\", \"move_status\", \"move_info\", \"voltage\", \"current\", \"charge\", \"capacity\", \"design_capacity\", \"percentage\"]\n",
    "    }\n",
    "  },\n",
    "  \"notification\": {\n",
    "    \"http\": {\n",
    "      \"url\": \"http://cygnus-mongo:5050/notify\"\n",
    "    },\n",
    "    \"attrs\": [\"r_mode\", \"r_state\", \"x\", \"y\", \"theta\", \"move_status\", \"move_info\", \"voltage\", \"current\", \"charge\", \"capacity\", \"design_capacity\", \"percentage\"],\n",
    "    \"attrsFormat\": \"legacy\"\n",
    "  }\n",
    "}\n",
    "__EOS__"
   ]
  },
  {
   "cell_type": "markdown",
   "metadata": {},
   "source": [
    "example)\n",
    "```\n",
    "HTTP/1.1 201 Created\n",
    "content-length: 0\n",
    "location: /v2/subscriptions/5cd620e1d9d5db2ffb119d16\n",
    "fiware-correlator: 7beb02c2-7389-11e9-88b9-46b1c9ec8ccd\n",
    "date: Sat, 11 May 2019 01:09:53 GMT\n",
    "x-envoy-upstream-service-time: 4\n",
    "server: envoy\n",
    "```"
   ]
  },
  {
   "cell_type": "code",
   "execution_count": null,
   "metadata": {
    "scrolled": false
   },
   "outputs": [],
   "source": [
    "TOKEN=$(cat ${CORE_ROOT}/secrets/auth-tokens.json | jq '.[0].settings.bearer_tokens[0].token' -r)\n",
    "curl -sS -H \"Authorization: bearer ${TOKEN}\" -H \"Fiware-Service: ${FIWARE_SERVICE}\" -H \"Fiware-ServicePath: ${MOBILE_ROBOT_SERVICEPATH}\" https://api.${DOMAIN}/orion/v2/subscriptions/ | jq ."
   ]
  },
  {
   "cell_type": "markdown",
   "metadata": {},
   "source": [
    "example)\n",
    "```json\n",
    "[\n",
    "  {\n",
    "    \"id\": \"5cd620e1d9d5db2ffb119d16\",\n",
    "    \"status\": \"active\",\n",
    "    \"subject\": {\n",
    "      \"entities\": [\n",
    "        {\n",
    "          \"idPattern\": \"rosbot2_01\",\n",
    "          \"type\": \"mobile_robot\"\n",
    "        }\n",
    "      ],\n",
    "      \"condition\": {\n",
    "        \"attrs\": [\n",
    "          \"r_mode\",\n",
    "          \"r_state\",\n",
    "          \"x\",\n",
    "          \"y\",\n",
    "          \"theta\",\n",
    "          \"move_status\",\n",
    "          \"move_info\",\n",
    "          \"voltage\",\n",
    "          \"current\",\n",
    "          \"charge\",\n",
    "          \"capacity\",\n",
    "          \"design_capacity\",\n",
    "          \"percentage\"\n",
    "        ]\n",
    "      }\n",
    "    },\n",
    "    \"notification\": {\n",
    "      \"timesSent\": 1,\n",
    "      \"lastNotification\": \"2019-05-11T01:09:53.00Z\",\n",
    "      \"attrs\": [\n",
    "        \"r_mode\",\n",
    "        \"r_state\",\n",
    "        \"x\",\n",
    "        \"y\",\n",
    "        \"theta\",\n",
    "        \"move_status\",\n",
    "        \"move_info\",\n",
    "        \"voltage\",\n",
    "        \"current\",\n",
    "        \"charge\",\n",
    "        \"capacity\",\n",
    "        \"design_capacity\",\n",
    "        \"percentage\"\n",
    "      ],\n",
    "      \"attrsFormat\": \"legacy\",\n",
    "      \"http\": {\n",
    "        \"url\": \"http://cygnus-mongo:5050/notify\"\n",
    "      },\n",
    "      \"lastSuccess\": \"2019-05-11T01:09:53.00Z\",\n",
    "      \"lastSuccessCode\": 200\n",
    "    }\n",
    "  }\n",
    "]\n",
    "```"
   ]
  },
  {
   "cell_type": "markdown",
   "metadata": {},
   "source": [
    "## register dest_button service"
   ]
  },
  {
   "cell_type": "code",
   "execution_count": null,
   "metadata": {
    "scrolled": false
   },
   "outputs": [],
   "source": [
    "TOKEN=$(cat ${CORE_ROOT}/secrets/auth-tokens.json | jq '.[0].settings.bearer_tokens[0].token' -r)\n",
    "curl -H \"Authorization: bearer ${TOKEN}\" -H \"Fiware-Service: ${FIWARE_SERVICE}\" -H \"Fiware-ServicePath: ${DEST_BUTTON_SERVICEPATH}\" -H \"Content-Type: application/json\" https://api.${DOMAIN}/idas/ul20/manage/iot/services/ -X POST -d @- <<__EOS__\n",
    "{\n",
    "  \"services\": [\n",
    "    {\n",
    "      \"apikey\": \"${DEST_BUTTON_TYPE}\",\n",
    "      \"cbroker\": \"http://orion:1026\",\n",
    "      \"resource\": \"/iot/d\",\n",
    "      \"entity_type\": \"${DEST_BUTTON_TYPE}\"\n",
    "    }\n",
    "  ]\n",
    "}\n",
    "__EOS__"
   ]
  },
  {
   "cell_type": "markdown",
   "metadata": {},
   "source": [
    "example)\n",
    "```json\n",
    "{}\n",
    "```"
   ]
  },
  {
   "cell_type": "markdown",
   "metadata": {},
   "source": [
    "### confirm registered service"
   ]
  },
  {
   "cell_type": "code",
   "execution_count": null,
   "metadata": {
    "scrolled": false
   },
   "outputs": [],
   "source": [
    "TOKEN=$(cat ${CORE_ROOT}/secrets/auth-tokens.json | jq '.[0].settings.bearer_tokens[0].token' -r)\n",
    "curl -sS -H \"Authorization: bearer ${TOKEN}\" -H \"Fiware-Service: ${FIWARE_SERVICE}\" -H \"Fiware-Servicepath: ${DEST_BUTTON_SERVICEPATH}\" https://api.${DOMAIN}/idas/ul20/manage/iot/services/ | jq ."
   ]
  },
  {
   "cell_type": "markdown",
   "metadata": {},
   "source": [
    "example)\n",
    "```json\n",
    "{\n",
    "  \"count\": 1,\n",
    "  \"services\": [\n",
    "    {\n",
    "      \"commands\": [],\n",
    "      \"lazy\": [],\n",
    "      \"attributes\": [],\n",
    "      \"_id\": \"5cd63442a1fd25000f1a6bae\",\n",
    "      \"resource\": \"/iot/d\",\n",
    "      \"apikey\": \"button\",\n",
    "      \"service\": \"guide_demo\",\n",
    "      \"subservice\": \"/dest_button\",\n",
    "      \"__v\": 0,\n",
    "      \"static_attributes\": [],\n",
    "      \"internal_attributes\": [],\n",
    "      \"entity_type\": \"button\"\n",
    "    }\n",
    "  ]\n",
    "}\n",
    "```"
   ]
  },
  {
   "cell_type": "markdown",
   "metadata": {},
   "source": [
    "## register dest_button device"
   ]
  },
  {
   "cell_type": "code",
   "execution_count": null,
   "metadata": {
    "scrolled": false
   },
   "outputs": [],
   "source": [
    "TOKEN=$(cat ${CORE_ROOT}/secrets/auth-tokens.json | jq '.[0].settings.bearer_tokens[0].token' -r)\n",
    "curl -H \"Authorization: bearer ${TOKEN}\" -H \"Fiware-Service: ${FIWARE_SERVICE}\" -H \"Fiware-ServicePath: ${DEST_BUTTON_SERVICEPATH}\" -H \"Content-Type: application/json\" https://api.${DOMAIN}/idas/ul20/manage/iot/devices/ -X POST -d @- <<__EOS__\n",
    "{\n",
    "  \"devices\": [\n",
    "    {\n",
    "      \"device_id\": \"${DEST_BUTTON_ID}\",\n",
    "      \"entity_name\": \"${DEST_BUTTON_ID}\",\n",
    "      \"entity_type\": \"${DEST_BUTTON_TYPE}\",\n",
    "      \"timezone\": \"Asia/Tokyo\",\n",
    "      \"protocol\": \"UL20\",\n",
    "      \"attributes\": [\n",
    "        {\n",
    "          \"name\": \"push\",\n",
    "          \"type\": \"string\"\n",
    "        }\n",
    "      ],\n",
    "      \"transport\": \"AMQP\"\n",
    "    }\n",
    "  ]\n",
    "}\n",
    "__EOS__"
   ]
  },
  {
   "cell_type": "markdown",
   "metadata": {},
   "source": [
    "example)\n",
    "```json\n",
    "{}\n",
    "```"
   ]
  },
  {
   "cell_type": "markdown",
   "metadata": {},
   "source": [
    "### confirm registered device"
   ]
  },
  {
   "cell_type": "code",
   "execution_count": null,
   "metadata": {
    "scrolled": false
   },
   "outputs": [],
   "source": [
    "TOKEN=$(cat ${CORE_ROOT}/secrets/auth-tokens.json | jq '.[0].settings.bearer_tokens[0].token' -r)\n",
    "curl -sS -H \"Authorization: bearer ${TOKEN}\" -H \"Fiware-Service: ${FIWARE_SERVICE}\" -H \"Fiware-Servicepath: ${DEST_BUTTON_SERVICEPATH}\" https://api.${DOMAIN}/idas/ul20/manage/iot/devices/${DEST_BUTTON_ID}/ | jq ."
   ]
  },
  {
   "cell_type": "markdown",
   "metadata": {},
   "source": [
    "example)\n",
    "```json\n",
    "{\n",
    "  \"device_id\": \"button_01\",\n",
    "  \"service\": \"guide_demo\",\n",
    "  \"service_path\": \"/dest_button\",\n",
    "  \"entity_name\": \"button_01\",\n",
    "  \"entity_type\": \"button\",\n",
    "  \"transport\": \"AMQP\",\n",
    "  \"attributes\": [\n",
    "    {\n",
    "      \"object_id\": \"push\",\n",
    "      \"name\": \"push\",\n",
    "      \"type\": \"string\"\n",
    "    }\n",
    "  ],\n",
    "  \"lazy\": [],\n",
    "  \"commands\": [],\n",
    "  \"static_attributes\": [],\n",
    "  \"protocol\": \"UL20\"\n",
    "}\n",
    "```"
   ]
  },
  {
   "cell_type": "code",
   "execution_count": null,
   "metadata": {
    "scrolled": false
   },
   "outputs": [],
   "source": [
    "TOKEN=$(cat ${CORE_ROOT}/secrets/auth-tokens.json | jq '.[0].settings.bearer_tokens[0].token' -r)\n",
    "curl -sS -H \"Authorization: bearer ${TOKEN}\" -H \"Fiware-Service: ${FIWARE_SERVICE}\" -H \"Fiware-Servicepath: ${DEST_BUTTON_SERVICEPATH}\" https://api.${DOMAIN}/orion/v2/entities/${DEST_BUTTON_ID}/ | jq ."
   ]
  },
  {
   "cell_type": "markdown",
   "metadata": {},
   "source": [
    "example)\n",
    "```json\n",
    "{\n",
    "  \"id\": \"button_01\",\n",
    "  \"type\": \"button\",\n",
    "  \"TimeInstant\": {\n",
    "    \"type\": \"ISO8601\",\n",
    "    \"value\": \" \",\n",
    "    \"metadata\": {}\n",
    "  },\n",
    "  \"push\": {\n",
    "    \"type\": \"string\",\n",
    "    \"value\": \" \",\n",
    "    \"metadata\": {}\n",
    "  }\n",
    "}\n",
    "```"
   ]
  },
  {
   "cell_type": "markdown",
   "metadata": {},
   "source": [
    "### register `cygnus-mongo` as a subscriber of dest_button device"
   ]
  },
  {
   "cell_type": "code",
   "execution_count": null,
   "metadata": {
    "scrolled": false
   },
   "outputs": [],
   "source": [
    "TOKEN=$(cat ${CORE_ROOT}/secrets/auth-tokens.json | jq '.[0].settings.bearer_tokens[0].token' -r)\n",
    "curl -i -H \"Authorization: bearer ${TOKEN}\" -H \"Fiware-Service: ${FIWARE_SERVICE}\" -H \"Fiware-ServicePath: ${DEST_BUTTON_SERVICEPATH}\" -H \"Content-Type: application/json\" https://api.${DOMAIN}/orion/v2/subscriptions/ -X POST -d @- <<__EOS__\n",
    "{\n",
    "  \"subject\": {\n",
    "    \"entities\": [{\n",
    "      \"idPattern\": \"${DEST_BUTTON_ID}\",\n",
    "      \"type\": \"${DEST_BUTTON_TYPE}\"\n",
    "    }],\n",
    "    \"condition\": {\n",
    "      \"attrs\": [\"push\"]\n",
    "    }\n",
    "  },\n",
    "  \"notification\": {\n",
    "    \"http\": {\n",
    "      \"url\": \"http://cygnus-mongo:5050/notify\"\n",
    "    },\n",
    "    \"attrs\": [\"push\"],\n",
    "    \"attrsFormat\": \"legacy\"\n",
    "  }\n",
    "}\n",
    "__EOS__"
   ]
  },
  {
   "cell_type": "markdown",
   "metadata": {},
   "source": [
    "example)\n",
    "```\n",
    "HTTP/1.1 201 Created\n",
    "content-length: 0\n",
    "location: /v2/subscriptions/5cd6350bd9d5db2ffb119d17\n",
    "fiware-correlator: 8077aba4-7395-11e9-88b9-46b1c9ec8ccd\n",
    "date: Sat, 11 May 2019 02:35:55 GMT\n",
    "x-envoy-upstream-service-time: 4\n",
    "server: envoy\n",
    "```"
   ]
  },
  {
   "cell_type": "code",
   "execution_count": null,
   "metadata": {
    "scrolled": false
   },
   "outputs": [],
   "source": [
    "TOKEN=$(cat ${CORE_ROOT}/secrets/auth-tokens.json | jq '.[0].settings.bearer_tokens[0].token' -r)\n",
    "curl -sS -H \"Authorization: bearer ${TOKEN}\" -H \"Fiware-Service: ${FIWARE_SERVICE}\" -H \"Fiware-ServicePath: ${DEST_BUTTON_SERVICEPATH}\" https://api.${DOMAIN}/orion/v2/subscriptions/ | jq ."
   ]
  },
  {
   "cell_type": "markdown",
   "metadata": {},
   "source": [
    "example)\n",
    "```json\n",
    "[\n",
    "  {\n",
    "    \"id\": \"5cd6350bd9d5db2ffb119d17\",\n",
    "    \"status\": \"active\",\n",
    "    \"subject\": {\n",
    "      \"entities\": [\n",
    "        {\n",
    "          \"idPattern\": \"button_01\",\n",
    "          \"type\": \"button\"\n",
    "        }\n",
    "      ],\n",
    "      \"condition\": {\n",
    "        \"attrs\": [\n",
    "          \"push\"\n",
    "        ]\n",
    "      }\n",
    "    },\n",
    "    \"notification\": {\n",
    "      \"timesSent\": 1,\n",
    "      \"lastNotification\": \"2019-05-11T02:35:55.00Z\",\n",
    "      \"attrs\": [\n",
    "        \"push\"\n",
    "      ],\n",
    "      \"attrsFormat\": \"legacy\",\n",
    "      \"http\": {\n",
    "        \"url\": \"http://cygnus-mongo:5050/notify\"\n",
    "      },\n",
    "      \"lastSuccess\": \"2019-05-11T02:35:55.00Z\",\n",
    "      \"lastSuccessCode\": 200\n",
    "    }\n",
    "  }\n",
    "]\n",
    "```"
   ]
  },
  {
   "cell_type": "markdown",
   "metadata": {},
   "source": [
    "## register dest_led service"
   ]
  },
  {
   "cell_type": "code",
   "execution_count": null,
   "metadata": {
    "scrolled": false
   },
   "outputs": [],
   "source": [
    "TOKEN=$(cat ${CORE_ROOT}/secrets/auth-tokens.json | jq '.[0].settings.bearer_tokens[0].token' -r)\n",
    "curl -H \"Authorization: bearer ${TOKEN}\" -H \"Fiware-Service: ${FIWARE_SERVICE}\" -H \"Fiware-ServicePath: ${DEST_LED_SERVICEPATH}\" -H \"Content-Type: application/json\" https://api.${DOMAIN}/idas/ul20/manage/iot/services/ -X POST -d @- <<__EOS__\n",
    "{\n",
    "  \"services\": [\n",
    "    {\n",
    "      \"apikey\": \"${DEST_LED_TYPE}\",\n",
    "      \"cbroker\": \"http://orion:1026\",\n",
    "      \"resource\": \"/iot/d\",\n",
    "      \"entity_type\": \"${DEST_LED_TYPE}\"\n",
    "    }\n",
    "  ]\n",
    "}\n",
    "__EOS__"
   ]
  },
  {
   "cell_type": "markdown",
   "metadata": {},
   "source": [
    "example)\n",
    "```json\n",
    "{}\n",
    "```"
   ]
  },
  {
   "cell_type": "markdown",
   "metadata": {},
   "source": [
    "### confirm registered service"
   ]
  },
  {
   "cell_type": "code",
   "execution_count": null,
   "metadata": {
    "scrolled": false
   },
   "outputs": [],
   "source": [
    "TOKEN=$(cat ${CORE_ROOT}/secrets/auth-tokens.json | jq '.[0].settings.bearer_tokens[0].token' -r)\n",
    "curl -sS -H \"Authorization: bearer ${TOKEN}\" -H \"Fiware-Service: ${FIWARE_SERVICE}\" -H \"Fiware-Servicepath: ${DEST_LED_SERVICEPATH}\" https://api.${DOMAIN}/idas/ul20/manage/iot/services/ | jq ."
   ]
  },
  {
   "cell_type": "markdown",
   "metadata": {},
   "source": [
    "example)\n",
    "```json\n",
    "{\n",
    "  \"count\": 1,\n",
    "  \"services\": [\n",
    "    {\n",
    "      \"commands\": [],\n",
    "      \"lazy\": [],\n",
    "      \"attributes\": [],\n",
    "      \"_id\": \"5cd6390a1466750010c61da3\",\n",
    "      \"resource\": \"/iot/d\",\n",
    "      \"apikey\": \"led\",\n",
    "      \"service\": \"guide_demo\",\n",
    "      \"subservice\": \"/dest_led\",\n",
    "      \"__v\": 0,\n",
    "      \"static_attributes\": [],\n",
    "      \"internal_attributes\": [],\n",
    "      \"entity_type\": \"led\"\n",
    "    }\n",
    "  ]\n",
    "}\n",
    "```"
   ]
  },
  {
   "cell_type": "markdown",
   "metadata": {},
   "source": [
    "## register dest_led device"
   ]
  },
  {
   "cell_type": "code",
   "execution_count": null,
   "metadata": {
    "scrolled": false
   },
   "outputs": [],
   "source": [
    "TOKEN=$(cat ${CORE_ROOT}/secrets/auth-tokens.json | jq '.[0].settings.bearer_tokens[0].token' -r)\n",
    "curl -H \"Authorization: bearer ${TOKEN}\" -H \"Fiware-Service: ${FIWARE_SERVICE}\" -H \"Fiware-ServicePath: ${DEST_LED_SERVICEPATH}\" -H \"Content-Type: application/json\" https://api.${DOMAIN}/idas/ul20/manage/iot/devices/ -X POST -d @- <<__EOS__\n",
    "{\n",
    "  \"devices\": [\n",
    "    {\n",
    "      \"device_id\": \"${DEST_LED_ID}\",\n",
    "      \"entity_name\": \"${DEST_LED_ID}\",\n",
    "      \"entity_type\": \"${DEST_LED_TYPE}\",\n",
    "      \"timezone\": \"Asia/Tokyo\",\n",
    "      \"protocol\": \"UL20\",\n",
    "      \"commands\": [\n",
    "        {\n",
    "          \"name\": \"action\",\n",
    "          \"type\": \"string\"\n",
    "        }\n",
    "      ],\n",
    "      \"transport\": \"AMQP\"\n",
    "    }\n",
    "  ]\n",
    "}\n",
    "__EOS__"
   ]
  },
  {
   "cell_type": "markdown",
   "metadata": {},
   "source": [
    "example)\n",
    "```json\n",
    "{}\n",
    "```"
   ]
  },
  {
   "cell_type": "markdown",
   "metadata": {},
   "source": [
    "### confirm registered device"
   ]
  },
  {
   "cell_type": "code",
   "execution_count": null,
   "metadata": {
    "scrolled": false
   },
   "outputs": [],
   "source": [
    "TOKEN=$(cat ${CORE_ROOT}/secrets/auth-tokens.json | jq '.[0].settings.bearer_tokens[0].token' -r)\n",
    "curl -sS -H \"Authorization: bearer ${TOKEN}\" -H \"Fiware-Service: ${FIWARE_SERVICE}\" -H \"Fiware-Servicepath: ${DEST_LED_SERVICEPATH}\" https://api.${DOMAIN}/idas/ul20/manage/iot/devices/${DEST_LED_ID}/ | jq ."
   ]
  },
  {
   "cell_type": "markdown",
   "metadata": {},
   "source": [
    "example)\n",
    "```json\n",
    "{\n",
    "  \"device_id\": \"led_01\",\n",
    "  \"service\": \"guide_demo\",\n",
    "  \"service_path\": \"/dest_led\",\n",
    "  \"entity_name\": \"led_01\",\n",
    "  \"entity_type\": \"led\",\n",
    "  \"transport\": \"AMQP\",\n",
    "  \"attributes\": [],\n",
    "  \"lazy\": [],\n",
    "  \"commands\": [\n",
    "    {\n",
    "      \"object_id\": \"action\",\n",
    "      \"name\": \"action\",\n",
    "      \"type\": \"string\"\n",
    "    }\n",
    "  ],\n",
    "  \"static_attributes\": [],\n",
    "  \"protocol\": \"UL20\"\n",
    "}\n",
    "```"
   ]
  },
  {
   "cell_type": "code",
   "execution_count": null,
   "metadata": {
    "scrolled": false
   },
   "outputs": [],
   "source": [
    "TOKEN=$(cat ${CORE_ROOT}/secrets/auth-tokens.json | jq '.[0].settings.bearer_tokens[0].token' -r)\n",
    "curl -sS -H \"Authorization: bearer ${TOKEN}\" -H \"Fiware-Service: ${FIWARE_SERVICE}\" -H \"Fiware-Servicepath: ${DEST_LED_SERVICEPATH}\" https://api.${DOMAIN}/orion/v2/entities/${DEST_LED_ID}/ | jq ."
   ]
  },
  {
   "cell_type": "markdown",
   "metadata": {},
   "source": [
    "example)\n",
    "```json\n",
    "{\n",
    "  \"id\": \"led_01\",\n",
    "  \"type\": \"led\",\n",
    "  \"TimeInstant\": {\n",
    "    \"type\": \"ISO8601\",\n",
    "    \"value\": \" \",\n",
    "    \"metadata\": {}\n",
    "  },\n",
    "  \"action_info\": {\n",
    "    \"type\": \"commandResult\",\n",
    "    \"value\": \" \",\n",
    "    \"metadata\": {}\n",
    "  },\n",
    "  \"action_status\": {\n",
    "    \"type\": \"commandStatus\",\n",
    "    \"value\": \"UNKNOWN\",\n",
    "    \"metadata\": {}\n",
    "  },\n",
    "  \"action\": {\n",
    "    \"type\": \"string\",\n",
    "    \"value\": \"\",\n",
    "    \"metadata\": {}\n",
    "  }\n",
    "}\n",
    "```"
   ]
  },
  {
   "cell_type": "markdown",
   "metadata": {},
   "source": [
    "### register `cygnus-mongo` as a subscriber of dest_led device"
   ]
  },
  {
   "cell_type": "code",
   "execution_count": null,
   "metadata": {
    "scrolled": false
   },
   "outputs": [],
   "source": [
    "TOKEN=$(cat ${CORE_ROOT}/secrets/auth-tokens.json | jq '.[0].settings.bearer_tokens[0].token' -r)\n",
    "curl -i -H \"Authorization: bearer ${TOKEN}\" -H \"Fiware-Service: ${FIWARE_SERVICE}\" -H \"Fiware-ServicePath: ${DEST_LED_SERVICEPATH}\" -H \"Content-Type: application/json\" https://api.${DOMAIN}/orion/v2/subscriptions/ -X POST -d @- <<__EOS__\n",
    "{\n",
    "  \"subject\": {\n",
    "    \"entities\": [{\n",
    "      \"idPattern\": \"${DEST_LED_ID}\",\n",
    "      \"type\": \"${DEST_LED_TYPE}\"\n",
    "    }],\n",
    "    \"condition\": {\n",
    "      \"attrs\": [\"action_info\", \"action_status\"]\n",
    "    }\n",
    "  },\n",
    "  \"notification\": {\n",
    "    \"http\": {\n",
    "      \"url\": \"http://cygnus-mongo:5050/notify\"\n",
    "    },\n",
    "    \"attrs\": [\"action_info\", \"action_status\"],\n",
    "    \"attrsFormat\": \"legacy\"\n",
    "  }\n",
    "}\n",
    "__EOS__"
   ]
  },
  {
   "cell_type": "markdown",
   "metadata": {},
   "source": [
    "example)\n",
    "```\n",
    "HTTP/1.1 201 Created\n",
    "content-length: 0\n",
    "location: /v2/subscriptions/5cd63ae1d9d5db2ffb119d18\n",
    "fiware-correlator: fae114a4-7398-11e9-83e5-46b1c9ec8ccd\n",
    "date: Sat, 11 May 2019 03:00:48 GMT\n",
    "x-envoy-upstream-service-time: 4\n",
    "server: envoy\n",
    "```"
   ]
  },
  {
   "cell_type": "code",
   "execution_count": null,
   "metadata": {
    "scrolled": false
   },
   "outputs": [],
   "source": [
    "TOKEN=$(cat ${CORE_ROOT}/secrets/auth-tokens.json | jq '.[0].settings.bearer_tokens[0].token' -r)\n",
    "curl -sS -H \"Authorization: bearer ${TOKEN}\" -H \"Fiware-Service: ${FIWARE_SERVICE}\" -H \"Fiware-ServicePath: ${DEST_LED_SERVICEPATH}\" https://api.${DOMAIN}/orion/v2/subscriptions/ | jq ."
   ]
  },
  {
   "cell_type": "markdown",
   "metadata": {},
   "source": [
    "example)\n",
    "```json\n",
    "[\n",
    "  {\n",
    "    \"id\": \"5cd6350bd9d5db2ffb119d17\",\n",
    "    \"status\": \"active\",\n",
    "    \"subject\": {\n",
    "      \"entities\": [\n",
    "        {\n",
    "          \"idPattern\": \"button_01\",\n",
    "          \"type\": \"button\"\n",
    "        }\n",
    "      ],\n",
    "      \"condition\": {\n",
    "        \"attrs\": [\n",
    "          \"push\"\n",
    "        ]\n",
    "      }\n",
    "    },\n",
    "    \"notification\": {\n",
    "      \"timesSent\": 1,\n",
    "      \"lastNotification\": \"2019-05-11T02:35:55.00Z\",\n",
    "      \"attrs\": [\n",
    "        \"push\"\n",
    "      ],\n",
    "      \"attrsFormat\": \"legacy\",\n",
    "      \"http\": {\n",
    "        \"url\": \"http://cygnus-mongo:5050/notify\"\n",
    "      },\n",
    "      \"lastSuccess\": \"2019-05-11T02:35:55.00Z\",\n",
    "      \"lastSuccessCode\": 200\n",
    "    }\n",
    "  }\n",
    "]\n",
    "```"
   ]
  },
  {
   "cell_type": "markdown",
   "metadata": {},
   "source": [
    "## test comm_robot device"
   ]
  },
  {
   "cell_type": "markdown",
   "metadata": {},
   "source": [
    "### prepare a command to subscribe all topics"
   ]
  },
  {
   "cell_type": "code",
   "execution_count": null,
   "metadata": {
    "scrolled": false
   },
   "outputs": [],
   "source": [
    "echo \"mosquitto_sub -h mqtt.${DOMAIN} -p 8883 --cafile ${CORE_ROOT}/secrets/DST_Root_CA_X3.pem -d -u iotagent -P ${MQTT__iotagent} -t /#\""
   ]
  },
  {
   "cell_type": "markdown",
   "metadata": {},
   "source": [
    "### subscribe all topic"
   ]
  },
  {
   "cell_type": "markdown",
   "metadata": {},
   "source": [
    "_Outside of this notebook_\n",
    "1. open a ternminal.\n",
    "1. run the above command displayed `prepare a command to subscribe all topics`."
   ]
  },
  {
   "cell_type": "markdown",
   "metadata": {},
   "source": [
    "### publish a MQTT message to emulate receiving the event from comm_robot"
   ]
  },
  {
   "cell_type": "code",
   "execution_count": null,
   "metadata": {
    "scrolled": false
   },
   "outputs": [],
   "source": [
    "d=$(date '+%Y-%m-%dT%H:%M:%S.%s+09:00')\n",
    "mosquitto_pub -h mqtt.${DOMAIN} -p 8883 --cafile ${CORE_ROOT}/secrets/DST_Root_CA_X3.pem -d -u iotagent -P ${MQTT__iotagent} -t /${COMM_ROBOT_TYPE}/${COMM_ROBOT_ID}/attrs -m \"${d}|move|dest01\""
   ]
  },
  {
   "cell_type": "markdown",
   "metadata": {},
   "source": [
    "example)\n",
    "```\n",
    "Client mosq/E7sCzVC1BFNFCq27Gh sending CONNECT\n",
    "Client mosq/E7sCzVC1BFNFCq27Gh received CONNACK (0)\n",
    "Client mosq/E7sCzVC1BFNFCq27Gh sending PUBLISH (d0, q0, r0, m1, '/comm_robot/xperiahello_01/attrs', ... (47 bytes))\n",
    "Client mosq/E7sCzVC1BFNFCq27Gh sending DISCONNECT\n",
    "```"
   ]
  },
  {
   "cell_type": "markdown",
   "metadata": {},
   "source": [
    "when executing the above command, show below messages on the opened terminal.\n",
    "\n",
    "example)\n",
    "```\n",
    "Client mosq/A8qOmsuUfYwYuMDNBr received PUBLISH (d0, q0, r0, m0, '/comm_robot/xperiahello_01/attrs', ... (48 bytes))\n",
    "2019-05-11T10:28:01.1557538081+09:00|move|dest01\n",
    "```"
   ]
  },
  {
   "cell_type": "markdown",
   "metadata": {},
   "source": [
    "### confirm comm_robot entity"
   ]
  },
  {
   "cell_type": "code",
   "execution_count": null,
   "metadata": {
    "scrolled": false
   },
   "outputs": [],
   "source": [
    "TOKEN=$(cat ${CORE_ROOT}/secrets/auth-tokens.json | jq '.[0].settings.bearer_tokens[0].token' -r)\n",
    "curl -sS -H \"Authorization: bearer ${TOKEN}\" -H \"Fiware-Service: ${FIWARE_SERVICE}\" -H \"Fiware-Servicepath: ${COMM_ROBOT_SERVICEPATH}\" https://api.${DOMAIN}/orion/v2/entities/${COMM_ROBOT_ID}/ | jq ."
   ]
  },
  {
   "cell_type": "markdown",
   "metadata": {},
   "source": [
    "example)\n",
    "```json\n",
    "{\n",
    "  \"id\": \"xperiahello_01\",\n",
    "  \"type\": \"comm_robot\",\n",
    "  \"TimeInstant\": {\n",
    "    \"type\": \"ISO8601\",\n",
    "    \"value\": \"2019-05-11T10:28:01.1557538081+09:00\",\n",
    "    \"metadata\": {}\n",
    "  },\n",
    "  \"move\": {\n",
    "    \"type\": \"string\",\n",
    "    \"value\": \"dest01\",\n",
    "    \"metadata\": {\n",
    "      \"TimeInstant\": {\n",
    "        \"type\": \"ISO8601\",\n",
    "        \"value\": \"2019-05-11T10:28:01.1557538081+09:00\"\n",
    "      }\n",
    "    }\n",
    "  }\n",
    "}\n",
    "```"
   ]
  },
  {
   "cell_type": "markdown",
   "metadata": {},
   "source": [
    "### confirm cygnus-mongo"
   ]
  },
  {
   "cell_type": "code",
   "execution_count": null,
   "metadata": {
    "scrolled": true
   },
   "outputs": [],
   "source": [
    "kubectl exec mongodb-0 -c mongodb-replicaset -- mongo sth_${FIWARE_SERVICE} --eval \"db.getCollection(\\\"sth_${COMM_ROBOT_SERVICEPATH}_${COMM_ROBOT_ID}_${COMM_ROBOT_TYPE}\\\").find().sort({recvTime: -1})\""
   ]
  },
  {
   "cell_type": "markdown",
   "metadata": {},
   "source": [
    "example)\n",
    "```\n",
    "MongoDB shell version v4.1.10\n",
    "connecting to: mongodb://127.0.0.1:27017/sth_guide_demo?compressors=disabled&gssapiServiceName=mongodb\n",
    "Implicit session: session { \"id\" : UUID(\"5c2be38e-a546-452a-8147-1055f735f198\") }\n",
    "MongoDB server version: 4.1.10\n",
    "{ \"_id\" : ObjectId(\"5cd613e7130da800118c559e\"), \"recvTime\" : ISODate(\"2019-05-11T00:14:29.155Z\"), \"attrName\" : \"move\", \"attrType\" : \"string\", \"attrValue\" : \"dest01\" }\n",
    "```"
   ]
  },
  {
   "cell_type": "markdown",
   "metadata": {},
   "source": [
    "## test mobile_robot device"
   ]
  },
  {
   "cell_type": "markdown",
   "metadata": {},
   "source": [
    "### prepare a command to subscribe all topics"
   ]
  },
  {
   "cell_type": "code",
   "execution_count": null,
   "metadata": {
    "scrolled": false
   },
   "outputs": [],
   "source": [
    "echo \"mosquitto_sub -h mqtt.${DOMAIN} -p 8883 --cafile ${CORE_ROOT}/secrets/DST_Root_CA_X3.pem -d -u iotagent -P ${MQTT__iotagent} -t /#\""
   ]
  },
  {
   "cell_type": "markdown",
   "metadata": {},
   "source": [
    "### subscribe all topic"
   ]
  },
  {
   "cell_type": "markdown",
   "metadata": {},
   "source": [
    "_Outside of this notebook_\n",
    "1. open a ternminal.\n",
    "1. run the above command displayed `prepare a command to subscribe all topics`."
   ]
  },
  {
   "cell_type": "markdown",
   "metadata": {},
   "source": [
    "### update the move attribute of mobile_robot to emulate sending the command"
   ]
  },
  {
   "cell_type": "code",
   "execution_count": null,
   "metadata": {
    "scrolled": false
   },
   "outputs": [],
   "source": [
    "TOKEN=$(cat ${CORE_ROOT}/secrets/auth-tokens.json | jq '.[0].settings.bearer_tokens[0].token' -r)\n",
    "curl -i -H \"Authorization: bearer ${TOKEN}\" -H \"Fiware-Service: ${FIWARE_SERVICE}\" -H \"Fiware-Servicepath: ${MOBILE_ROBOT_SERVICEPATH}\" -H \"Content-Type: application/json\" https://api.${DOMAIN}/orion/v2/entities/${MOBILE_ROBOT_ID}/attrs?type=${MOBILE_ROBOT_TYPE} -X PATCH -d @-<<__EOS__\n",
    "{\n",
    "  \"move\": {\n",
    "    \"value\": \"up\"\n",
    "  }\n",
    "}\n",
    "__EOS__"
   ]
  },
  {
   "cell_type": "markdown",
   "metadata": {},
   "source": [
    "example)\n",
    "```\n",
    "HTTP/1.1 204 No Content\n",
    "content-length: 0\n",
    "fiware-correlator: 84b12a5e-738d-11e9-83e5-46b1c9ec8ccd\n",
    "date: Sat, 11 May 2019 01:38:46 GMT\n",
    "x-envoy-upstream-service-time: 71\n",
    "server: envoy\n",
    "```"
   ]
  },
  {
   "cell_type": "markdown",
   "metadata": {},
   "source": [
    "when executing the above command, show below messages on the opened terminal.\n",
    "\n",
    "example)\n",
    "```\n",
    "Client mosq/gZ1wcOVoAWYDodg8I6 received PUBLISH (d0, q0, r0, m0, '/mobile_robot/rosbot2_01/cmd', ... (18 bytes))\n",
    "rosbot2_01@move|up\n",
    "```"
   ]
  },
  {
   "cell_type": "markdown",
   "metadata": {},
   "source": [
    "### confirm mobile_robot entity"
   ]
  },
  {
   "cell_type": "code",
   "execution_count": null,
   "metadata": {
    "scrolled": false
   },
   "outputs": [],
   "source": [
    "TOKEN=$(cat ${CORE_ROOT}/secrets/auth-tokens.json | jq '.[0].settings.bearer_tokens[0].token' -r)\n",
    "curl -sS -H \"Authorization: bearer ${TOKEN}\" -H \"Fiware-Service: ${FIWARE_SERVICE}\" -H \"Fiware-Servicepath: ${MOBILE_ROBOT_SERVICEPATH}\" https://api.${DOMAIN}/orion/v2/entities/${MOBILE_ROBOT_ID}/ | jq ."
   ]
  },
  {
   "cell_type": "markdown",
   "metadata": {},
   "source": [
    "example)\n",
    "```json\n",
    "{\n",
    "  \"id\": \"rosbot2_01\",\n",
    "  \"type\": \"mobile_robot\",\n",
    "  \"TimeInstant\": {\n",
    "    \"type\": \"ISO8601\",\n",
    "    \"value\": \"2019-05-11T01:38:46.00Z\",\n",
    "    \"metadata\": {}\n",
    "  },\n",
    "  \"capacity\": {\n",
    "    \"type\": \"float32\",\n",
    "    \"value\": \" \",\n",
    "    \"metadata\": {}\n",
    "  },\n",
    "  \"charge\": {\n",
    "    \"type\": \"float32\",\n",
    "    \"value\": \" \",\n",
    "    \"metadata\": {}\n",
    "  },\n",
    "  \"current\": {\n",
    "    \"type\": \"float32\",\n",
    "    \"value\": \" \",\n",
    "    \"metadata\": {}\n",
    "  },\n",
    "  \"design_capacity\": {\n",
    "    \"type\": \"float32\",\n",
    "    \"value\": \" \",\n",
    "    \"metadata\": {}\n",
    "  },\n",
    "  \"move_info\": {\n",
    "    \"type\": \"commandResult\",\n",
    "    \"value\": \" \",\n",
    "    \"metadata\": {}\n",
    "  },\n",
    "  \"move_status\": {\n",
    "    \"type\": \"commandStatus\",\n",
    "    \"value\": \"PENDING\",\n",
    "    \"metadata\": {\n",
    "      \"TimeInstant\": {\n",
    "        \"type\": \"ISO8601\",\n",
    "        \"value\": \"2019-05-11T01:38:46.591Z\"\n",
    "      }\n",
    "    }\n",
    "  },\n",
    "  \"percentage\": {\n",
    "    \"type\": \"float32\",\n",
    "    \"value\": \" \",\n",
    "    \"metadata\": {}\n",
    "  },\n",
    "  \"r_mode\": {\n",
    "    \"type\": \"string\",\n",
    "    \"value\": \" \",\n",
    "    \"metadata\": {}\n",
    "  },\n",
    "  \"r_state\": {\n",
    "    \"type\": \"string\",\n",
    "    \"value\": \" \",\n",
    "    \"metadata\": {}\n",
    "  },\n",
    "  \"theta\": {\n",
    "    \"type\": \"float32\",\n",
    "    \"value\": \" \",\n",
    "    \"metadata\": {}\n",
    "  },\n",
    "  \"voltage\": {\n",
    "    \"type\": \"float32\",\n",
    "    \"value\": \" \",\n",
    "    \"metadata\": {}\n",
    "  },\n",
    "  \"x\": {\n",
    "    \"type\": \"float32\",\n",
    "    \"value\": \" \",\n",
    "    \"metadata\": {}\n",
    "  },\n",
    "  \"y\": {\n",
    "    \"type\": \"float32\",\n",
    "    \"value\": \" \",\n",
    "    \"metadata\": {}\n",
    "  },\n",
    "  \"move\": {\n",
    "    \"type\": \"string\",\n",
    "    \"value\": \"\",\n",
    "    \"metadata\": {}\n",
    "  }\n",
    "}\n",
    "```"
   ]
  },
  {
   "cell_type": "markdown",
   "metadata": {},
   "source": [
    "### publish a MQTT message to emulate receiving the command result from mobile_robot"
   ]
  },
  {
   "cell_type": "code",
   "execution_count": null,
   "metadata": {
    "scrolled": false
   },
   "outputs": [],
   "source": [
    "mosquitto_pub -h mqtt.${DOMAIN} -p 8883 --cafile ${CORE_ROOT}/secrets/DST_Root_CA_X3.pem -d -u iotagent -P ${MQTT__iotagent} -t /${MOBILE_ROBOT_TYPE}/${MOBILE_ROBOT_ID}/cmdexe -m \"${MOBILE_ROBOT_ID}@move|received up\""
   ]
  },
  {
   "cell_type": "markdown",
   "metadata": {},
   "source": [
    "example)\n",
    "```\n",
    "Client mosq/zmmwCxWFQSP0u6XAFN sending CONNECT\n",
    "Client mosq/zmmwCxWFQSP0u6XAFN received CONNACK (0)\n",
    "Client mosq/zmmwCxWFQSP0u6XAFN sending PUBLISH (d0, q0, r0, m1, '/mobile_robot/rosbot2_01/cmdexe', ... (27 bytes))\n",
    "Client mosq/zmmwCxWFQSP0u6XAFN sending DISCONNECT\n",
    "```"
   ]
  },
  {
   "cell_type": "markdown",
   "metadata": {},
   "source": [
    "when executing the above command, show below messages on the opened terminal.\n",
    "\n",
    "example)\n",
    "```\n",
    "Client mosq/gZ1wcOVoAWYDodg8I6 received PUBLISH (d0, q0, r0, m0, '/mobile_robot/rosbot2_01/cmdexe', ... (27 bytes))\n",
    "rosbot2_01@move|received up\n",
    "```"
   ]
  },
  {
   "cell_type": "markdown",
   "metadata": {},
   "source": [
    "### confirm mobile_robot entity"
   ]
  },
  {
   "cell_type": "code",
   "execution_count": null,
   "metadata": {
    "scrolled": false
   },
   "outputs": [],
   "source": [
    "TOKEN=$(cat ${CORE_ROOT}/secrets/auth-tokens.json | jq '.[0].settings.bearer_tokens[0].token' -r)\n",
    "curl -sS -H \"Authorization: bearer ${TOKEN}\" -H \"Fiware-Service: ${FIWARE_SERVICE}\" -H \"Fiware-Servicepath: ${MOBILE_ROBOT_SERVICEPATH}\" https://api.${DOMAIN}/orion/v2/entities/${MOBILE_ROBOT_ID}/ | jq ."
   ]
  },
  {
   "cell_type": "markdown",
   "metadata": {},
   "source": [
    "example)\n",
    "```json\n",
    "{\n",
    "  \"id\": \"rosbot2_01\",\n",
    "  \"type\": \"mobile_robot\",\n",
    "  \"TimeInstant\": {\n",
    "    \"type\": \"ISO8601\",\n",
    "    \"value\": \"2019-05-11T01:46:43.00Z\",\n",
    "    \"metadata\": {}\n",
    "  },\n",
    "  \"capacity\": {\n",
    "    \"type\": \"float32\",\n",
    "    \"value\": \" \",\n",
    "    \"metadata\": {}\n",
    "  },\n",
    "  \"charge\": {\n",
    "    \"type\": \"float32\",\n",
    "    \"value\": \" \",\n",
    "    \"metadata\": {}\n",
    "  },\n",
    "  \"current\": {\n",
    "    \"type\": \"float32\",\n",
    "    \"value\": \" \",\n",
    "    \"metadata\": {}\n",
    "  },\n",
    "  \"design_capacity\": {\n",
    "    \"type\": \"float32\",\n",
    "    \"value\": \" \",\n",
    "    \"metadata\": {}\n",
    "  },\n",
    "  \"move_info\": {\n",
    "    \"type\": \"commandResult\",\n",
    "    \"value\": \"received up\",\n",
    "    \"metadata\": {\n",
    "      \"TimeInstant\": {\n",
    "        \"type\": \"ISO8601\",\n",
    "        \"value\": \"2019-05-11T01:46:43.407Z\"\n",
    "      }\n",
    "    }\n",
    "  },\n",
    "  \"move_status\": {\n",
    "    \"type\": \"commandStatus\",\n",
    "    \"value\": \"OK\",\n",
    "    \"metadata\": {\n",
    "      \"TimeInstant\": {\n",
    "        \"type\": \"ISO8601\",\n",
    "        \"value\": \"2019-05-11T01:46:43.407Z\"\n",
    "      }\n",
    "    }\n",
    "  },\n",
    "  \"percentage\": {\n",
    "    \"type\": \"float32\",\n",
    "    \"value\": \" \",\n",
    "    \"metadata\": {}\n",
    "  },\n",
    "  \"r_mode\": {\n",
    "    \"type\": \"string\",\n",
    "    \"value\": \" \",\n",
    "    \"metadata\": {}\n",
    "  },\n",
    "  \"r_state\": {\n",
    "    \"type\": \"string\",\n",
    "    \"value\": \" \",\n",
    "    \"metadata\": {}\n",
    "  },\n",
    "  \"theta\": {\n",
    "    \"type\": \"float32\",\n",
    "    \"value\": \" \",\n",
    "    \"metadata\": {}\n",
    "  },\n",
    "  \"voltage\": {\n",
    "    \"type\": \"float32\",\n",
    "    \"value\": \" \",\n",
    "    \"metadata\": {}\n",
    "  },\n",
    "  \"x\": {\n",
    "    \"type\": \"float32\",\n",
    "    \"value\": \" \",\n",
    "    \"metadata\": {}\n",
    "  },\n",
    "  \"y\": {\n",
    "    \"type\": \"float32\",\n",
    "    \"value\": \" \",\n",
    "    \"metadata\": {}\n",
    "  },\n",
    "  \"move\": {\n",
    "    \"type\": \"string\",\n",
    "    \"value\": \"\",\n",
    "    \"metadata\": {}\n",
    "  }\n",
    "}\n",
    "```"
   ]
  },
  {
   "cell_type": "markdown",
   "metadata": {},
   "source": [
    "### confirm cygnus-mongo"
   ]
  },
  {
   "cell_type": "code",
   "execution_count": null,
   "metadata": {
    "scrolled": true
   },
   "outputs": [],
   "source": [
    "kubectl exec mongodb-0 -c mongodb-replicaset -- mongo sth_${FIWARE_SERVICE} --eval \"db.getCollection(\\\"sth_${MOBILE_ROBOT_SERVICEPATH}_${MOBILE_ROBOT_ID}_${MOBILE_ROBOT_TYPE}\\\").find().sort({recvTime: -1})\""
   ]
  },
  {
   "cell_type": "markdown",
   "metadata": {},
   "source": [
    "example)\n",
    "```\n",
    "MongoDB shell version v4.1.10\n",
    "connecting to: mongodb://127.0.0.1:27017/sth_guide_demo?compressors=disabled&gssapiServiceName=mongodb\n",
    "Implicit session: session { \"id\" : UUID(\"e60b18fb-76ee-4955-9249-60ed30f1fb66\") }\n",
    "MongoDB server version: 4.1.10\n",
    "{ \"_id\" : ObjectId(\"5cd6298641f12a0011c4e5a4\"), \"recvTime\" : ISODate(\"2019-05-11T01:46:43.407Z\"), \"attrName\" : \"move_status\", \"attrType\" : \"commandStatus\", \"attrValue\" : \"OK\" }\n",
    "{ \"_id\" : ObjectId(\"5cd6298641f12a0011c4e5a5\"), \"recvTime\" : ISODate(\"2019-05-11T01:46:43.407Z\"), \"attrName\" : \"move_info\", \"attrType\" : \"commandResult\", \"attrValue\" : \"received up\" }\n",
    "{ \"_id\" : ObjectId(\"5cd627a641f12a0011c4e5a3\"), \"recvTime\" : ISODate(\"2019-05-11T01:38:46.591Z\"), \"attrName\" : \"move_status\", \"attrType\" : \"commandStatus\", \"attrValue\" : \"PENDING\" }\n",
    "{ \"_id\" : ObjectId(\"5cd620e441f12a0011c4e5a0\"), \"recvTime\" : ISODate(\"2019-05-11T01:09:53.842Z\"), \"attrName\" : \"move_status\", \"attrType\" : \"commandStatus\", \"attrValue\" : \"UNKNOWN\" }\n",
    "{ \"_id\" : ObjectId(\"5cd61943130da800118c559f\"), \"recvTime\" : ISODate(\"2019-05-11T00:37:20.750Z\"), \"attrName\" : \"move_status\", \"attrType\" : \"commandStatus\", \"attrValue\" : \"UNKNOWN\" }\n",
    "```"
   ]
  },
  {
   "cell_type": "markdown",
   "metadata": {},
   "source": [
    "### publish a MQTT message to emulate receiving the internal state of mobile_robot"
   ]
  },
  {
   "cell_type": "code",
   "execution_count": null,
   "metadata": {
    "scrolled": false
   },
   "outputs": [],
   "source": [
    "d=$(date '+%Y-%m-%dT%H:%M:%S.%s+09:00')\n",
    "mosquitto_pub -h mqtt.${DOMAIN} -p 8883 --cafile ${CORE_ROOT}/secrets/DST_Root_CA_X3.pem -d -u iotagent -P ${MQTT__iotagent} -t /${MOBILE_ROBOT_TYPE}/${MOBILE_ROBOT_ID}/attrs -m \"${d}|r_mode|navi\""
   ]
  },
  {
   "cell_type": "markdown",
   "metadata": {},
   "source": [
    "example)\n",
    "```\n",
    "Client mosq/2ykUaqktpEWPLuk0sv sending CONNECT\n",
    "Client mosq/2ykUaqktpEWPLuk0sv received CONNACK (0)\n",
    "Client mosq/2ykUaqktpEWPLuk0sv sending PUBLISH (d0, q0, r0, m1, '/mobile_robot/rosbot2_01/attrs', ... (48 bytes))\n",
    "Client mosq/2ykUaqktpEWPLuk0sv sending DISCONNECT\n",
    "```"
   ]
  },
  {
   "cell_type": "markdown",
   "metadata": {},
   "source": [
    "when executing the above command, show below messages on the opened terminal.\n",
    "\n",
    "example)\n",
    "```\n",
    "Client mosq/gZ1wcOVoAWYDodg8I6 received PUBLISH (d0, q0, r0, m0, '/mobile_robot/rosbot2_01/attrs', ... (48 bytes))\n",
    "2019-05-11T10:57:10.1557539830+09:00|r_mode|navi\n",
    "```"
   ]
  },
  {
   "cell_type": "markdown",
   "metadata": {},
   "source": [
    "### confirm mobile_robot entity"
   ]
  },
  {
   "cell_type": "code",
   "execution_count": null,
   "metadata": {
    "scrolled": false
   },
   "outputs": [],
   "source": [
    "TOKEN=$(cat ${CORE_ROOT}/secrets/auth-tokens.json | jq '.[0].settings.bearer_tokens[0].token' -r)\n",
    "curl -sS -H \"Authorization: bearer ${TOKEN}\" -H \"Fiware-Service: ${FIWARE_SERVICE}\" -H \"Fiware-Servicepath: ${MOBILE_ROBOT_SERVICEPATH}\" https://api.${DOMAIN}/orion/v2/entities/${MOBILE_ROBOT_ID}/ | jq ."
   ]
  },
  {
   "cell_type": "markdown",
   "metadata": {},
   "source": [
    "example)\n",
    "```json\n",
    "{\n",
    "  \"id\": \"rosbot2_01\",\n",
    "  \"type\": \"mobile_robot\",\n",
    "  \"TimeInstant\": {\n",
    "    \"type\": \"ISO8601\",\n",
    "    \"value\": \"2019-05-11T10:57:10.1557539830+09:00\",\n",
    "    \"metadata\": {}\n",
    "  },\n",
    "  \"capacity\": {\n",
    "    \"type\": \"float32\",\n",
    "    \"value\": \" \",\n",
    "    \"metadata\": {}\n",
    "  },\n",
    "  \"charge\": {\n",
    "    \"type\": \"float32\",\n",
    "    \"value\": \" \",\n",
    "    \"metadata\": {}\n",
    "  },\n",
    "  \"current\": {\n",
    "    \"type\": \"float32\",\n",
    "    \"value\": \" \",\n",
    "    \"metadata\": {}\n",
    "  },\n",
    "  \"design_capacity\": {\n",
    "    \"type\": \"float32\",\n",
    "    \"value\": \" \",\n",
    "    \"metadata\": {}\n",
    "  },\n",
    "  \"move_info\": {\n",
    "    \"type\": \"commandResult\",\n",
    "    \"value\": \"received up\",\n",
    "    \"metadata\": {\n",
    "      \"TimeInstant\": {\n",
    "        \"type\": \"ISO8601\",\n",
    "        \"value\": \"2019-05-11T01:46:43.407Z\"\n",
    "      }\n",
    "    }\n",
    "  },\n",
    "  \"move_status\": {\n",
    "    \"type\": \"commandStatus\",\n",
    "    \"value\": \"OK\",\n",
    "    \"metadata\": {\n",
    "      \"TimeInstant\": {\n",
    "        \"type\": \"ISO8601\",\n",
    "        \"value\": \"2019-05-11T01:46:43.407Z\"\n",
    "      }\n",
    "    }\n",
    "  },\n",
    "  \"percentage\": {\n",
    "    \"type\": \"float32\",\n",
    "    \"value\": \" \",\n",
    "    \"metadata\": {}\n",
    "  },\n",
    "  \"r_mode\": {\n",
    "    \"type\": \"string\",\n",
    "    \"value\": \"navi\",\n",
    "    \"metadata\": {\n",
    "      \"TimeInstant\": {\n",
    "        \"type\": \"ISO8601\",\n",
    "        \"value\": \"2019-05-11T10:57:10.1557539830+09:00\"\n",
    "      }\n",
    "    }\n",
    "  },\n",
    "  \"r_state\": {\n",
    "    \"type\": \"string\",\n",
    "    \"value\": \" \",\n",
    "    \"metadata\": {}\n",
    "  },\n",
    "  \"theta\": {\n",
    "    \"type\": \"float32\",\n",
    "    \"value\": \" \",\n",
    "    \"metadata\": {}\n",
    "  },\n",
    "  \"voltage\": {\n",
    "    \"type\": \"float32\",\n",
    "    \"value\": \" \",\n",
    "    \"metadata\": {}\n",
    "  },\n",
    "  \"x\": {\n",
    "    \"type\": \"float32\",\n",
    "    \"value\": \" \",\n",
    "    \"metadata\": {}\n",
    "  },\n",
    "  \"y\": {\n",
    "    \"type\": \"float32\",\n",
    "    \"value\": \" \",\n",
    "    \"metadata\": {}\n",
    "  },\n",
    "  \"move\": {\n",
    "    \"type\": \"string\",\n",
    "    \"value\": \"\",\n",
    "    \"metadata\": {}\n",
    "  }\n",
    "}\n",
    "```"
   ]
  },
  {
   "cell_type": "markdown",
   "metadata": {},
   "source": [
    "### confirm cygnus-mongo"
   ]
  },
  {
   "cell_type": "code",
   "execution_count": null,
   "metadata": {
    "scrolled": true
   },
   "outputs": [],
   "source": [
    "kubectl exec mongodb-0 -c mongodb-replicaset -- mongo sth_${FIWARE_SERVICE} --eval \"db.getCollection(\\\"sth_${MOBILE_ROBOT_SERVICEPATH}_${MOBILE_ROBOT_ID}_${MOBILE_ROBOT_TYPE}\\\").find().sort({recvTime: -1})\""
   ]
  },
  {
   "cell_type": "markdown",
   "metadata": {},
   "source": [
    "example)\n",
    "```\n",
    "MongoDB shell version v4.1.10\n",
    "connecting to: mongodb://127.0.0.1:27017/sth_guide_demo?compressors=disabled&gssapiServiceName=mongodb\n",
    "Implicit session: session { \"id\" : UUID(\"292767da-6c76-4f5a-9bee-3a86861b46b5\") }\n",
    "MongoDB server version: 4.1.10\n",
    "{ \"_id\" : ObjectId(\"5cd62bf541f12a0011c4e5a6\"), \"recvTime\" : ISODate(\"2019-05-11T01:57:10.155Z\"), \"attrName\" : \"r_mode\", \"attrType\" : \"string\", \"attrValue\" : \"Navi\" }\n",
    "...\n",
    "```"
   ]
  },
  {
   "cell_type": "markdown",
   "metadata": {},
   "source": [
    "### publish a MQTT message to emulate receiving the position of mobile_robot"
   ]
  },
  {
   "cell_type": "code",
   "execution_count": null,
   "metadata": {
    "scrolled": false
   },
   "outputs": [],
   "source": [
    "d=$(date '+%Y-%m-%dT%H:%M:%S.%s+09:00')\n",
    "mosquitto_pub -h mqtt.${DOMAIN} -p 8883 --cafile ${CORE_ROOT}/secrets/DST_Root_CA_X3.pem -d -u iotagent -P ${MQTT__iotagent} -t /${MOBILE_ROBOT_TYPE}/${MOBILE_ROBOT_ID}/attrs -m \"${d}|x|1.05|y|0.01|theta|0.05\""
   ]
  },
  {
   "cell_type": "markdown",
   "metadata": {},
   "source": [
    "example)\n",
    "```\n",
    "Client mosq/itDkLV5rOf9bbMdgSq sending CONNECT\n",
    "Client mosq/itDkLV5rOf9bbMdgSq received CONNACK (0)\n",
    "Client mosq/itDkLV5rOf9bbMdgSq sending PUBLISH (d0, q0, r0, m1, '/mobile_robot/rosbot2_01/attrs', ... (61 bytes))\n",
    "Client mosq/itDkLV5rOf9bbMdgSq sending DISCONNECT\n",
    "```"
   ]
  },
  {
   "cell_type": "markdown",
   "metadata": {},
   "source": [
    "when executing the above command, show below messages on the opened terminal.\n",
    "\n",
    "example)\n",
    "```\n",
    "Client mosq/gZ1wcOVoAWYDodg8I6 received PUBLISH (d0, q0, r0, m0, '/mobile_robot/rosbot2_01/attrs', ... (61 bytes))\n",
    "2019-05-11T11:19:53.1557541193+09:00|x|1.05|y|0.01|theta|0.05\n",
    "```"
   ]
  },
  {
   "cell_type": "markdown",
   "metadata": {},
   "source": [
    "### confirm mobile_robot entity"
   ]
  },
  {
   "cell_type": "code",
   "execution_count": null,
   "metadata": {
    "scrolled": false
   },
   "outputs": [],
   "source": [
    "TOKEN=$(cat ${CORE_ROOT}/secrets/auth-tokens.json | jq '.[0].settings.bearer_tokens[0].token' -r)\n",
    "curl -sS -H \"Authorization: bearer ${TOKEN}\" -H \"Fiware-Service: ${FIWARE_SERVICE}\" -H \"Fiware-Servicepath: ${MOBILE_ROBOT_SERVICEPATH}\" https://api.${DOMAIN}/orion/v2/entities/${MOBILE_ROBOT_ID}/ | jq ."
   ]
  },
  {
   "cell_type": "markdown",
   "metadata": {},
   "source": [
    "example)\n",
    "```json\n",
    "{\n",
    "  \"id\": \"rosbot2_01\",\n",
    "  \"type\": \"mobile_robot\",\n",
    "  \"TimeInstant\": {\n",
    "    \"type\": \"ISO8601\",\n",
    "    \"value\": \"2019-05-11T11:19:53.1557541193+09:00\",\n",
    "    \"metadata\": {}\n",
    "  },\n",
    "  \"capacity\": {\n",
    "    \"type\": \"float32\",\n",
    "    \"value\": \" \",\n",
    "    \"metadata\": {}\n",
    "  },\n",
    "  \"charge\": {\n",
    "    \"type\": \"float32\",\n",
    "    \"value\": \" \",\n",
    "    \"metadata\": {}\n",
    "  },\n",
    "  \"current\": {\n",
    "    \"type\": \"float32\",\n",
    "    \"value\": \" \",\n",
    "    \"metadata\": {}\n",
    "  },\n",
    "  \"design_capacity\": {\n",
    "    \"type\": \"float32\",\n",
    "    \"value\": \" \",\n",
    "    \"metadata\": {}\n",
    "  },\n",
    "  \"move_info\": {\n",
    "    \"type\": \"commandResult\",\n",
    "    \"value\": \"received up\",\n",
    "    \"metadata\": {\n",
    "      \"TimeInstant\": {\n",
    "        \"type\": \"ISO8601\",\n",
    "        \"value\": \"2019-05-11T01:46:43.407Z\"\n",
    "      }\n",
    "    }\n",
    "  },\n",
    "  \"move_status\": {\n",
    "    \"type\": \"commandStatus\",\n",
    "    \"value\": \"OK\",\n",
    "    \"metadata\": {\n",
    "      \"TimeInstant\": {\n",
    "        \"type\": \"ISO8601\",\n",
    "        \"value\": \"2019-05-11T01:46:43.407Z\"\n",
    "      }\n",
    "    }\n",
    "  },\n",
    "  \"percentage\": {\n",
    "    \"type\": \"float32\",\n",
    "    \"value\": \" \",\n",
    "    \"metadata\": {}\n",
    "  },\n",
    "  \"r_mode\": {\n",
    "    \"type\": \"string\",\n",
    "    \"value\": \"Navi\",\n",
    "    \"metadata\": {\n",
    "      \"TimeInstant\": {\n",
    "        \"type\": \"ISO8601\",\n",
    "        \"value\": \"2019-05-11T10:57:10.1557539830+09:00\"\n",
    "      }\n",
    "    }\n",
    "  },\n",
    "  \"r_state\": {\n",
    "    \"type\": \"string\",\n",
    "    \"value\": \" \",\n",
    "    \"metadata\": {}\n",
    "  },\n",
    "  \"theta\": {\n",
    "    \"type\": \"float32\",\n",
    "    \"value\": \"0.05\",\n",
    "    \"metadata\": {\n",
    "      \"TimeInstant\": {\n",
    "        \"type\": \"ISO8601\",\n",
    "        \"value\": \"2019-05-11T11:19:53.1557541193+09:00\"\n",
    "      }\n",
    "    }\n",
    "  },\n",
    "  \"voltage\": {\n",
    "    \"type\": \"float32\",\n",
    "    \"value\": \" \",\n",
    "    \"metadata\": {}\n",
    "  },\n",
    "  \"x\": {\n",
    "    \"type\": \"float32\",\n",
    "    \"value\": \"1.05\",\n",
    "    \"metadata\": {\n",
    "      \"TimeInstant\": {\n",
    "        \"type\": \"ISO8601\",\n",
    "        \"value\": \"2019-05-11T11:19:53.1557541193+09:00\"\n",
    "      }\n",
    "    }\n",
    "  },\n",
    "  \"y\": {\n",
    "    \"type\": \"float32\",\n",
    "    \"value\": \"0.01\",\n",
    "    \"metadata\": {\n",
    "      \"TimeInstant\": {\n",
    "        \"type\": \"ISO8601\",\n",
    "        \"value\": \"2019-05-11T11:19:53.1557541193+09:00\"\n",
    "      }\n",
    "    }\n",
    "  },\n",
    "  \"move\": {\n",
    "    \"type\": \"string\",\n",
    "    \"value\": \"\",\n",
    "    \"metadata\": {}\n",
    "  }\n",
    "}\n",
    "```"
   ]
  },
  {
   "cell_type": "markdown",
   "metadata": {},
   "source": [
    "### confirm cygnus-mongo"
   ]
  },
  {
   "cell_type": "code",
   "execution_count": null,
   "metadata": {
    "scrolled": false
   },
   "outputs": [],
   "source": [
    "kubectl exec mongodb-0 -c mongodb-replicaset -- mongo sth_${FIWARE_SERVICE} --eval \"db.getCollection(\\\"sth_${MOBILE_ROBOT_SERVICEPATH}_${MOBILE_ROBOT_ID}_${MOBILE_ROBOT_TYPE}\\\").find().sort({recvTime: -1})\""
   ]
  },
  {
   "cell_type": "markdown",
   "metadata": {},
   "source": [
    "example)\n",
    "```\n",
    "MongoDB shell version v4.1.10\n",
    "connecting to: mongodb://127.0.0.1:27017/sth_guide_demo?compressors=disabled&gssapiServiceName=mongodb\n",
    "Implicit session: session { \"id\" : UUID(\"488d73df-3ae2-4602-965d-1c84a8d2f6e1\") }\n",
    "MongoDB server version: 4.1.10\n",
    "{ \"_id\" : ObjectId(\"5cd6314a130da800118c55a1\"), \"recvTime\" : ISODate(\"2019-05-11T02:19:53.155Z\"), \"attrName\" : \"x\", \"attrType\" : \"float32\", \"attrValue\" : \"1.05\" }\n",
    "{ \"_id\" : ObjectId(\"5cd6314a130da800118c55a2\"), \"recvTime\" : ISODate(\"2019-05-11T02:19:53.155Z\"), \"attrName\" : \"y\", \"attrType\" : \"float32\", \"attrValue\" : \"0.01\" }\n",
    "{ \"_id\" : ObjectId(\"5cd6314a130da800118c55a3\"), \"recvTime\" : ISODate(\"2019-05-11T02:19:53.155Z\"), \"attrName\" : \"theta\", \"attrType\" : \"float32\", \"attrValue\" : \"0.05\" }\n",
    "...\n",
    "```"
   ]
  },
  {
   "cell_type": "markdown",
   "metadata": {},
   "source": [
    "### publish a MQTT message to emulate receiving the battery state of mobile_robot"
   ]
  },
  {
   "cell_type": "code",
   "execution_count": null,
   "metadata": {
    "scrolled": false
   },
   "outputs": [],
   "source": [
    "d=$(date '+%Y-%m-%dT%H:%M:%S.%s+09:00')\n",
    "mosquitto_pub -h mqtt.${DOMAIN} -p 8883 --cafile ${CORE_ROOT}/secrets/DST_Root_CA_X3.pem -d -u iotagent -P ${MQTT__iotagent} -t /${MOBILE_ROBOT_TYPE}/${MOBILE_ROBOT_ID}/attrs -m \"${d}|voltage|11.73|current|0.25|charge|0.0|capacity|0.0|design_capacity|0.0|percentage|95.0\""
   ]
  },
  {
   "cell_type": "markdown",
   "metadata": {},
   "source": [
    "example)\n",
    "```\n",
    "Client mosq/9c5dtJqZt4CN0ZuPUg sending CONNECT\n",
    "Client mosq/9c5dtJqZt4CN0ZuPUg received CONNACK (0)\n",
    "Client mosq/9c5dtJqZt4CN0ZuPUg sending PUBLISH (d0, q0, r0, m1, '/mobile_robot/rosbot2_01/attrs', ... (123 bytes))\n",
    "Client mosq/9c5dtJqZt4CN0ZuPUg sending DISCONNECT\n",
    "```"
   ]
  },
  {
   "cell_type": "markdown",
   "metadata": {},
   "source": [
    "when executing the above command, show below messages on the opened terminal.\n",
    "\n",
    "example)\n",
    "```\n",
    "Client mosq/gZ1wcOVoAWYDodg8I6 received PUBLISH (d0, q0, r0, m0, '/mobile_robot/rosbot2_01/attrs', ... (123 bytes))\n",
    "2019-05-11T11:23:13.1557541393+09:00|voltage|11.73|current|0.25|charge|0.0|capacity|0.0|design_capacity|0.0|percentage|95.0\n",
    "```"
   ]
  },
  {
   "cell_type": "markdown",
   "metadata": {},
   "source": [
    "### confirm mobile_robot entity"
   ]
  },
  {
   "cell_type": "code",
   "execution_count": null,
   "metadata": {
    "scrolled": false
   },
   "outputs": [],
   "source": [
    "TOKEN=$(cat ${CORE_ROOT}/secrets/auth-tokens.json | jq '.[0].settings.bearer_tokens[0].token' -r)\n",
    "curl -sS -H \"Authorization: bearer ${TOKEN}\" -H \"Fiware-Service: ${FIWARE_SERVICE}\" -H \"Fiware-Servicepath: ${MOBILE_ROBOT_SERVICEPATH}\" https://api.${DOMAIN}/orion/v2/entities/${MOBILE_ROBOT_ID}/ | jq ."
   ]
  },
  {
   "cell_type": "markdown",
   "metadata": {},
   "source": [
    "example)\n",
    "```json\n",
    "{\n",
    "  \"id\": \"rosbot2_01\",\n",
    "  \"type\": \"mobile_robot\",\n",
    "  \"TimeInstant\": {\n",
    "    \"type\": \"ISO8601\",\n",
    "    \"value\": \"2019-05-11T11:23:13.1557541393+09:00\",\n",
    "    \"metadata\": {}\n",
    "  },\n",
    "  \"capacity\": {\n",
    "    \"type\": \"float32\",\n",
    "    \"value\": \"0.0\",\n",
    "    \"metadata\": {\n",
    "      \"TimeInstant\": {\n",
    "        \"type\": \"ISO8601\",\n",
    "        \"value\": \"2019-05-11T11:23:13.1557541393+09:00\"\n",
    "      }\n",
    "    }\n",
    "  },\n",
    "  \"charge\": {\n",
    "    \"type\": \"float32\",\n",
    "    \"value\": \"0.0\",\n",
    "    \"metadata\": {\n",
    "      \"TimeInstant\": {\n",
    "        \"type\": \"ISO8601\",\n",
    "        \"value\": \"2019-05-11T11:23:13.1557541393+09:00\"\n",
    "      }\n",
    "    }\n",
    "  },\n",
    "  \"current\": {\n",
    "    \"type\": \"float32\",\n",
    "    \"value\": \"0.25\",\n",
    "    \"metadata\": {\n",
    "      \"TimeInstant\": {\n",
    "        \"type\": \"ISO8601\",\n",
    "        \"value\": \"2019-05-11T11:23:13.1557541393+09:00\"\n",
    "      }\n",
    "    }\n",
    "  },\n",
    "  \"design_capacity\": {\n",
    "    \"type\": \"float32\",\n",
    "    \"value\": \"0.0\",\n",
    "    \"metadata\": {\n",
    "      \"TimeInstant\": {\n",
    "        \"type\": \"ISO8601\",\n",
    "        \"value\": \"2019-05-11T11:23:13.1557541393+09:00\"\n",
    "      }\n",
    "    }\n",
    "  },\n",
    "  \"move_info\": {\n",
    "    \"type\": \"commandResult\",\n",
    "    \"value\": \"received up\",\n",
    "    \"metadata\": {\n",
    "      \"TimeInstant\": {\n",
    "        \"type\": \"ISO8601\",\n",
    "        \"value\": \"2019-05-11T01:46:43.407Z\"\n",
    "      }\n",
    "    }\n",
    "  },\n",
    "  \"move_status\": {\n",
    "    \"type\": \"commandStatus\",\n",
    "    \"value\": \"OK\",\n",
    "    \"metadata\": {\n",
    "      \"TimeInstant\": {\n",
    "        \"type\": \"ISO8601\",\n",
    "        \"value\": \"2019-05-11T01:46:43.407Z\"\n",
    "      }\n",
    "    }\n",
    "  },\n",
    "  \"percentage\": {\n",
    "    \"type\": \"float32\",\n",
    "    \"value\": \"95.0\",\n",
    "    \"metadata\": {\n",
    "      \"TimeInstant\": {\n",
    "        \"type\": \"ISO8601\",\n",
    "        \"value\": \"2019-05-11T11:23:13.1557541393+09:00\"\n",
    "      }\n",
    "    }\n",
    "  },\n",
    "  \"r_mode\": {\n",
    "    \"type\": \"string\",\n",
    "    \"value\": \"Navi\",\n",
    "    \"metadata\": {\n",
    "      \"TimeInstant\": {\n",
    "        \"type\": \"ISO8601\",\n",
    "        \"value\": \"2019-05-11T10:57:10.1557539830+09:00\"\n",
    "      }\n",
    "    }\n",
    "  },\n",
    "  \"r_state\": {\n",
    "    \"type\": \"string\",\n",
    "    \"value\": \" \",\n",
    "    \"metadata\": {}\n",
    "  },\n",
    "  \"theta\": {\n",
    "    \"type\": \"float32\",\n",
    "    \"value\": \"0.05\",\n",
    "    \"metadata\": {\n",
    "      \"TimeInstant\": {\n",
    "        \"type\": \"ISO8601\",\n",
    "        \"value\": \"2019-05-11T11:19:53.1557541193+09:00\"\n",
    "      }\n",
    "    }\n",
    "  },\n",
    "  \"voltage\": {\n",
    "    \"type\": \"float32\",\n",
    "    \"value\": \"11.73\",\n",
    "    \"metadata\": {\n",
    "      \"TimeInstant\": {\n",
    "        \"type\": \"ISO8601\",\n",
    "        \"value\": \"2019-05-11T11:23:13.1557541393+09:00\"\n",
    "      }\n",
    "    }\n",
    "  },\n",
    "  \"x\": {\n",
    "    \"type\": \"float32\",\n",
    "    \"value\": \"1.05\",\n",
    "    \"metadata\": {\n",
    "      \"TimeInstant\": {\n",
    "        \"type\": \"ISO8601\",\n",
    "        \"value\": \"2019-05-11T11:19:53.1557541193+09:00\"\n",
    "      }\n",
    "    }\n",
    "  },\n",
    "  \"y\": {\n",
    "    \"type\": \"float32\",\n",
    "    \"value\": \"0.01\",\n",
    "    \"metadata\": {\n",
    "      \"TimeInstant\": {\n",
    "        \"type\": \"ISO8601\",\n",
    "        \"value\": \"2019-05-11T11:19:53.1557541193+09:00\"\n",
    "      }\n",
    "    }\n",
    "  },\n",
    "  \"move\": {\n",
    "    \"type\": \"string\",\n",
    "    \"value\": \"\",\n",
    "    \"metadata\": {}\n",
    "  }\n",
    "}\n",
    "```"
   ]
  },
  {
   "cell_type": "markdown",
   "metadata": {},
   "source": [
    "### confirm cygnus-mongo"
   ]
  },
  {
   "cell_type": "code",
   "execution_count": null,
   "metadata": {
    "scrolled": false
   },
   "outputs": [],
   "source": [
    "kubectl exec mongodb-0 -c mongodb-replicaset -- mongo sth_${FIWARE_SERVICE} --eval \"db.getCollection(\\\"sth_${MOBILE_ROBOT_SERVICEPATH}_${MOBILE_ROBOT_ID}_${MOBILE_ROBOT_TYPE}\\\").find().sort({recvTime: -1})\""
   ]
  },
  {
   "cell_type": "markdown",
   "metadata": {},
   "source": [
    "example)\n",
    "```\n",
    "MongoDB shell version v4.1.10\n",
    "connecting to: mongodb://127.0.0.1:27017/sth_guide_demo?compressors=disabled&gssapiServiceName=mongodb\n",
    "Implicit session: session { \"id\" : UUID(\"7e4acdfe-c515-447e-9bbe-9bcc198163c9\") }\n",
    "MongoDB server version: 4.1.10\n",
    "{ \"_id\" : ObjectId(\"5cd6321141f12a0011c4e5af\"), \"recvTime\" : ISODate(\"2019-05-11T02:23:13.155Z\"), \"attrName\" : \"voltage\", \"attrType\" : \"float32\", \"attrValue\" : \"11.73\" }\n",
    "{ \"_id\" : ObjectId(\"5cd6321141f12a0011c4e5b0\"), \"recvTime\" : ISODate(\"2019-05-11T02:23:13.155Z\"), \"attrName\" : \"current\", \"attrType\" : \"float32\", \"attrValue\" : \"0.25\" }\n",
    "{ \"_id\" : ObjectId(\"5cd6321141f12a0011c4e5b1\"), \"recvTime\" : ISODate(\"2019-05-11T02:23:13.155Z\"), \"attrName\" : \"charge\", \"attrType\" : \"float32\", \"attrValue\" : \"0.0\" }\n",
    "{ \"_id\" : ObjectId(\"5cd6321141f12a0011c4e5b2\"), \"recvTime\" : ISODate(\"2019-05-11T02:23:13.155Z\"), \"attrName\" : \"capacity\", \"attrType\" : \"float32\", \"attrValue\" : \"0.0\" }\n",
    "{ \"_id\" : ObjectId(\"5cd6321141f12a0011c4e5b3\"), \"recvTime\" : ISODate(\"2019-05-11T02:23:13.155Z\"), \"attrName\" : \"design_capacity\", \"attrType\" : \"float32\", \"attrValue\" : \"0.0\" }\n",
    "{ \"_id\" : ObjectId(\"5cd6321141f12a0011c4e5b4\"), \"recvTime\" : ISODate(\"2019-05-11T02:23:13.155Z\"), \"attrName\" : \"percentage\", \"attrType\" : \"float32\", \"attrValue\" : \"95.0\" }\n",
    "...\n",
    "```"
   ]
  },
  {
   "cell_type": "markdown",
   "metadata": {},
   "source": [
    "## test dest_button device"
   ]
  },
  {
   "cell_type": "markdown",
   "metadata": {},
   "source": [
    "### prepare a command to subscribe all topics"
   ]
  },
  {
   "cell_type": "code",
   "execution_count": null,
   "metadata": {
    "scrolled": false
   },
   "outputs": [],
   "source": [
    "echo \"mosquitto_sub -h mqtt.${DOMAIN} -p 8883 --cafile ${CORE_ROOT}/secrets/DST_Root_CA_X3.pem -d -u iotagent -P ${MQTT__iotagent} -t /#\""
   ]
  },
  {
   "cell_type": "markdown",
   "metadata": {},
   "source": [
    "### subscribe all topic"
   ]
  },
  {
   "cell_type": "markdown",
   "metadata": {},
   "source": [
    "_Outside of this notebook_\n",
    "1. open a ternminal.\n",
    "1. run the above command displayed `prepare a command to subscribe all topics`."
   ]
  },
  {
   "cell_type": "markdown",
   "metadata": {},
   "source": [
    "### publish a MQTT message to emulate receiving the event from dest_button"
   ]
  },
  {
   "cell_type": "code",
   "execution_count": null,
   "metadata": {
    "scrolled": false
   },
   "outputs": [],
   "source": [
    "d=$(date '+%Y-%m-%dT%H:%M:%S.%s+09:00')\n",
    "mosquitto_pub -h mqtt.${DOMAIN} -p 8883 --cafile ${CORE_ROOT}/secrets/DST_Root_CA_X3.pem -d -u iotagent -P ${MQTT__iotagent} -t /${DEST_BUTTON_TYPE}/${DEST_BUTTON_ID}/attrs -m \"${d}|push|${d}\""
   ]
  },
  {
   "cell_type": "markdown",
   "metadata": {},
   "source": [
    "example)\n",
    "```\n",
    "Client mosq/Ngwy6XHyACGR6ToMuD sending CONNECT\n",
    "Client mosq/Ngwy6XHyACGR6ToMuD received CONNACK (0)\n",
    "Client mosq/Ngwy6XHyACGR6ToMuD sending PUBLISH (d0, q0, r0, m1, '/button/button_01/attrs', ... (78 bytes))\n",
    "Client mosq/Ngwy6XHyACGR6ToMuD sending DISCONNECT\n",
    "```"
   ]
  },
  {
   "cell_type": "markdown",
   "metadata": {},
   "source": [
    "when executing the above command, show below messages on the opened terminal.\n",
    "\n",
    "example)\n",
    "```\n",
    "Client mosq/gZ1wcOVoAWYDodg8I6 received PUBLISH (d0, q0, r0, m0, '/button/button_01/attrs', ... (78 bytes))\n",
    "2019-05-11T11:48:01.1557542881+09:00|push|2019-05-11T11:48:01.1557542881+09:00\n",
    "```"
   ]
  },
  {
   "cell_type": "markdown",
   "metadata": {},
   "source": [
    "### confirm dest_button entity"
   ]
  },
  {
   "cell_type": "code",
   "execution_count": null,
   "metadata": {
    "scrolled": false
   },
   "outputs": [],
   "source": [
    "TOKEN=$(cat ${CORE_ROOT}/secrets/auth-tokens.json | jq '.[0].settings.bearer_tokens[0].token' -r)\n",
    "curl -sS -H \"Authorization: bearer ${TOKEN}\" -H \"Fiware-Service: ${FIWARE_SERVICE}\" -H \"Fiware-Servicepath: ${DEST_BUTTON_SERVICEPATH}\" https://api.${DOMAIN}/orion/v2/entities/${DEST_BUTTON_ID}/ | jq ."
   ]
  },
  {
   "cell_type": "markdown",
   "metadata": {},
   "source": [
    "example)\n",
    "```json\n",
    "{\n",
    "  \"id\": \"button_01\",\n",
    "  \"type\": \"button\",\n",
    "  \"TimeInstant\": {\n",
    "    \"type\": \"ISO8601\",\n",
    "    \"value\": \"2019-05-11T11:48:01.1557542881+09:00\",\n",
    "    \"metadata\": {}\n",
    "  },\n",
    "  \"push\": {\n",
    "    \"type\": \"string\",\n",
    "    \"value\": \"2019-05-11T11:48:01.1557542881+09:00\",\n",
    "    \"metadata\": {\n",
    "      \"TimeInstant\": {\n",
    "        \"type\": \"ISO8601\",\n",
    "        \"value\": \"2019-05-11T11:48:01.1557542881+09:00\"\n",
    "      }\n",
    "    }\n",
    "  }\n",
    "}\n",
    "```"
   ]
  },
  {
   "cell_type": "markdown",
   "metadata": {},
   "source": [
    "### confirm cygnus-mongo"
   ]
  },
  {
   "cell_type": "code",
   "execution_count": null,
   "metadata": {
    "scrolled": true
   },
   "outputs": [],
   "source": [
    "kubectl exec mongodb-0 -c mongodb-replicaset -- mongo sth_${FIWARE_SERVICE} --eval \"db.getCollection(\\\"sth_${DEST_BUTTON_SERVICEPATH}_${DEST_BUTTON_ID}_${DEST_BUTTON_TYPE}\\\").find().sort({recvTime: -1})\""
   ]
  },
  {
   "cell_type": "markdown",
   "metadata": {},
   "source": [
    "example)\n",
    "```\n",
    "MongoDB shell version v4.1.10\n",
    "connecting to: mongodb://127.0.0.1:27017/sth_guide_demo?compressors=disabled&gssapiServiceName=mongodb\n",
    "Implicit session: session { \"id\" : UUID(\"0aaec8d8-0131-4fcd-b38b-bc24b1f16f75\") }\n",
    "MongoDB server version: 4.1.10\n",
    "{ \"_id\" : ObjectId(\"5cd637e1130da800118c55a6\"), \"recvTime\" : ISODate(\"2019-05-11T02:48:01.155Z\"), \"attrName\" : \"push\", \"attrType\" : \"string\", \"attrValue\" : \"2019-05-11T11:48:01.1557542881+09:00\" }\n",
    "```"
   ]
  },
  {
   "cell_type": "markdown",
   "metadata": {},
   "source": [
    "## test dest_led device"
   ]
  },
  {
   "cell_type": "markdown",
   "metadata": {},
   "source": [
    "### prepare a command to subscribe all topics"
   ]
  },
  {
   "cell_type": "code",
   "execution_count": null,
   "metadata": {
    "scrolled": false
   },
   "outputs": [],
   "source": [
    "echo \"mosquitto_sub -h mqtt.${DOMAIN} -p 8883 --cafile ${CORE_ROOT}/secrets/DST_Root_CA_X3.pem -d -u iotagent -P ${MQTT__iotagent} -t /#\""
   ]
  },
  {
   "cell_type": "markdown",
   "metadata": {},
   "source": [
    "### subscribe all topic"
   ]
  },
  {
   "cell_type": "markdown",
   "metadata": {},
   "source": [
    "_Outside of this notebook_\n",
    "1. open a ternminal.\n",
    "1. run the above command displayed `prepare a command to subscribe all topics`."
   ]
  },
  {
   "cell_type": "markdown",
   "metadata": {},
   "source": [
    "### update the action attribute of dest_led to emulate sending the command"
   ]
  },
  {
   "cell_type": "code",
   "execution_count": null,
   "metadata": {
    "scrolled": false
   },
   "outputs": [],
   "source": [
    "TOKEN=$(cat ${CORE_ROOT}/secrets/auth-tokens.json | jq '.[0].settings.bearer_tokens[0].token' -r)\n",
    "curl -i -H \"Authorization: bearer ${TOKEN}\" -H \"Fiware-Service: ${FIWARE_SERVICE}\" -H \"Fiware-Servicepath: ${DEST_LED_SERVICEPATH}\" -H \"Content-Type: application/json\" https://api.${DOMAIN}/orion/v2/entities/${DEST_LED_ID}/attrs?type=${DEST_LED_TYPE} -X PATCH -d @-<<__EOS__\n",
    "{\n",
    "  \"action\": {\n",
    "    \"value\": \"on\"\n",
    "  }\n",
    "}\n",
    "__EOS__"
   ]
  },
  {
   "cell_type": "markdown",
   "metadata": {},
   "source": [
    "example)\n",
    "```\n",
    "HTTP/1.1 204 No Content\n",
    "content-length: 0\n",
    "fiware-correlator: 19ab5ec4-739b-11e9-a0fb-f2a8c31f77d6\n",
    "date: Sat, 11 May 2019 03:15:59 GMT\n",
    "x-envoy-upstream-service-time: 34\n",
    "server: envoy\n",
    "```"
   ]
  },
  {
   "cell_type": "markdown",
   "metadata": {},
   "source": [
    "when executing the above command, show below messages on the opened terminal.\n",
    "\n",
    "example)\n",
    "```\n",
    "Client mosq/gZ1wcOVoAWYDodg8I6 received PUBLISH (d0, q0, r0, m0, '/led/led_01/cmd', ... (16 bytes))\n",
    "led_01@action|on\n",
    "```"
   ]
  },
  {
   "cell_type": "markdown",
   "metadata": {},
   "source": [
    "### confirm mobile_robot entity"
   ]
  },
  {
   "cell_type": "code",
   "execution_count": null,
   "metadata": {
    "scrolled": false
   },
   "outputs": [],
   "source": [
    "TOKEN=$(cat ${CORE_ROOT}/secrets/auth-tokens.json | jq '.[0].settings.bearer_tokens[0].token' -r)\n",
    "curl -sS -H \"Authorization: bearer ${TOKEN}\" -H \"Fiware-Service: ${FIWARE_SERVICE}\" -H \"Fiware-Servicepath: ${DEST_LED_SERVICEPATH}\" https://api.${DOMAIN}/orion/v2/entities/${DEST_LED_ID}/ | jq ."
   ]
  },
  {
   "cell_type": "markdown",
   "metadata": {},
   "source": [
    "example)\n",
    "```json\n",
    "{\n",
    "  \"id\": \"led_01\",\n",
    "  \"type\": \"led\",\n",
    "  \"TimeInstant\": {\n",
    "    \"type\": \"ISO8601\",\n",
    "    \"value\": \"2019-05-11T03:15:59.00Z\",\n",
    "    \"metadata\": {}\n",
    "  },\n",
    "  \"action_info\": {\n",
    "    \"type\": \"commandResult\",\n",
    "    \"value\": \" \",\n",
    "    \"metadata\": {}\n",
    "  },\n",
    "  \"action_status\": {\n",
    "    \"type\": \"commandStatus\",\n",
    "    \"value\": \"PENDING\",\n",
    "    \"metadata\": {\n",
    "      \"TimeInstant\": {\n",
    "        \"type\": \"ISO8601\",\n",
    "        \"value\": \"2019-05-11T03:15:59.953Z\"\n",
    "      }\n",
    "    }\n",
    "  },\n",
    "  \"action\": {\n",
    "    \"type\": \"string\",\n",
    "    \"value\": \"\",\n",
    "    \"metadata\": {}\n",
    "  }\n",
    "}\n",
    "```"
   ]
  },
  {
   "cell_type": "markdown",
   "metadata": {},
   "source": [
    "### publish a MQTT message to emulate receiving the command result from dest_led"
   ]
  },
  {
   "cell_type": "code",
   "execution_count": null,
   "metadata": {
    "scrolled": false
   },
   "outputs": [],
   "source": [
    "mosquitto_pub -h mqtt.${DOMAIN} -p 8883 --cafile ${CORE_ROOT}/secrets/DST_Root_CA_X3.pem -d -u iotagent -P ${MQTT__iotagent} -t /${DEST_LED_TYPE}/${DEST_LED_ID}/cmdexe -m \"${DEST_LED_ID}@action|received on\""
   ]
  },
  {
   "cell_type": "markdown",
   "metadata": {},
   "source": [
    "example)\n",
    "```\n",
    "Client mosq/9tqyQYJG7l2Iy2Gbuj sending CONNECT\n",
    "Client mosq/9tqyQYJG7l2Iy2Gbuj received CONNACK (0)\n",
    "Client mosq/9tqyQYJG7l2Iy2Gbuj sending PUBLISH (d0, q0, r0, m1, '/led/led_01/cmdexe', ... (25 bytes))\n",
    "Client mosq/9tqyQYJG7l2Iy2Gbuj sending DISCONNECT\n",
    "```"
   ]
  },
  {
   "cell_type": "markdown",
   "metadata": {},
   "source": [
    "when executing the above command, show below messages on the opened terminal.\n",
    "\n",
    "example)\n",
    "```\n",
    "Client mosq/gZ1wcOVoAWYDodg8I6 received PUBLISH (d0, q0, r0, m0, '/led/led_01/cmdexe', ... (25 bytes))\n",
    "led_01@action|received on\n",
    "```"
   ]
  },
  {
   "cell_type": "markdown",
   "metadata": {},
   "source": [
    "### confirm dest_led entity"
   ]
  },
  {
   "cell_type": "code",
   "execution_count": null,
   "metadata": {
    "scrolled": false
   },
   "outputs": [],
   "source": [
    "TOKEN=$(cat ${CORE_ROOT}/secrets/auth-tokens.json | jq '.[0].settings.bearer_tokens[0].token' -r)\n",
    "curl -sS -H \"Authorization: bearer ${TOKEN}\" -H \"Fiware-Service: ${FIWARE_SERVICE}\" -H \"Fiware-Servicepath: ${DEST_LED_SERVICEPATH}\" https://api.${DOMAIN}/orion/v2/entities/${DEST_LED_ID}/ | jq ."
   ]
  },
  {
   "cell_type": "markdown",
   "metadata": {},
   "source": [
    "example)\n",
    "```json\n",
    "{\n",
    "  \"id\": \"led_01\",\n",
    "  \"type\": \"led\",\n",
    "  \"TimeInstant\": {\n",
    "    \"type\": \"ISO8601\",\n",
    "    \"value\": \"2019-05-11T03:18:45.00Z\",\n",
    "    \"metadata\": {}\n",
    "  },\n",
    "  \"action_info\": {\n",
    "    \"type\": \"commandResult\",\n",
    "    \"value\": \"received on\",\n",
    "    \"metadata\": {\n",
    "      \"TimeInstant\": {\n",
    "        \"type\": \"ISO8601\",\n",
    "        \"value\": \"2019-05-11T03:18:45.304Z\"\n",
    "      }\n",
    "    }\n",
    "  },\n",
    "  \"action_status\": {\n",
    "    \"type\": \"commandStatus\",\n",
    "    \"value\": \"OK\",\n",
    "    \"metadata\": {\n",
    "      \"TimeInstant\": {\n",
    "        \"type\": \"ISO8601\",\n",
    "        \"value\": \"2019-05-11T03:18:45.304Z\"\n",
    "      }\n",
    "    }\n",
    "  },\n",
    "  \"action\": {\n",
    "    \"type\": \"string\",\n",
    "    \"value\": \"\",\n",
    "    \"metadata\": {}\n",
    "  }\n",
    "}\n",
    "```"
   ]
  },
  {
   "cell_type": "markdown",
   "metadata": {},
   "source": [
    "### confirm cygnus-mongo"
   ]
  },
  {
   "cell_type": "code",
   "execution_count": null,
   "metadata": {
    "scrolled": true
   },
   "outputs": [],
   "source": [
    "kubectl exec mongodb-0 -c mongodb-replicaset -- mongo sth_${FIWARE_SERVICE} --eval \"db.getCollection(\\\"sth_${DEST_LED_SERVICEPATH}_${DEST_LED_ID}_${DEST_LED_TYPE}\\\").find().sort({recvTime: -1})\""
   ]
  },
  {
   "cell_type": "markdown",
   "metadata": {},
   "source": [
    "example)\n",
    "```\n",
    "MongoDB shell version v4.1.10\n",
    "connecting to: mongodb://127.0.0.1:27017/sth_guide_demo?compressors=disabled&gssapiServiceName=mongodb\n",
    "Implicit session: session { \"id\" : UUID(\"39e9ac5c-96b0-481b-8c08-67b15487b944\") }\n",
    "MongoDB server version: 4.1.10\n",
    "{ \"_id\" : ObjectId(\"5cd63f16130da800118c55a7\"), \"recvTime\" : ISODate(\"2019-05-11T03:18:45.304Z\"), \"attrName\" : \"action_info\", \"attrType\" : \"commandResult\", \"attrValue\" : \"received on\" }\n",
    "{ \"_id\" : ObjectId(\"5cd63f16130da800118c55a8\"), \"recvTime\" : ISODate(\"2019-05-11T03:18:45.304Z\"), \"attrName\" : \"action_status\", \"attrType\" : \"commandStatus\", \"attrValue\" : \"OK\" }\n",
    "{ \"_id\" : ObjectId(\"5cd63e6f41f12a0011c4e5b5\"), \"recvTime\" : ISODate(\"2019-05-11T03:15:59.953Z\"), \"attrName\" : \"action_status\", \"attrType\" : \"commandStatus\", \"attrValue\" : \"PENDING\" }\n",
    "{ \"_id\" : ObjectId(\"5cd63ae15046420012c5ce53\"), \"recvTime\" : ISODate(\"2019-05-11T03:00:49.386Z\"), \"attrName\" : \"action_status\", \"attrType\" : \"commandStatus\", \"attrValue\" : \"UNKNOWN\" }\n",
    "```"
   ]
  }
 ],
 "metadata": {
  "kernelspec": {
   "display_name": "Bash",
   "language": "bash",
   "name": "bash"
  },
  "language_info": {
   "codemirror_mode": "shell",
   "file_extension": ".sh",
   "mimetype": "text/x-sh",
   "name": "bash"
  }
 },
 "nbformat": 4,
 "nbformat_minor": 2
}
