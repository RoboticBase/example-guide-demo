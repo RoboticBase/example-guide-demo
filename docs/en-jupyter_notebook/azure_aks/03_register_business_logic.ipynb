{
 "cells": [
  {
   "cell_type": "markdown",
   "metadata": {},
   "source": [
    "# 3 register business logic to fiware on Azure AKS"
   ]
  },
  {
   "cell_type": "markdown",
   "metadata": {},
   "source": [
    "change ${CORE_ROOT} to your path of `core`."
   ]
  },
  {
   "cell_type": "code",
   "execution_count": null,
   "metadata": {},
   "outputs": [],
   "source": [
    "export CORE_ROOT=\"${HOME}/core\""
   ]
  },
  {
   "cell_type": "markdown",
   "metadata": {},
   "source": [
    "change ${PJ_ROOT} to your path of `example-guide-demo`."
   ]
  },
  {
   "cell_type": "code",
   "execution_count": null,
   "metadata": {},
   "outputs": [],
   "source": [
    "export PJ_ROOT=\"${HOME}/example-guide-demo\"\n",
    "cd ${PJ_ROOT};pwd"
   ]
  },
  {
   "cell_type": "markdown",
   "metadata": {},
   "source": [
    "example)\n",
    "```\n",
    "/Users/user/example-guide-demo\n",
    "```"
   ]
  },
  {
   "cell_type": "markdown",
   "metadata": {},
   "source": [
    "## load environment variables"
   ]
  },
  {
   "cell_type": "markdown",
   "metadata": {},
   "source": [
    "load from `core`"
   ]
  },
  {
   "cell_type": "code",
   "execution_count": null,
   "metadata": {},
   "outputs": [],
   "source": [
    "source ${CORE_ROOT}/docs/environments/azure_aks/env"
   ]
  },
  {
   "cell_type": "markdown",
   "metadata": {},
   "source": [
    "load from `example-guide-demo`"
   ]
  },
  {
   "cell_type": "code",
   "execution_count": null,
   "metadata": {},
   "outputs": [],
   "source": [
    "source ${PJ_ROOT}/docs/environments/azure_aks/env"
   ]
  },
  {
   "cell_type": "markdown",
   "metadata": {},
   "source": [
    "## register `/notify/start-guidance/` as a subscriber of comm_robot"
   ]
  },
  {
   "cell_type": "code",
   "execution_count": null,
   "metadata": {},
   "outputs": [],
   "source": [
    "TOKEN=$(cat ${CORE_ROOT}/secrets/auth-tokens.json | jq '.[0].settings.bearer_tokens[0].token' -r)\n",
    "curl -i -H \"Authorization: bearer ${TOKEN}\" -H \"Fiware-Service: ${FIWARE_SERVICE}\" -H \"Fiware-ServicePath: ${COMM_ROBOT_SERVICEPATH}\" -H \"Content-Type: application/json\" https://api.${DOMAIN}/orion/v2/subscriptions/ -X POST -d @- <<__EOS__\n",
    "{\n",
    "  \"subject\": {\n",
    "    \"entities\": [{\n",
    "      \"idPattern\": \"${COMM_ROBOT_ID}\",\n",
    "      \"type\": \"${COMM_ROBOT_TYPE}\"\n",
    "    }],\n",
    "    \"condition\": {\n",
    "      \"attrs\": [\"move\"]\n",
    "    }\n",
    "  },\n",
    "  \"notification\": {\n",
    "    \"http\": {\n",
    "      \"url\": \"http://guide-demo:3000/notify/start-guidance/\"\n",
    "    },\n",
    "    \"attrs\": [\"move\"]\n",
    "  }\n",
    "}\n",
    "__EOS__"
   ]
  },
  {
   "cell_type": "markdown",
   "metadata": {},
   "source": [
    "example)\n",
    "```\n",
    "HTTP/1.1 201 Created\n",
    "content-length: 0\n",
    "location: /v2/subscriptions/5cd6568fdb70c85cdee24f96\n",
    "fiware-correlator: 7a90eb06-73a9-11e9-b740-f2a8c31f77d6\n",
    "date: Sat, 11 May 2019 04:58:55 GMT\n",
    "x-envoy-upstream-service-time: 3\n",
    "server: envoy\n",
    "```"
   ]
  },
  {
   "cell_type": "code",
   "execution_count": null,
   "metadata": {
    "scrolled": false
   },
   "outputs": [],
   "source": [
    "TOKEN=$(cat ${CORE_ROOT}/secrets/auth-tokens.json | jq '.[0].settings.bearer_tokens[0].token' -r)\n",
    "curl -sS -H \"Authorization: bearer ${TOKEN}\" -H \"Fiware-Service: ${FIWARE_SERVICE}\" -H \"Fiware-ServicePath: ${COMM_ROBOT_SERVICEPATH}\" https://api.${DOMAIN}/orion/v2/subscriptions/ | jq ."
   ]
  },
  {
   "cell_type": "markdown",
   "metadata": {},
   "source": [
    "example)\n",
    "```json\n",
    "[\n",
    "  {\n",
    "    \"id\": \"5cd6126adb70c85cdee24f94\",\n",
    "    \"status\": \"active\",\n",
    "    \"subject\": {\n",
    "      \"entities\": [\n",
    "        {\n",
    "          \"idPattern\": \"xperiahello_01\",\n",
    "          \"type\": \"comm_robot\"\n",
    "        }\n",
    "      ],\n",
    "      \"condition\": {\n",
    "        \"attrs\": [\n",
    "          \"move\"\n",
    "        ]\n",
    "      }\n",
    "    },\n",
    "    \"notification\": {\n",
    "      \"timesSent\": 5,\n",
    "      \"lastNotification\": \"2019-05-11T04:59:45.00Z\",\n",
    "      \"attrs\": [\n",
    "        \"move\"\n",
    "      ],\n",
    "      \"attrsFormat\": \"legacy\",\n",
    "      \"http\": {\n",
    "        \"url\": \"http://cygnus-mongo:5050/notify\"\n",
    "      },\n",
    "      \"lastSuccess\": \"2019-05-11T04:59:45.00Z\",\n",
    "      \"lastSuccessCode\": 200\n",
    "    }\n",
    "  },\n",
    "  {\n",
    "    \"id\": \"5cd6568fdb70c85cdee24f96\",\n",
    "    \"status\": \"active\",\n",
    "    \"subject\": {\n",
    "      \"entities\": [\n",
    "        {\n",
    "          \"idPattern\": \"xperiahello_01\",\n",
    "          \"type\": \"comm_robot\"\n",
    "        }\n",
    "      ],\n",
    "      \"condition\": {\n",
    "        \"attrs\": [\n",
    "          \"move\"\n",
    "        ]\n",
    "      }\n",
    "    },\n",
    "    \"notification\": {\n",
    "      \"timesSent\": 2,\n",
    "      \"lastNotification\": \"2019-05-11T04:59:45.00Z\",\n",
    "      \"attrs\": [\n",
    "        \"move\"\n",
    "      ],\n",
    "      \"attrsFormat\": \"normalized\",\n",
    "      \"http\": {\n",
    "        \"url\": \"http://guide-demo:3000/notify/start-guidance/\"\n",
    "      },\n",
    "      \"lastSuccess\": \"2019-05-11T04:59:45.00Z\",\n",
    "      \"lastSuccessCode\": 200\n",
    "    }\n",
    "  }\n",
    "]\n",
    "```"
   ]
  },
  {
   "cell_type": "markdown",
   "metadata": {},
   "source": [
    "## register `/notify/update-mobilerobot-state/` as a subscriber of mobile_robot"
   ]
  },
  {
   "cell_type": "code",
   "execution_count": null,
   "metadata": {},
   "outputs": [],
   "source": [
    "TOKEN=$(cat ${CORE_ROOT}/secrets/auth-tokens.json | jq '.[0].settings.bearer_tokens[0].token' -r)\n",
    "curl -i -H \"Authorization: bearer ${TOKEN}\" -H \"Fiware-Service: ${FIWARE_SERVICE}\" -H \"Fiware-ServicePath: ${MOBILE_ROBOT_SERVICEPATH}\" -H \"Content-Type: application/json\" https://api.${DOMAIN}/orion/v2/subscriptions/ -X POST -d @- <<__EOS__\n",
    "{\n",
    "  \"subject\": {\n",
    "    \"entities\": [{\n",
    "      \"idPattern\": \"${MOBILE_ROBOT_ID}\",\n",
    "      \"type\": \"${MOBILE_ROBOT_TYPE}\"\n",
    "    }],\n",
    "    \"condition\": {\n",
    "      \"attrs\": [\"x\", \"y\", \"theta\", \"r_mode\"]\n",
    "    }\n",
    "  },\n",
    "  \"notification\": {\n",
    "    \"http\": {\n",
    "      \"url\": \"http://guide-demo:3000/notify/update-mobilerobot-state/\"\n",
    "    },\n",
    "    \"attrs\": [\"x\", \"y\", \"theta\", \"r_mode\"]\n",
    "  }\n",
    "}\n",
    "__EOS__"
   ]
  },
  {
   "cell_type": "markdown",
   "metadata": {},
   "source": [
    "example)\n",
    "```\n",
    "HTTP/1.1 201 Created\n",
    "content-length: 0\n",
    "location: /v2/subscriptions/5cd6769edb70c85cdee24f97\n",
    "fiware-correlator: 9641493c-73bc-11e9-b740-f2a8c31f77d6\n",
    "date: Sat, 11 May 2019 07:15:42 GMT\n",
    "x-envoy-upstream-service-time: 3\n",
    "server: envoy\n",
    "```"
   ]
  },
  {
   "cell_type": "code",
   "execution_count": null,
   "metadata": {
    "scrolled": false
   },
   "outputs": [],
   "source": [
    "TOKEN=$(cat ${CORE_ROOT}/secrets/auth-tokens.json | jq '.[0].settings.bearer_tokens[0].token' -r)\n",
    "curl -sS -H \"Authorization: bearer ${TOKEN}\" -H \"Fiware-Service: ${FIWARE_SERVICE}\" -H \"Fiware-ServicePath: ${MOBILE_ROBOT_SERVICEPATH}\" https://api.${DOMAIN}/orion/v2/subscriptions/ | jq ."
   ]
  },
  {
   "cell_type": "markdown",
   "metadata": {},
   "source": [
    "example)\n",
    "```json\n",
    "[\n",
    "  {\n",
    "    \"id\": \"5cd620e1d9d5db2ffb119d16\",\n",
    "    \"status\": \"active\",\n",
    "    \"subject\": {\n",
    "      \"entities\": [\n",
    "        {\n",
    "          \"idPattern\": \"rosbot2_01\",\n",
    "          \"type\": \"mobile_robot\"\n",
    "        }\n",
    "      ],\n",
    "      \"condition\": {\n",
    "        \"attrs\": [\n",
    "          \"r_mode\",\n",
    "          \"r_state\",\n",
    "          \"x\",\n",
    "          \"y\",\n",
    "          \"theta\",\n",
    "          \"move_status\",\n",
    "          \"move_info\",\n",
    "          \"voltage\",\n",
    "          \"current\",\n",
    "          \"charge\",\n",
    "          \"capacity\",\n",
    "          \"design_capacity\",\n",
    "          \"percentage\"\n",
    "        ]\n",
    "      }\n",
    "    },\n",
    "    \"notification\": {\n",
    "      \"timesSent\": 17,\n",
    "      \"lastNotification\": \"2019-05-11T07:09:04.00Z\",\n",
    "      \"attrs\": [\n",
    "        \"r_mode\",\n",
    "        \"r_state\",\n",
    "        \"x\",\n",
    "        \"y\",\n",
    "        \"theta\",\n",
    "        \"move_status\",\n",
    "        \"move_info\",\n",
    "        \"voltage\",\n",
    "        \"current\",\n",
    "        \"charge\",\n",
    "        \"capacity\",\n",
    "        \"design_capacity\",\n",
    "        \"percentage\"\n",
    "      ],\n",
    "      \"attrsFormat\": \"legacy\",\n",
    "      \"http\": {\n",
    "        \"url\": \"http://cygnus-mongo:5050/notify\"\n",
    "      },\n",
    "      \"lastSuccess\": \"2019-05-11T07:09:04.00Z\",\n",
    "      \"lastSuccessCode\": 200\n",
    "    }\n",
    "  },\n",
    "  {\n",
    "    \"id\": \"5cd677ccd9d5db2ffb119d19\",\n",
    "    \"status\": \"active\",\n",
    "    \"subject\": {\n",
    "      \"entities\": [\n",
    "        {\n",
    "          \"idPattern\": \"rosbot2_01\",\n",
    "          \"type\": \"mobile_robot\"\n",
    "        }\n",
    "      ],\n",
    "      \"condition\": {\n",
    "        \"attrs\": [\n",
    "          \"x\",\n",
    "          \"y\",\n",
    "          \"theta\",\n",
    "          \"r_mode\"\n",
    "        ]\n",
    "      }\n",
    "    },\n",
    "    \"notification\": {\n",
    "      \"timesSent\": 1,\n",
    "      \"lastNotification\": \"2019-05-11T07:20:44.00Z\",\n",
    "      \"attrs\": [\n",
    "        \"x\",\n",
    "        \"y\",\n",
    "        \"theta\",\n",
    "        \"r_mode\"\n",
    "      ],\n",
    "      \"attrsFormat\": \"normalized\",\n",
    "      \"http\": {\n",
    "        \"url\": \"http://guide-demo:3000/notify/update-mobilerobot-state/\"\n",
    "      },\n",
    "      \"lastSuccess\": \"2019-05-11T07:20:44.00Z\",\n",
    "      \"lastSuccessCode\": 200\n",
    "    }\n",
    "  }\n",
    "]\n",
    "```"
   ]
  },
  {
   "cell_type": "markdown",
   "metadata": {},
   "source": [
    "## register `/notify/finish-guidance/` as a subscriber of dest_button"
   ]
  },
  {
   "cell_type": "code",
   "execution_count": null,
   "metadata": {},
   "outputs": [],
   "source": [
    "TOKEN=$(cat ${CORE_ROOT}/secrets/auth-tokens.json | jq '.[0].settings.bearer_tokens[0].token' -r)\n",
    "curl -i -H \"Authorization: bearer ${TOKEN}\" -H \"Fiware-Service: ${FIWARE_SERVICE}\" -H \"Fiware-ServicePath: ${DEST_BUTTON_SERVICEPATH}\" -H \"Content-Type: application/json\" https://api.${DOMAIN}/orion/v2/subscriptions/ -X POST -d @- <<__EOS__\n",
    "{\n",
    "  \"subject\": {\n",
    "    \"entities\": [{\n",
    "      \"idPattern\": \"${DEST_BUTTON_ID}\",\n",
    "      \"type\": \"${DEST_BUTTON_TYPE}\"\n",
    "    }],\n",
    "    \"condition\": {\n",
    "      \"attrs\": [\"push\"]\n",
    "    }\n",
    "  },\n",
    "  \"notification\": {\n",
    "    \"http\": {\n",
    "      \"url\": \"http://guide-demo:3000/notify/finish-guidance/\"\n",
    "    },\n",
    "    \"attrs\": [\"push\"]\n",
    "  }\n",
    "}\n",
    "__EOS__"
   ]
  },
  {
   "cell_type": "markdown",
   "metadata": {},
   "source": [
    "example)\n",
    "```\n",
    "HTTP/1.1 201 Created\n",
    "content-length: 0\n",
    "location: /v2/subscriptions/5cd6a602d9d5db2ffb119d1a\n",
    "fiware-correlator: d5af0534-73d8-11e9-83e5-46b1c9ec8ccd\n",
    "date: Sat, 11 May 2019 10:37:54 GMT\n",
    "x-envoy-upstream-service-time: 4\n",
    "server: envoy\n",
    "```"
   ]
  },
  {
   "cell_type": "code",
   "execution_count": null,
   "metadata": {
    "scrolled": false
   },
   "outputs": [],
   "source": [
    "TOKEN=$(cat ${CORE_ROOT}/secrets/auth-tokens.json | jq '.[0].settings.bearer_tokens[0].token' -r)\n",
    "curl -sS -H \"Authorization: bearer ${TOKEN}\" -H \"Fiware-Service: ${FIWARE_SERVICE}\" -H \"Fiware-ServicePath: ${DEST_BUTTON_SERVICEPATH}\" https://api.${DOMAIN}/orion/v2/subscriptions/ | jq ."
   ]
  },
  {
   "cell_type": "markdown",
   "metadata": {},
   "source": [
    "example)\n",
    "```json\n",
    "[\n",
    "  {\n",
    "    \"id\": \"5cd6350bd9d5db2ffb119d17\",\n",
    "    \"status\": \"active\",\n",
    "    \"subject\": {\n",
    "      \"entities\": [\n",
    "        {\n",
    "          \"idPattern\": \"button_01\",\n",
    "          \"type\": \"button\"\n",
    "        }\n",
    "      ],\n",
    "      \"condition\": {\n",
    "        \"attrs\": [\n",
    "          \"push\"\n",
    "        ]\n",
    "      }\n",
    "    },\n",
    "    \"notification\": {\n",
    "      \"timesSent\": 2,\n",
    "      \"lastNotification\": \"2019-05-11T02:48:01.00Z\",\n",
    "      \"attrs\": [\n",
    "        \"push\"\n",
    "      ],\n",
    "      \"attrsFormat\": \"legacy\",\n",
    "      \"http\": {\n",
    "        \"url\": \"http://cygnus-mongo:5050/notify\"\n",
    "      },\n",
    "      \"lastSuccess\": \"2019-05-11T02:48:01.00Z\",\n",
    "      \"lastSuccessCode\": 200\n",
    "    }\n",
    "  },\n",
    "  {\n",
    "    \"id\": \"5cd6a602d9d5db2ffb119d1a\",\n",
    "    \"status\": \"active\",\n",
    "    \"subject\": {\n",
    "      \"entities\": [\n",
    "        {\n",
    "          \"idPattern\": \"button_01\",\n",
    "          \"type\": \"button\"\n",
    "        }\n",
    "      ],\n",
    "      \"condition\": {\n",
    "        \"attrs\": [\n",
    "          \"push\"\n",
    "        ]\n",
    "      }\n",
    "    },\n",
    "    \"notification\": {\n",
    "      \"timesSent\": 1,\n",
    "      \"lastNotification\": \"2019-05-11T10:37:54.00Z\",\n",
    "      \"attrs\": [\n",
    "        \"push\"\n",
    "      ],\n",
    "      \"attrsFormat\": \"normalized\",\n",
    "      \"http\": {\n",
    "        \"url\": \"http://guide-demo:3000/notify/finish-guidance/\"\n",
    "      },\n",
    "      \"lastSuccess\": \"2019-05-11T10:37:55.00Z\",\n",
    "      \"lastSuccessCode\": 200\n",
    "    }\n",
    "  }\n",
    "]\n",
    "```"
   ]
  },
  {
   "cell_type": "markdown",
   "metadata": {},
   "source": [
    "## initialize the state of mobile_robot"
   ]
  },
  {
   "cell_type": "code",
   "execution_count": null,
   "metadata": {},
   "outputs": [],
   "source": [
    "TOKEN=$(cat ${CORE_ROOT}/secrets/auth-tokens.json | jq '.[0].settings.bearer_tokens[0].token' -r)\n",
    "curl -i -H \"Authorization: bearer ${TOKEN}\" -H \"Fiware-Service: ${FIWARE_SERVICE}\" -H \"Fiware-Servicepath: ${MOBILE_ROBOT_SERVICEPATH}\" -H \"Content-Type: application/json\" https://api.${DOMAIN}/orion/v2/entities/${MOBILE_ROBOT_ID}/attrs?type=${MOBILE_ROBOT_TYPE} -X PATCH -d @-<<__EOS__\n",
    "{\n",
    "  \"r_state\": {\n",
    "    \"type\": \"string\",\n",
    "    \"value\": \" \",\n",
    "    \"metadata\": {}\n",
    "  }\n",
    "}\n",
    "__EOS__"
   ]
  },
  {
   "cell_type": "markdown",
   "metadata": {},
   "source": [
    "example)\n",
    "```\n",
    "HTTP/1.1 204 No Content\n",
    "content-length: 0\n",
    "fiware-correlator: eb4c2342-73db-11e9-bd2e-62712902dfb1\n",
    "date: Sat, 11 May 2019 10:59:59 GMT\n",
    "x-envoy-upstream-service-time: 5\n",
    "server: envoy\n",
    "```"
   ]
  },
  {
   "cell_type": "code",
   "execution_count": null,
   "metadata": {},
   "outputs": [],
   "source": [
    "TOKEN=$(cat ${CORE_ROOT}/secrets/auth-tokens.json | jq '.[0].settings.bearer_tokens[0].token' -r)\n",
    "curl -i -H \"Authorization: bearer ${TOKEN}\" -H \"Fiware-Service: ${FIWARE_SERVICE}\" -H \"Fiware-Servicepath: ${MOBILE_ROBOT_SERVICEPATH}\" -H \"Content-Type: application/json\" https://api.${DOMAIN}/orion/v2/entities/${MOBILE_ROBOT_ID}/attrs?type=${MOBILE_ROBOT_TYPE} -X PATCH -d @-<<__EOS__\n",
    "{\n",
    "  \"r_mode\": {\n",
    "    \"type\": \"string\",\n",
    "    \"value\": \" \",\n",
    "    \"metadata\": {}\n",
    "  }\n",
    "}\n",
    "__EOS__"
   ]
  },
  {
   "cell_type": "markdown",
   "metadata": {},
   "source": [
    "example)\n",
    "```\n",
    "HTTP/1.1 204 No Content\n",
    "content-length: 0\n",
    "fiware-correlator: eb4c2342-73db-11e9-bd2e-62712902dfb1\n",
    "date: Sat, 11 May 2019 10:59:59 GMT\n",
    "x-envoy-upstream-service-time: 5\n",
    "server: envoy\n",
    "```"
   ]
  },
  {
   "cell_type": "code",
   "execution_count": null,
   "metadata": {},
   "outputs": [],
   "source": [
    "TOKEN=$(cat ${CORE_ROOT}/secrets/auth-tokens.json | jq '.[0].settings.bearer_tokens[0].token' -r)\n",
    "curl -sS -H \"Authorization: bearer ${TOKEN}\" -H \"Fiware-Service: ${FIWARE_SERVICE}\" -H \"Fiware-Servicepath: ${MOBILE_ROBOT_SERVICEPATH}\" https://api.${DOMAIN}/orion/v2/entities/${MOBILE_ROBOT_ID}/?attrs=r_mode,r_state | jq ."
   ]
  },
  {
   "cell_type": "markdown",
   "metadata": {},
   "source": [
    "example)\n",
    "```json\n",
    "{\n",
    "  \"id\": \"rosbot2_01\",\n",
    "  \"type\": \"mobile_robot\",\n",
    "  \"r_mode\": {\n",
    "    \"type\": \"string\",\n",
    "    \"value\": \" \",\n",
    "    \"metadata\": {}\n",
    "  },\n",
    "  \"r_state\": {\n",
    "    \"type\": \"string\",\n",
    "    \"value\": \" \",\n",
    "    \"metadata\": {}\n",
    "  }\n",
    "}\n",
    "```"
   ]
  }
 ],
 "metadata": {
  "kernelspec": {
   "display_name": "Bash",
   "language": "bash",
   "name": "bash"
  },
  "language_info": {
   "codemirror_mode": "shell",
   "file_extension": ".sh",
   "mimetype": "text/x-sh",
   "name": "bash"
  }
 },
 "nbformat": 4,
 "nbformat_minor": 2
}
