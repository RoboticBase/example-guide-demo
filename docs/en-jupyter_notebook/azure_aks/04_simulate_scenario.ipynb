{
 "cells": [
  {
   "cell_type": "markdown",
   "metadata": {},
   "source": [
    "# 4 simulate scenario"
   ]
  },
  {
   "cell_type": "markdown",
   "metadata": {},
   "source": [
    "change ${CORE_ROOT} to your path of `core`."
   ]
  },
  {
   "cell_type": "code",
   "execution_count": null,
   "metadata": {},
   "outputs": [],
   "source": [
    "export CORE_ROOT=\"${HOME}/core\""
   ]
  },
  {
   "cell_type": "markdown",
   "metadata": {},
   "source": [
    "change ${PJ_ROOT} to your path of `example-guide-demo`."
   ]
  },
  {
   "cell_type": "code",
   "execution_count": null,
   "metadata": {},
   "outputs": [],
   "source": [
    "export PJ_ROOT=\"${HOME}/example-guide-demo\"\n",
    "cd ${PJ_ROOT};pwd"
   ]
  },
  {
   "cell_type": "markdown",
   "metadata": {},
   "source": [
    "example)\n",
    "```\n",
    "/Users/user/example-guide-demo\n",
    "```"
   ]
  },
  {
   "cell_type": "markdown",
   "metadata": {},
   "source": [
    "## load environment variables"
   ]
  },
  {
   "cell_type": "markdown",
   "metadata": {},
   "source": [
    "load from `core`"
   ]
  },
  {
   "cell_type": "code",
   "execution_count": null,
   "metadata": {},
   "outputs": [],
   "source": [
    "source ${CORE_ROOT}/docs/environments/azure_aks/env"
   ]
  },
  {
   "cell_type": "markdown",
   "metadata": {},
   "source": [
    "load from `example-guide-demo`"
   ]
  },
  {
   "cell_type": "code",
   "execution_count": null,
   "metadata": {},
   "outputs": [],
   "source": [
    "source ${PJ_ROOT}/docs/environments/azure_aks/env"
   ]
  },
  {
   "cell_type": "markdown",
   "metadata": {},
   "source": [
    "## initialize the state of mobile_robot"
   ]
  },
  {
   "cell_type": "markdown",
   "metadata": {},
   "source": [
    "### initialize `r_state` and `r_mode`"
   ]
  },
  {
   "cell_type": "code",
   "execution_count": null,
   "metadata": {},
   "outputs": [],
   "source": [
    "TOKEN=$(cat ${CORE_ROOT}/secrets/auth-tokens.json | jq '.[0].settings.bearer_tokens[0].token' -r)\n",
    "curl -i -H \"Authorization: bearer ${TOKEN}\" -H \"Fiware-Service: ${FIWARE_SERVICE}\" -H \"Fiware-Servicepath: ${MOBILE_ROBOT_SERVICEPATH}\" -H \"Content-Type: application/json\" https://api.${DOMAIN}/orion/v2/entities/${MOBILE_ROBOT_ID}/attrs?type=${MOBILE_ROBOT_TYPE} -X PATCH -d @-<<__EOS__\n",
    "{\n",
    "  \"r_state\": {\n",
    "    \"type\": \"string\",\n",
    "    \"value\": \" \",\n",
    "    \"metadata\": {}\n",
    "  }\n",
    "}\n",
    "__EOS__"
   ]
  },
  {
   "cell_type": "markdown",
   "metadata": {},
   "source": [
    "example)\n",
    "```\n",
    "HTTP/1.1 204 No Content\n",
    "content-length: 0\n",
    "fiware-correlator: eb4c2342-73db-11e9-bd2e-62712902dfb1\n",
    "date: Sat, 11 May 2019 10:59:59 GMT\n",
    "x-envoy-upstream-service-time: 5\n",
    "server: envoy\n",
    "```"
   ]
  },
  {
   "cell_type": "code",
   "execution_count": null,
   "metadata": {},
   "outputs": [],
   "source": [
    "TOKEN=$(cat ${CORE_ROOT}/secrets/auth-tokens.json | jq '.[0].settings.bearer_tokens[0].token' -r)\n",
    "curl -i -H \"Authorization: bearer ${TOKEN}\" -H \"Fiware-Service: ${FIWARE_SERVICE}\" -H \"Fiware-Servicepath: ${MOBILE_ROBOT_SERVICEPATH}\" -H \"Content-Type: application/json\" https://api.${DOMAIN}/orion/v2/entities/${MOBILE_ROBOT_ID}/attrs?type=${MOBILE_ROBOT_TYPE} -X PATCH -d @-<<__EOS__\n",
    "{\n",
    "  \"r_mode\": {\n",
    "    \"type\": \"string\",\n",
    "    \"value\": \" \",\n",
    "    \"metadata\": {}\n",
    "  }\n",
    "}\n",
    "__EOS__"
   ]
  },
  {
   "cell_type": "markdown",
   "metadata": {},
   "source": [
    "example)\n",
    "```\n",
    "HTTP/1.1 204 No Content\n",
    "content-length: 0\n",
    "fiware-correlator: eb4c2342-73db-11e9-bd2e-62712902dfb1\n",
    "date: Sat, 11 May 2019 10:59:59 GMT\n",
    "x-envoy-upstream-service-time: 5\n",
    "server: envoy\n",
    "```"
   ]
  },
  {
   "cell_type": "markdown",
   "metadata": {},
   "source": [
    "#### confirm the mobile_robot entity"
   ]
  },
  {
   "cell_type": "code",
   "execution_count": null,
   "metadata": {},
   "outputs": [],
   "source": [
    "TOKEN=$(cat ${CORE_ROOT}/secrets/auth-tokens.json | jq '.[0].settings.bearer_tokens[0].token' -r)\n",
    "curl -sS -H \"Authorization: bearer ${TOKEN}\" -H \"Fiware-Service: ${FIWARE_SERVICE}\" -H \"Fiware-Servicepath: ${MOBILE_ROBOT_SERVICEPATH}\" https://api.${DOMAIN}/orion/v2/entities/${MOBILE_ROBOT_ID}/?attrs=r_mode,r_state | jq ."
   ]
  },
  {
   "cell_type": "markdown",
   "metadata": {},
   "source": [
    "example)\n",
    "```json\n",
    "{\n",
    "  \"id\": \"rosbot2_01\",\n",
    "  \"type\": \"mobile_robot\",\n",
    "  \"r_mode\": {\n",
    "    \"type\": \"string\",\n",
    "    \"value\": \" \",\n",
    "    \"metadata\": {}\n",
    "  },\n",
    "  \"r_state\": {\n",
    "    \"type\": \"string\",\n",
    "    \"value\": \" \",\n",
    "    \"metadata\": {}\n",
    "  }\n",
    "}\n",
    "```"
   ]
  },
  {
   "cell_type": "markdown",
   "metadata": {},
   "source": [
    "## subscribe MQTT topics"
   ]
  },
  {
   "cell_type": "markdown",
   "metadata": {},
   "source": [
    "### prepare a command to subscribe all topics"
   ]
  },
  {
   "cell_type": "code",
   "execution_count": null,
   "metadata": {},
   "outputs": [],
   "source": [
    "echo \"mosquitto_sub -h mqtt.${DOMAIN} -p 8883 --cafile ${CORE_ROOT}/secrets/DST_Root_CA_X3.pem -d -u iotagent -P ${MQTT__iotagent} -t /#\""
   ]
  },
  {
   "cell_type": "markdown",
   "metadata": {},
   "source": [
    "### start subscribing"
   ]
  },
  {
   "cell_type": "markdown",
   "metadata": {},
   "source": [
    "_Outside of this notebook_\n",
    "1. open a ternminal.\n",
    "1. run the above command displayed `prepare a command to subscribe all topics`."
   ]
  },
  {
   "cell_type": "markdown",
   "metadata": {},
   "source": [
    "## 1) a visitor tells his/her destination to `comm_robot`"
   ]
  },
  {
   "cell_type": "markdown",
   "metadata": {},
   "source": [
    "### publish a MQTT message to emulate receiving the event from comm_robot"
   ]
  },
  {
   "cell_type": "code",
   "execution_count": null,
   "metadata": {},
   "outputs": [],
   "source": [
    "d=$(date '+%Y-%m-%dT%H:%M:%S.%s+09:00')\n",
    "mosquitto_pub -h mqtt.${DOMAIN} -p 8883 --cafile ${CORE_ROOT}/secrets/DST_Root_CA_X3.pem -d -u iotagent -P ${MQTT__iotagent} -t /${COMM_ROBOT_TYPE}/${COMM_ROBOT_ID}/attrs -m \"${d}|move|dest01\""
   ]
  },
  {
   "cell_type": "markdown",
   "metadata": {},
   "source": [
    "example)\n",
    "```\n",
    "Client mosq/U0TQvpEnc6aE7EkU7b sending CONNECT\n",
    "Client mosq/U0TQvpEnc6aE7EkU7b received CONNACK (0)\n",
    "Client mosq/U0TQvpEnc6aE7EkU7b sending PUBLISH (d0, q0, r0, m1, '/comm_robot/xperiahello_01/attrs', ... (48 bytes))\n",
    "Client mosq/U0TQvpEnc6aE7EkU7b sending DISCONNECT\n",
    "```"
   ]
  },
  {
   "cell_type": "markdown",
   "metadata": {},
   "source": [
    "when executing the above command, show below messages on the opened terminal.\n",
    "\n",
    "**send `move|up` command to mobile_robot automatically.**\n",
    "\n",
    "example)\n",
    "```\n",
    "Client mosq/TqE1AIm00sCAJwKzdD received PUBLISH (d0, q0, r0, m0, '/comm_robot/xperiahello_01/attrs', ... (48 bytes))\n",
    "2019-05-12T11:23:08.1557627788+09:00|move|dest01\n",
    "Client mosq/TqE1AIm00sCAJwKzdD received PUBLISH (d0, q0, r0, m0, '/mobile_robot/rosbot2_01/cmd', ... (18 bytes))\n",
    "rosbot2_01@move|up\n",
    "```"
   ]
  },
  {
   "cell_type": "markdown",
   "metadata": {},
   "source": [
    "#### confirm the mobile_robot entity"
   ]
  },
  {
   "cell_type": "code",
   "execution_count": null,
   "metadata": {},
   "outputs": [],
   "source": [
    "TOKEN=$(cat ${CORE_ROOT}/secrets/auth-tokens.json | jq '.[0].settings.bearer_tokens[0].token' -r)\n",
    "curl -sS -H \"Authorization: bearer ${TOKEN}\" -H \"Fiware-Service: ${FIWARE_SERVICE}\" -H \"Fiware-Servicepath: ${MOBILE_ROBOT_SERVICEPATH}\" https://api.${DOMAIN}/orion/v2/entities/${MOBILE_ROBOT_ID}/?attrs=move_info,move_status | jq ."
   ]
  },
  {
   "cell_type": "markdown",
   "metadata": {},
   "source": [
    "**the value of  `move_status` is `PENDING`**\n",
    "\n",
    "example)\n",
    "```json\n",
    "{\n",
    "  \"id\": \"rosbot2_01\",\n",
    "  \"type\": \"mobile_robot\",\n",
    "  \"move_info\": {\n",
    "    \"type\": \"commandResult\",\n",
    "    \"value\": \"received up\",\n",
    "    \"metadata\": {\n",
    "      \"TimeInstant\": {\n",
    "        \"type\": \"ISO8601\",\n",
    "        \"value\": \"2019-05-12T02:03:45.173Z\"\n",
    "      }\n",
    "    }\n",
    "  },\n",
    "  \"move_status\": {\n",
    "    \"type\": \"commandStatus\",\n",
    "    \"value\": \"PENDING\",\n",
    "    \"metadata\": {\n",
    "      \"TimeInstant\": {\n",
    "        \"type\": \"ISO8601\",\n",
    "        \"value\": \"2019-05-12T02:23:08.449Z\"\n",
    "      }\n",
    "    }\n",
    "  }\n",
    "}\n",
    "```"
   ]
  },
  {
   "cell_type": "markdown",
   "metadata": {},
   "source": [
    "### publish a MQTT message to emulate receiving the command result from mobile_robot"
   ]
  },
  {
   "cell_type": "code",
   "execution_count": null,
   "metadata": {},
   "outputs": [],
   "source": [
    "mosquitto_pub -h mqtt.${DOMAIN} -p 8883 --cafile ${CORE_ROOT}/secrets/DST_Root_CA_X3.pem -d -u iotagent -P ${MQTT__iotagent} -t /${MOBILE_ROBOT_TYPE}/${MOBILE_ROBOT_ID}/cmdexe -m \"${MOBILE_ROBOT_ID}@move|received up\""
   ]
  },
  {
   "cell_type": "markdown",
   "metadata": {},
   "source": [
    "example)\n",
    "```\n",
    "Client mosq/akM9daa2g2b8qK2H0t sending CONNECT\n",
    "Client mosq/akM9daa2g2b8qK2H0t received CONNACK (0)\n",
    "Client mosq/akM9daa2g2b8qK2H0t sending PUBLISH (d0, q0, r0, m1, '/mobile_robot/rosbot2_01/cmdexe', ... (27 bytes))\n",
    "Client mosq/akM9daa2g2b8qK2H0t sending DISCONNECT\n",
    "```"
   ]
  },
  {
   "cell_type": "markdown",
   "metadata": {},
   "source": [
    "when executing the above command, show below messages on the opened terminal.\n",
    "\n",
    "example)\n",
    "```\n",
    "Client mosq/TqE1AIm00sCAJwKzdD received PUBLISH (d0, q0, r0, m0, '/mobile_robot/rosbot2_01/cmdexe', ... (27 bytes))\n",
    "rosbot2_01@move|received up\n",
    "```"
   ]
  },
  {
   "cell_type": "markdown",
   "metadata": {},
   "source": [
    "#### confirm the mobile_robot entity"
   ]
  },
  {
   "cell_type": "code",
   "execution_count": null,
   "metadata": {},
   "outputs": [],
   "source": [
    "TOKEN=$(cat ${CORE_ROOT}/secrets/auth-tokens.json | jq '.[0].settings.bearer_tokens[0].token' -r)\n",
    "curl -sS -H \"Authorization: bearer ${TOKEN}\" -H \"Fiware-Service: ${FIWARE_SERVICE}\" -H \"Fiware-Servicepath: ${MOBILE_ROBOT_SERVICEPATH}\" https://api.${DOMAIN}/orion/v2/entities/${MOBILE_ROBOT_ID}/?attrs=move_info,move_status | jq ."
   ]
  },
  {
   "cell_type": "markdown",
   "metadata": {},
   "source": [
    "**the value of  `move_status` is `OK`**\n",
    "\n",
    "example)\n",
    "```json\n",
    "{\n",
    "  \"id\": \"rosbot2_01\",\n",
    "  \"type\": \"mobile_robot\",\n",
    "  \"move_info\": {\n",
    "    \"type\": \"commandResult\",\n",
    "    \"value\": \"received up\",\n",
    "    \"metadata\": {\n",
    "      \"TimeInstant\": {\n",
    "        \"type\": \"ISO8601\",\n",
    "        \"value\": \"2019-05-12T02:31:34.287Z\"\n",
    "      }\n",
    "    }\n",
    "  },\n",
    "  \"move_status\": {\n",
    "    \"type\": \"commandStatus\",\n",
    "    \"value\": \"OK\",\n",
    "    \"metadata\": {\n",
    "      \"TimeInstant\": {\n",
    "        \"type\": \"ISO8601\",\n",
    "        \"value\": \"2019-05-12T02:31:34.287Z\"\n",
    "      }\n",
    "    }\n",
    "  }\n",
    "}\n",
    "```"
   ]
  },
  {
   "cell_type": "markdown",
   "metadata": {},
   "source": [
    "## 2) `mobile_robot` notifies that it has started moving"
   ]
  },
  {
   "cell_type": "markdown",
   "metadata": {},
   "source": [
    "### publish a MQTT message to emulate receiving the internal state of mobile_robot"
   ]
  },
  {
   "cell_type": "code",
   "execution_count": null,
   "metadata": {},
   "outputs": [],
   "source": [
    "mode=\"navi\"\n",
    "d=$(date '+%Y-%m-%dT%H:%M:%S.%s+09:00')\n",
    "mosquitto_pub -h mqtt.${DOMAIN} -p 8883 --cafile ${CORE_ROOT}/secrets/DST_Root_CA_X3.pem -d -u iotagent -P ${MQTT__iotagent} -t /${MOBILE_ROBOT_TYPE}/${MOBILE_ROBOT_ID}/attrs -m \"${d}|r_mode|${mode}\""
   ]
  },
  {
   "cell_type": "markdown",
   "metadata": {},
   "source": [
    "example)\n",
    "```\n",
    "Client mosq/D9b8qv6drdo4i1Hqwx sending CONNECT\n",
    "Client mosq/D9b8qv6drdo4i1Hqwx received CONNACK (0)\n",
    "Client mosq/D9b8qv6drdo4i1Hqwx sending PUBLISH (d0, q0, r0, m1, '/mobile_robot/rosbot2_01/attrs', ... (48 bytes))\n",
    "Client mosq/D9b8qv6drdo4i1Hqwx sending DISCONNECT\n",
    "```"
   ]
  },
  {
   "cell_type": "markdown",
   "metadata": {},
   "source": [
    "when executing the above command, show below messages on the opened terminal.\n",
    "\n",
    "example)\n",
    "```\n",
    "Client mosq/TqE1AIm00sCAJwKzdD received PUBLISH (d0, q0, r0, m0, '/mobile_robot/rosbot2_01/attrs', ... (48 bytes))\n",
    "2019-05-12T11:38:36.1557628716+09:00|r_mode|navi\n",
    "```"
   ]
  },
  {
   "cell_type": "markdown",
   "metadata": {},
   "source": [
    "#### confirm the mobile_robot entity"
   ]
  },
  {
   "cell_type": "code",
   "execution_count": null,
   "metadata": {},
   "outputs": [],
   "source": [
    "TOKEN=$(cat ${CORE_ROOT}/secrets/auth-tokens.json | jq '.[0].settings.bearer_tokens[0].token' -r)\n",
    "curl -sS -H \"Authorization: bearer ${TOKEN}\" -H \"Fiware-Service: ${FIWARE_SERVICE}\" -H \"Fiware-Servicepath: ${MOBILE_ROBOT_SERVICEPATH}\" https://api.${DOMAIN}/orion/v2/entities/${MOBILE_ROBOT_ID}/?attrs=r_mode,r_state | jq ."
   ]
  },
  {
   "cell_type": "markdown",
   "metadata": {},
   "source": [
    "**when the value of `r_mode` changes to \"navi\", the value of `r_state` changes to \"guiding\" automatically**\n",
    "\n",
    "example)\n",
    "```json\n",
    "{\n",
    "  \"id\": \"rosbot2_01\",\n",
    "  \"type\": \"mobile_robot\",\n",
    "  \"r_mode\": {\n",
    "    \"type\": \"string\",\n",
    "    \"value\": \"navi\",\n",
    "    \"metadata\": {\n",
    "      \"TimeInstant\": {\n",
    "        \"type\": \"ISO8601\",\n",
    "        \"value\": \"2019-05-12T11:38:36.1557628716+09:00\"\n",
    "      }\n",
    "    }\n",
    "  },\n",
    "  \"r_state\": {\n",
    "    \"type\": \"string\",\n",
    "    \"value\": \"guiding\",\n",
    "    \"metadata\": {\n",
    "      \"TimeInstant\": {\n",
    "        \"type\": \"ISO8601\",\n",
    "        \"value\": \"2019-05-12T02:38:36.00Z\"\n",
    "      }\n",
    "    }\n",
    "  }\n",
    "}\n",
    "```"
   ]
  },
  {
   "cell_type": "markdown",
   "metadata": {},
   "source": [
    "## 3) `mobile_robot` notifies its current position periodically"
   ]
  },
  {
   "cell_type": "markdown",
   "metadata": {},
   "source": [
    "### publish a MQTT message to emulate receiving the position of mobile_robot"
   ]
  },
  {
   "cell_type": "markdown",
   "metadata": {},
   "source": [
    "#### 1: At first, mobile_robot notifies its current position from near the initial point. But nothing happens because mobile_robot has not reached  the point to turn the LED on."
   ]
  },
  {
   "cell_type": "code",
   "execution_count": null,
   "metadata": {},
   "outputs": [],
   "source": [
    "x=0.05\n",
    "y=0.01\n",
    "theta=0.0\n",
    "d=$(date '+%Y-%m-%dT%H:%M:%S.%s+09:00')\n",
    "mosquitto_pub -h mqtt.${DOMAIN} -p 8883 --cafile ${CORE_ROOT}/secrets/DST_Root_CA_X3.pem -d -u iotagent -P ${MQTT__iotagent} -t /${MOBILE_ROBOT_TYPE}/${MOBILE_ROBOT_ID}/attrs -m \"${d}|x|${x}|y|${y}|theta|${theta}\""
   ]
  },
  {
   "cell_type": "markdown",
   "metadata": {},
   "source": [
    "example)\n",
    "```\n",
    "Client mosq/gK4hzUv1CdICXD3pqW sending CONNECT\n",
    "Client mosq/gK4hzUv1CdICXD3pqW received CONNACK (0)\n",
    "Client mosq/gK4hzUv1CdICXD3pqW sending PUBLISH (d0, q0, r0, m1, '/mobile_robot/rosbot2_01/attrs', ... (60 bytes))\n",
    "Client mosq/gK4hzUv1CdICXD3pqW sending DISCONNECT\n",
    "```"
   ]
  },
  {
   "cell_type": "markdown",
   "metadata": {},
   "source": [
    "when executing the above command, show below messages on the opened terminal.\n",
    "\n",
    "example)\n",
    "```\n",
    "Client mosq/TqE1AIm00sCAJwKzdD received PUBLISH (d0, q0, r0, m0, '/mobile_robot/rosbot2_01/attrs', ... (60 bytes))\n",
    "2019-05-12T11:48:44.1557629324+09:00|x|0.05|y|0.01|theta|0.0\n",
    "```"
   ]
  },
  {
   "cell_type": "markdown",
   "metadata": {},
   "source": [
    "#### 2: when the mobile_robot notifies its current position nearby the point to be turned LED on, `dest_led` receives the `action|on` command automatically."
   ]
  },
  {
   "cell_type": "code",
   "execution_count": null,
   "metadata": {},
   "outputs": [],
   "source": [
    "x=0.78\n",
    "y=0.01\n",
    "theta=0.0\n",
    "d=$(date '+%Y-%m-%dT%H:%M:%S.%s+09:00')\n",
    "mosquitto_pub -h mqtt.${DOMAIN} -p 8883 --cafile ${CORE_ROOT}/secrets/DST_Root_CA_X3.pem -d -u iotagent -P ${MQTT__iotagent} -t /${MOBILE_ROBOT_TYPE}/${MOBILE_ROBOT_ID}/attrs -m \"${d}|x|${x}|y|${y}|theta|${theta}\""
   ]
  },
  {
   "cell_type": "markdown",
   "metadata": {},
   "source": [
    "example)\n",
    "```\n",
    "Client mosq/AGcKEoaq6b3c494WMC sending CONNECT\n",
    "Client mosq/AGcKEoaq6b3c494WMC received CONNACK (0)\n",
    "Client mosq/AGcKEoaq6b3c494WMC sending PUBLISH (d0, q0, r0, m1, '/mobile_robot/rosbot2_01/attrs', ... (60 bytes))\n",
    "Client mosq/AGcKEoaq6b3c494WMC sending DISCONNECT\n",
    "```"
   ]
  },
  {
   "cell_type": "markdown",
   "metadata": {},
   "source": [
    "when executing the above command, show below messages on the opened terminal.\n",
    "\n",
    "example)\n",
    "```\n",
    "Client mosq/TqE1AIm00sCAJwKzdD received PUBLISH (d0, q0, r0, m0, '/mobile_robot/rosbot2_01/attrs', ... (60 bytes))\n",
    "2019-05-12T11:53:44.1557629624+09:00|x|0.78|y|0.01|theta|0.0\n",
    "Client mosq/TqE1AIm00sCAJwKzdD received PUBLISH (d0, q0, r0, m0, '/led/led_01/cmd', ... (16 bytes))\n",
    "led_01@action|on\n",
    "```"
   ]
  },
  {
   "cell_type": "markdown",
   "metadata": {},
   "source": [
    "#### confirm dest_led entity"
   ]
  },
  {
   "cell_type": "code",
   "execution_count": null,
   "metadata": {},
   "outputs": [],
   "source": [
    "TOKEN=$(cat ${CORE_ROOT}/secrets/auth-tokens.json | jq '.[0].settings.bearer_tokens[0].token' -r)\n",
    "curl -sS -H \"Authorization: bearer ${TOKEN}\" -H \"Fiware-Service: ${FIWARE_SERVICE}\" -H \"Fiware-Servicepath: ${DEST_LED_SERVICEPATH}\" https://api.${DOMAIN}/orion/v2/entities/${DEST_LED_ID}/?attrs=action_info,action_status | jq ."
   ]
  },
  {
   "cell_type": "markdown",
   "metadata": {},
   "source": [
    "**the value of  `action_status` is `PENDING`**\n",
    "\n",
    "example)\n",
    "```json\n",
    "{\n",
    "  \"id\": \"led_01\",\n",
    "  \"type\": \"led\",\n",
    "  \"action_info\": {\n",
    "    \"type\": \"commandResult\",\n",
    "    \"value\": \"received on\",\n",
    "    \"metadata\": {\n",
    "      \"TimeInstant\": {\n",
    "        \"type\": \"ISO8601\",\n",
    "        \"value\": \"2019-05-11T10:46:10.650Z\"\n",
    "      }\n",
    "    }\n",
    "  },\n",
    "  \"action_status\": {\n",
    "    \"type\": \"commandStatus\",\n",
    "    \"value\": \"PENDING\",\n",
    "    \"metadata\": {\n",
    "      \"TimeInstant\": {\n",
    "        \"type\": \"ISO8601\",\n",
    "        \"value\": \"2019-05-12T02:53:43.713Z\"\n",
    "      }\n",
    "    }\n",
    "  }\n",
    "}\n",
    "```"
   ]
  },
  {
   "cell_type": "markdown",
   "metadata": {},
   "source": [
    "### publish a MQTT message to emulate receiving the command result from dest_led"
   ]
  },
  {
   "cell_type": "code",
   "execution_count": null,
   "metadata": {
    "scrolled": true
   },
   "outputs": [],
   "source": [
    "mosquitto_pub -h mqtt.${DOMAIN} -p 8883 --cafile ${CORE_ROOT}/secrets/DST_Root_CA_X3.pem -d -u iotagent -P ${MQTT__iotagent} -t /${DEST_LED_TYPE}/${DEST_LED_ID}/cmdexe -m \"${DEST_LED_ID}@action|received on\""
   ]
  },
  {
   "cell_type": "markdown",
   "metadata": {},
   "source": [
    "example)\n",
    "```\n",
    "Client mosq/ZNj0gIzdIo9Tjdrnm1 sending CONNECT\n",
    "Client mosq/ZNj0gIzdIo9Tjdrnm1 received CONNACK (0)\n",
    "Client mosq/ZNj0gIzdIo9Tjdrnm1 sending PUBLISH (d0, q0, r0, m1, '/led/led_01/cmdexe', ... (25 bytes))\n",
    "Client mosq/ZNj0gIzdIo9Tjdrnm1 sending DISCONNECT\n",
    "```"
   ]
  },
  {
   "cell_type": "markdown",
   "metadata": {},
   "source": [
    "when executing the above command, show below messages on the opened terminal.\n",
    "\n",
    "example)\n",
    "```\n",
    "Client mosq/TqE1AIm00sCAJwKzdD received PUBLISH (d0, q0, r0, m0, '/led/led_01/cmdexe', ... (25 bytes))\n",
    "led_01@action|received on\n",
    "```"
   ]
  },
  {
   "cell_type": "markdown",
   "metadata": {},
   "source": [
    "#### confirm dest_led entity"
   ]
  },
  {
   "cell_type": "code",
   "execution_count": null,
   "metadata": {},
   "outputs": [],
   "source": [
    "TOKEN=$(cat ${CORE_ROOT}/secrets/auth-tokens.json | jq '.[0].settings.bearer_tokens[0].token' -r)\n",
    "curl -sS -H \"Authorization: bearer ${TOKEN}\" -H \"Fiware-Service: ${FIWARE_SERVICE}\" -H \"Fiware-Servicepath: ${DEST_LED_SERVICEPATH}\" https://api.${DOMAIN}/orion/v2/entities/${DEST_LED_ID}/?attrs=action_info,action_status | jq ."
   ]
  },
  {
   "cell_type": "markdown",
   "metadata": {},
   "source": [
    "**the value of  `action_status` is `OK`**\n",
    "\n",
    "example)\n",
    "```json\n",
    "{\n",
    "  \"id\": \"led_01\",\n",
    "  \"type\": \"led\",\n",
    "  \"action_info\": {\n",
    "    \"type\": \"commandResult\",\n",
    "    \"value\": \"received on\",\n",
    "    \"metadata\": {\n",
    "      \"TimeInstant\": {\n",
    "        \"type\": \"ISO8601\",\n",
    "        \"value\": \"2019-05-12T02:59:47.818Z\"\n",
    "      }\n",
    "    }\n",
    "  },\n",
    "  \"action_status\": {\n",
    "    \"type\": \"commandStatus\",\n",
    "    \"value\": \"OK\",\n",
    "    \"metadata\": {\n",
    "      \"TimeInstant\": {\n",
    "        \"type\": \"ISO8601\",\n",
    "        \"value\": \"2019-05-12T02:59:47.818Z\"\n",
    "      }\n",
    "    }\n",
    "  }\n",
    "}\n",
    "```"
   ]
  },
  {
   "cell_type": "markdown",
   "metadata": {},
   "source": [
    "## 4) `mobile_robot` notifies that it has finished moving"
   ]
  },
  {
   "cell_type": "markdown",
   "metadata": {},
   "source": [
    "### publish a MQTT message to emulate receiving the internal state of mobile_robot"
   ]
  },
  {
   "cell_type": "code",
   "execution_count": null,
   "metadata": {},
   "outputs": [],
   "source": [
    "mode=\"standby\"\n",
    "d=$(date '+%Y-%m-%dT%H:%M:%S.%s+09:00')\n",
    "mosquitto_pub -h mqtt.${DOMAIN} -p 8883 --cafile ${CORE_ROOT}/secrets/DST_Root_CA_X3.pem -d -u iotagent -P ${MQTT__iotagent} -t /${MOBILE_ROBOT_TYPE}/${MOBILE_ROBOT_ID}/attrs -m \"${d}|r_mode|${mode}\""
   ]
  },
  {
   "cell_type": "markdown",
   "metadata": {},
   "source": [
    "example)\n",
    "```\n",
    "Client mosq/44dC7lLVwYgnr7raur sending CONNECT\n",
    "Client mosq/44dC7lLVwYgnr7raur received CONNACK (0)\n",
    "Client mosq/44dC7lLVwYgnr7raur sending PUBLISH (d0, q0, r0, m1, '/mobile_robot/rosbot2_01/attrs', ... (51 bytes))\n",
    "Client mosq/44dC7lLVwYgnr7raur sending DISCONNECT\n",
    "```"
   ]
  },
  {
   "cell_type": "markdown",
   "metadata": {},
   "source": [
    "when executing the above command, show below messages on the opened terminal.\n",
    "\n",
    "example)\n",
    "```\n",
    "Client mosq/TqE1AIm00sCAJwKzdD received PUBLISH (d0, q0, r0, m0, '/mobile_robot/rosbot2_01/attrs', ... (51 bytes))\n",
    "2019-05-12T12:08:09.1557630489+09:00|r_mode|standby\n",
    "```"
   ]
  },
  {
   "cell_type": "markdown",
   "metadata": {},
   "source": [
    "#### confirm the mobile_robot entity"
   ]
  },
  {
   "cell_type": "code",
   "execution_count": null,
   "metadata": {},
   "outputs": [],
   "source": [
    "TOKEN=$(cat ${CORE_ROOT}/secrets/auth-tokens.json | jq '.[0].settings.bearer_tokens[0].token' -r)\n",
    "curl -sS -H \"Authorization: bearer ${TOKEN}\" -H \"Fiware-Service: ${FIWARE_SERVICE}\" -H \"Fiware-Servicepath: ${MOBILE_ROBOT_SERVICEPATH}\" https://api.${DOMAIN}/orion/v2/entities/${MOBILE_ROBOT_ID}/?attrs=r_mode,r_state | jq ."
   ]
  },
  {
   "cell_type": "markdown",
   "metadata": {},
   "source": [
    "**when the value of `r_mode` changes to \"standby\", the value of `r_state` changes to \"suspending\" automatically**\n",
    "\n",
    "example)\n",
    "```json\n",
    "{\n",
    "  \"id\": \"rosbot2_01\",\n",
    "  \"type\": \"mobile_robot\",\n",
    "  \"r_mode\": {\n",
    "    \"type\": \"string\",\n",
    "    \"value\": \"standby\",\n",
    "    \"metadata\": {\n",
    "      \"TimeInstant\": {\n",
    "        \"type\": \"ISO8601\",\n",
    "        \"value\": \"2019-05-12T12:08:09.1557630489+09:00\"\n",
    "      }\n",
    "    }\n",
    "  },\n",
    "  \"r_state\": {\n",
    "    \"type\": \"string\",\n",
    "    \"value\": \"suspending\",\n",
    "    \"metadata\": {\n",
    "      \"TimeInstant\": {\n",
    "        \"type\": \"ISO8601\",\n",
    "        \"value\": \"2019-05-12T03:08:08.00Z\"\n",
    "      }\n",
    "    }\n",
    "  }\n",
    "}\n",
    "```"
   ]
  },
  {
   "cell_type": "markdown",
   "metadata": {},
   "source": [
    "## 5) the visitor pushes the arrival button of `dest_button`"
   ]
  },
  {
   "cell_type": "code",
   "execution_count": null,
   "metadata": {},
   "outputs": [],
   "source": [
    "d=$(date '+%Y-%m-%dT%H:%M:%S.%s+09:00')\n",
    "mosquitto_pub -h mqtt.${DOMAIN} -p 8883 --cafile ${CORE_ROOT}/secrets/DST_Root_CA_X3.pem -d -u iotagent -P ${MQTT__iotagent} -t /${DEST_BUTTON_TYPE}/${DEST_BUTTON_ID}/attrs -m \"${d}|push|${d}\""
   ]
  },
  {
   "cell_type": "markdown",
   "metadata": {},
   "source": [
    "example)\n",
    "```\n",
    "Client mosq/K09A0nnTo89nbMbjNl sending CONNECT\n",
    "Client mosq/K09A0nnTo89nbMbjNl received CONNACK (0)\n",
    "Client mosq/K09A0nnTo89nbMbjNl sending PUBLISH (d0, q0, r0, m1, '/button/button_01/attrs', ... (78 bytes))\n",
    "Client mosq/K09A0nnTo89nbMbjNl sending DISCONNECT\n",
    "```"
   ]
  },
  {
   "cell_type": "markdown",
   "metadata": {},
   "source": [
    "when executing the above command, show below messages on the opened terminal.\n",
    "\n",
    "**send `move|return` command to mobile_robot automatically.**\n",
    "\n",
    "**send `action|off` command to dest_led automatically.**\n",
    "\n",
    "example)\n",
    "```\n",
    "Client mosq/TqE1AIm00sCAJwKzdD received PUBLISH (d0, q0, r0, m0, '/button/button_01/attrs', ... (78 bytes))\n",
    "2019-05-12T12:14:21.1557630861+09:00|push|2019-05-12T12:14:21.1557630861+09:00\n",
    "Client mosq/TqE1AIm00sCAJwKzdD received PUBLISH (d0, q0, r0, m0, '/mobile_robot/rosbot2_01/cmd', ... (22 bytes))\n",
    "rosbot2_01@move|return\n",
    "Client mosq/TqE1AIm00sCAJwKzdD received PUBLISH (d0, q0, r0, m0, '/led/led_01/cmd', ... (17 bytes))\n",
    "led_01@action|off\n",
    "```"
   ]
  },
  {
   "cell_type": "markdown",
   "metadata": {},
   "source": [
    "#### confirm the mobile_robot entity"
   ]
  },
  {
   "cell_type": "code",
   "execution_count": null,
   "metadata": {},
   "outputs": [],
   "source": [
    "TOKEN=$(cat ${CORE_ROOT}/secrets/auth-tokens.json | jq '.[0].settings.bearer_tokens[0].token' -r)\n",
    "curl -sS -H \"Authorization: bearer ${TOKEN}\" -H \"Fiware-Service: ${FIWARE_SERVICE}\" -H \"Fiware-Servicepath: ${MOBILE_ROBOT_SERVICEPATH}\" https://api.${DOMAIN}/orion/v2/entities/${MOBILE_ROBOT_ID}/?attrs=move_info,move_status | jq ."
   ]
  },
  {
   "cell_type": "markdown",
   "metadata": {},
   "source": [
    "**the value of  `move_status` is `PENDING`**\n",
    "\n",
    "example)\n",
    "```json\n",
    "{\n",
    "  \"id\": \"rosbot2_01\",\n",
    "  \"type\": \"mobile_robot\",\n",
    "  \"move_info\": {\n",
    "    \"type\": \"commandResult\",\n",
    "    \"value\": \"received up\",\n",
    "    \"metadata\": {\n",
    "      \"TimeInstant\": {\n",
    "        \"type\": \"ISO8601\",\n",
    "        \"value\": \"2019-05-12T02:31:34.287Z\"\n",
    "      }\n",
    "    }\n",
    "  },\n",
    "  \"move_status\": {\n",
    "    \"type\": \"commandStatus\",\n",
    "    \"value\": \"PENDING\",\n",
    "    \"metadata\": {\n",
    "      \"TimeInstant\": {\n",
    "        \"type\": \"ISO8601\",\n",
    "        \"value\": \"2019-05-12T03:14:21.194Z\"\n",
    "      }\n",
    "    }\n",
    "  }\n",
    "}\n",
    "```"
   ]
  },
  {
   "cell_type": "markdown",
   "metadata": {},
   "source": [
    "#### confirm dest_led entity"
   ]
  },
  {
   "cell_type": "code",
   "execution_count": null,
   "metadata": {},
   "outputs": [],
   "source": [
    "TOKEN=$(cat ${CORE_ROOT}/secrets/auth-tokens.json | jq '.[0].settings.bearer_tokens[0].token' -r)\n",
    "curl -sS -H \"Authorization: bearer ${TOKEN}\" -H \"Fiware-Service: ${FIWARE_SERVICE}\" -H \"Fiware-Servicepath: ${DEST_LED_SERVICEPATH}\" https://api.${DOMAIN}/orion/v2/entities/${DEST_LED_ID}/?attrs=action_info,action_status | jq ."
   ]
  },
  {
   "cell_type": "markdown",
   "metadata": {},
   "source": [
    "**the value of  `action_status` is `PENDING`**\n",
    "\n",
    "example)\n",
    "```json\n",
    "{\n",
    "  \"id\": \"led_01\",\n",
    "  \"type\": \"led\",\n",
    "  \"action_info\": {\n",
    "    \"type\": \"commandResult\",\n",
    "    \"value\": \"received on\",\n",
    "    \"metadata\": {\n",
    "      \"TimeInstant\": {\n",
    "        \"type\": \"ISO8601\",\n",
    "        \"value\": \"2019-05-12T02:59:47.818Z\"\n",
    "      }\n",
    "    }\n",
    "  },\n",
    "  \"action_status\": {\n",
    "    \"type\": \"commandStatus\",\n",
    "    \"value\": \"PENDING\",\n",
    "    \"metadata\": {\n",
    "      \"TimeInstant\": {\n",
    "        \"type\": \"ISO8601\",\n",
    "        \"value\": \"2019-05-12T03:14:21.247Z\"\n",
    "      }\n",
    "    }\n",
    "  }\n",
    "}\n",
    "```"
   ]
  },
  {
   "cell_type": "markdown",
   "metadata": {},
   "source": [
    "### publish a MQTT message to emulate receiving the command result from mobile_robot"
   ]
  },
  {
   "cell_type": "code",
   "execution_count": null,
   "metadata": {},
   "outputs": [],
   "source": [
    "mosquitto_pub -h mqtt.${DOMAIN} -p 8883 --cafile ${CORE_ROOT}/secrets/DST_Root_CA_X3.pem -d -u iotagent -P ${MQTT__iotagent} -t /${MOBILE_ROBOT_TYPE}/${MOBILE_ROBOT_ID}/cmdexe -m \"${MOBILE_ROBOT_ID}@move|received return\""
   ]
  },
  {
   "cell_type": "markdown",
   "metadata": {},
   "source": [
    "example)\n",
    "```\n",
    "Client mosq/Gr0gThCfozLAMnfuTN sending CONNECT\n",
    "Client mosq/Gr0gThCfozLAMnfuTN received CONNACK (0)\n",
    "Client mosq/Gr0gThCfozLAMnfuTN sending PUBLISH (d0, q0, r0, m1, '/mobile_robot/rosbot2_01/cmdexe', ... (31 bytes))\n",
    "Client mosq/Gr0gThCfozLAMnfuTN sending DISCONNECT\n",
    "```"
   ]
  },
  {
   "cell_type": "markdown",
   "metadata": {},
   "source": [
    "when executing the above command, show below messages on the opened terminal.\n",
    "\n",
    "example)\n",
    "```\n",
    "Client mosq/TqE1AIm00sCAJwKzdD received PUBLISH (d0, q0, r0, m0, '/mobile_robot/rosbot2_01/cmdexe', ... (31 bytes))\n",
    "rosbot2_01@move|received return\n",
    "```"
   ]
  },
  {
   "cell_type": "markdown",
   "metadata": {},
   "source": [
    "#### confirm the mobile_robot entity"
   ]
  },
  {
   "cell_type": "code",
   "execution_count": null,
   "metadata": {},
   "outputs": [],
   "source": [
    "TOKEN=$(cat ${CORE_ROOT}/secrets/auth-tokens.json | jq '.[0].settings.bearer_tokens[0].token' -r)\n",
    "curl -sS -H \"Authorization: bearer ${TOKEN}\" -H \"Fiware-Service: ${FIWARE_SERVICE}\" -H \"Fiware-Servicepath: ${MOBILE_ROBOT_SERVICEPATH}\" https://api.${DOMAIN}/orion/v2/entities/${MOBILE_ROBOT_ID}/?attrs=move_info,move_status | jq ."
   ]
  },
  {
   "cell_type": "markdown",
   "metadata": {},
   "source": [
    "**the value of  `move_status` is `OK`**\n",
    "\n",
    "example)\n",
    "```json\n",
    "{\n",
    "  \"id\": \"rosbot2_01\",\n",
    "  \"type\": \"mobile_robot\",\n",
    "  \"move_info\": {\n",
    "    \"type\": \"commandResult\",\n",
    "    \"value\": \"received return\",\n",
    "    \"metadata\": {\n",
    "      \"TimeInstant\": {\n",
    "        \"type\": \"ISO8601\",\n",
    "        \"value\": \"2019-05-12T03:19:37.103Z\"\n",
    "      }\n",
    "    }\n",
    "  },\n",
    "  \"move_status\": {\n",
    "    \"type\": \"commandStatus\",\n",
    "    \"value\": \"OK\",\n",
    "    \"metadata\": {\n",
    "      \"TimeInstant\": {\n",
    "        \"type\": \"ISO8601\",\n",
    "        \"value\": \"2019-05-12T03:19:37.103Z\"\n",
    "      }\n",
    "    }\n",
    "  }\n",
    "}\n",
    "```"
   ]
  },
  {
   "cell_type": "markdown",
   "metadata": {},
   "source": [
    "### publish a MQTT message to emulate receiving the command result from dest_led"
   ]
  },
  {
   "cell_type": "code",
   "execution_count": null,
   "metadata": {
    "scrolled": true
   },
   "outputs": [],
   "source": [
    "mosquitto_pub -h mqtt.${DOMAIN} -p 8883 --cafile ${CORE_ROOT}/secrets/DST_Root_CA_X3.pem -d -u iotagent -P ${MQTT__iotagent} -t /${DEST_LED_TYPE}/${DEST_LED_ID}/cmdexe -m \"${DEST_LED_ID}@action|received off\""
   ]
  },
  {
   "cell_type": "markdown",
   "metadata": {},
   "source": [
    "example)\n",
    "```\n",
    "Client mosq/onEcaJqDUnvMMMNL1E sending CONNECT\n",
    "Client mosq/onEcaJqDUnvMMMNL1E received CONNACK (0)\n",
    "Client mosq/onEcaJqDUnvMMMNL1E sending PUBLISH (d0, q0, r0, m1, '/led/led_01/cmdexe', ... (26 bytes))\n",
    "Client mosq/onEcaJqDUnvMMMNL1E sending DISCONNECT\n",
    "```"
   ]
  },
  {
   "cell_type": "markdown",
   "metadata": {},
   "source": [
    "when executing the above command, show below messages on the opened terminal.\n",
    "\n",
    "example)\n",
    "```\n",
    "Client mosq/TqE1AIm00sCAJwKzdD received PUBLISH (d0, q0, r0, m0, '/led/led_01/cmdexe', ... (26 bytes))\n",
    "led_01@action|received off\n",
    "```"
   ]
  },
  {
   "cell_type": "markdown",
   "metadata": {},
   "source": [
    "#### confirm dest_led entity"
   ]
  },
  {
   "cell_type": "code",
   "execution_count": null,
   "metadata": {},
   "outputs": [],
   "source": [
    "TOKEN=$(cat ${CORE_ROOT}/secrets/auth-tokens.json | jq '.[0].settings.bearer_tokens[0].token' -r)\n",
    "curl -sS -H \"Authorization: bearer ${TOKEN}\" -H \"Fiware-Service: ${FIWARE_SERVICE}\" -H \"Fiware-Servicepath: ${DEST_LED_SERVICEPATH}\" https://api.${DOMAIN}/orion/v2/entities/${DEST_LED_ID}/?attrs=action_info,action_status | jq ."
   ]
  },
  {
   "cell_type": "markdown",
   "metadata": {},
   "source": [
    "**the value of  `action_status` is `OK`**\n",
    "\n",
    "example)\n",
    "```json\n",
    "{\n",
    "  \"id\": \"led_01\",\n",
    "  \"type\": \"led\",\n",
    "  \"action_info\": {\n",
    "    \"type\": \"commandResult\",\n",
    "    \"value\": \"received off\",\n",
    "    \"metadata\": {\n",
    "      \"TimeInstant\": {\n",
    "        \"type\": \"ISO8601\",\n",
    "        \"value\": \"2019-05-12T03:21:11.382Z\"\n",
    "      }\n",
    "    }\n",
    "  },\n",
    "  \"action_status\": {\n",
    "    \"type\": \"commandStatus\",\n",
    "    \"value\": \"OK\",\n",
    "    \"metadata\": {\n",
    "      \"TimeInstant\": {\n",
    "        \"type\": \"ISO8601\",\n",
    "        \"value\": \"2019-05-12T03:21:11.382Z\"\n",
    "      }\n",
    "    }\n",
    "  }\n",
    "}\n",
    "```"
   ]
  },
  {
   "cell_type": "markdown",
   "metadata": {},
   "source": [
    "## 6) `mobile_robot` notifies that it has started moving"
   ]
  },
  {
   "cell_type": "markdown",
   "metadata": {},
   "source": [
    "### publish a MQTT message to emulate receiving the internal state of mobile_robot"
   ]
  },
  {
   "cell_type": "code",
   "execution_count": null,
   "metadata": {},
   "outputs": [],
   "source": [
    "mode=\"navi\"\n",
    "d=$(date '+%Y-%m-%dT%H:%M:%S.%s+09:00')\n",
    "mosquitto_pub -h mqtt.${DOMAIN} -p 8883 --cafile ${CORE_ROOT}/secrets/DST_Root_CA_X3.pem -d -u iotagent -P ${MQTT__iotagent} -t /${MOBILE_ROBOT_TYPE}/${MOBILE_ROBOT_ID}/attrs -m \"${d}|r_mode|${mode}\""
   ]
  },
  {
   "cell_type": "markdown",
   "metadata": {},
   "source": [
    "example)\n",
    "```\n",
    "Client mosq/bCiirbgvUcURsiSx0u sending CONNECT\n",
    "Client mosq/bCiirbgvUcURsiSx0u received CONNACK (0)\n",
    "Client mosq/bCiirbgvUcURsiSx0u sending PUBLISH (d0, q0, r0, m1, '/mobile_robot/rosbot2_01/attrs', ... (48 bytes))\n",
    "Client mosq/bCiirbgvUcURsiSx0u sending DISCONNECT\n",
    "```"
   ]
  },
  {
   "cell_type": "markdown",
   "metadata": {},
   "source": [
    "when executing the above command, show below messages on the opened terminal.\n",
    "\n",
    "example)\n",
    "```\n",
    "Client mosq/TqE1AIm00sCAJwKzdD received PUBLISH (d0, q0, r0, m0, '/mobile_robot/rosbot2_01/attrs', ... (48 bytes))\n",
    "2019-05-12T12:26:06.1557631566+09:00|r_mode|navi\n",
    "```"
   ]
  },
  {
   "cell_type": "markdown",
   "metadata": {},
   "source": [
    "#### confirm the mobile_robot entity"
   ]
  },
  {
   "cell_type": "code",
   "execution_count": null,
   "metadata": {},
   "outputs": [],
   "source": [
    "TOKEN=$(cat ${CORE_ROOT}/secrets/auth-tokens.json | jq '.[0].settings.bearer_tokens[0].token' -r)\n",
    "curl -sS -H \"Authorization: bearer ${TOKEN}\" -H \"Fiware-Service: ${FIWARE_SERVICE}\" -H \"Fiware-Servicepath: ${MOBILE_ROBOT_SERVICEPATH}\" https://api.${DOMAIN}/orion/v2/entities/${MOBILE_ROBOT_ID}/?attrs=r_mode,r_state | jq ."
   ]
  },
  {
   "cell_type": "markdown",
   "metadata": {},
   "source": [
    "**when the value of `r_mode` changes to \"navi\", the value of `r_state` changes to \"returning\" automatically**\n",
    "\n",
    "example)\n",
    "```json\n",
    "{\n",
    "  \"id\": \"rosbot2_01\",\n",
    "  \"type\": \"mobile_robot\",\n",
    "  \"r_mode\": {\n",
    "    \"type\": \"string\",\n",
    "    \"value\": \"navi\",\n",
    "    \"metadata\": {\n",
    "      \"TimeInstant\": {\n",
    "        \"type\": \"ISO8601\",\n",
    "        \"value\": \"2019-05-12T12:26:06.1557631566+09:00\"\n",
    "      }\n",
    "    }\n",
    "  },\n",
    "  \"r_state\": {\n",
    "    \"type\": \"string\",\n",
    "    \"value\": \"returning\",\n",
    "    \"metadata\": {\n",
    "      \"TimeInstant\": {\n",
    "        \"type\": \"ISO8601\",\n",
    "        \"value\": \"2019-05-12T03:26:06.00Z\"\n",
    "      }\n",
    "    }\n",
    "  }\n",
    "}\n",
    "```"
   ]
  },
  {
   "cell_type": "markdown",
   "metadata": {},
   "source": [
    "## 7) `mobile_robot` notifies its current position periodically"
   ]
  },
  {
   "cell_type": "markdown",
   "metadata": {},
   "source": [
    "### publish a MQTT message to emulate receiving the position of mobile_robot"
   ]
  },
  {
   "cell_type": "markdown",
   "metadata": {},
   "source": [
    "#### 1: At first, mobile_robot notifies its current position from near the goal point. But nothing happens because mobile_robot is returning to its initial point."
   ]
  },
  {
   "cell_type": "code",
   "execution_count": null,
   "metadata": {},
   "outputs": [],
   "source": [
    "x=1.00\n",
    "y=0.01\n",
    "theta=0.0\n",
    "d=$(date '+%Y-%m-%dT%H:%M:%S.%s+09:00')\n",
    "mosquitto_pub -h mqtt.${DOMAIN} -p 8883 --cafile ${CORE_ROOT}/secrets/DST_Root_CA_X3.pem -d -u iotagent -P ${MQTT__iotagent} -t /${MOBILE_ROBOT_TYPE}/${MOBILE_ROBOT_ID}/attrs -m \"${d}|x|${x}|y|${y}|theta|${theta}\""
   ]
  },
  {
   "cell_type": "markdown",
   "metadata": {},
   "source": [
    "example)\n",
    "```\n",
    "Client mosq/HMbUFeW9ltTzUCiQzX sending CONNECT\n",
    "Client mosq/HMbUFeW9ltTzUCiQzX received CONNACK (0)\n",
    "Client mosq/HMbUFeW9ltTzUCiQzX sending PUBLISH (d0, q0, r0, m1, '/mobile_robot/rosbot2_01/attrs', ... (60 bytes))\n",
    "Client mosq/HMbUFeW9ltTzUCiQzX sending DISCONNECT\n",
    "```"
   ]
  },
  {
   "cell_type": "markdown",
   "metadata": {},
   "source": [
    "when executing the above command, show below messages on the opened terminal.\n",
    "\n",
    "example)\n",
    "```\n",
    "Client mosq/TqE1AIm00sCAJwKzdD received PUBLISH (d0, q0, r0, m0, '/mobile_robot/rosbot2_01/attrs', ... (60 bytes))\n",
    "2019-05-12T12:29:15.1557631755+09:00|x|1.00|y|0.01|theta|0.0\n",
    "```"
   ]
  },
  {
   "cell_type": "markdown",
   "metadata": {},
   "source": [
    "#### 2: Although the mobile_robot notifies its current position nearby the point to be turned LED on, nothing happens because mobile_robot is returning to its initial point."
   ]
  },
  {
   "cell_type": "code",
   "execution_count": null,
   "metadata": {},
   "outputs": [],
   "source": [
    "x=0.78\n",
    "y=0.01\n",
    "theta=0.0\n",
    "d=$(date '+%Y-%m-%dT%H:%M:%S.%s+09:00')\n",
    "mosquitto_pub -h mqtt.${DOMAIN} -p 8883 --cafile ${CORE_ROOT}/secrets/DST_Root_CA_X3.pem -d -u iotagent -P ${MQTT__iotagent} -t /${MOBILE_ROBOT_TYPE}/${MOBILE_ROBOT_ID}/attrs -m \"${d}|x|${x}|y|${y}|theta|${theta}\""
   ]
  },
  {
   "cell_type": "markdown",
   "metadata": {},
   "source": [
    "example)\n",
    "```\n",
    "Client mosq/Kg51iLapFEWTsPMPdr sending CONNECT\n",
    "Client mosq/Kg51iLapFEWTsPMPdr received CONNACK (0)\n",
    "Client mosq/Kg51iLapFEWTsPMPdr sending PUBLISH (d0, q0, r0, m1, '/mobile_robot/rosbot2_01/attrs', ... (60 bytes))\n",
    "Client mosq/Kg51iLapFEWTsPMPdr sending DISCONNECT\n",
    "```"
   ]
  },
  {
   "cell_type": "markdown",
   "metadata": {},
   "source": [
    "when executing the above command, show below messages on the opened terminal.\n",
    "\n",
    "example)\n",
    "```\n",
    "Client mosq/TqE1AIm00sCAJwKzdD received PUBLISH (d0, q0, r0, m0, '/mobile_robot/rosbot2_01/attrs', ... (60 bytes))\n",
    "2019-05-12T12:32:20.1557631940+09:00|x|0.78|y|0.01|theta|0.0\n",
    "```"
   ]
  },
  {
   "cell_type": "markdown",
   "metadata": {},
   "source": [
    "## 8) `mobile_robot` notifies that it has finished moving"
   ]
  },
  {
   "cell_type": "markdown",
   "metadata": {},
   "source": [
    "### publish a MQTT message to emulate receiving the internal state of mobile_robot"
   ]
  },
  {
   "cell_type": "code",
   "execution_count": null,
   "metadata": {},
   "outputs": [],
   "source": [
    "mode=\"standby\"\n",
    "d=$(date '+%Y-%m-%dT%H:%M:%S.%s+09:00')\n",
    "mosquitto_pub -h mqtt.${DOMAIN} -p 8883 --cafile ${CORE_ROOT}/secrets/DST_Root_CA_X3.pem -d -u iotagent -P ${MQTT__iotagent} -t /${MOBILE_ROBOT_TYPE}/${MOBILE_ROBOT_ID}/attrs -m \"${d}|r_mode|${mode}\""
   ]
  },
  {
   "cell_type": "markdown",
   "metadata": {},
   "source": [
    "example)\n",
    "```\n",
    "Client mosq/oTv4IyhlHWv75kURTD sending CONNECT\n",
    "Client mosq/oTv4IyhlHWv75kURTD received CONNACK (0)\n",
    "Client mosq/oTv4IyhlHWv75kURTD sending PUBLISH (d0, q0, r0, m1, '/mobile_robot/rosbot2_01/attrs', ... (51 bytes))\n",
    "Client mosq/oTv4IyhlHWv75kURTD sending DISCONNECT\n",
    "```"
   ]
  },
  {
   "cell_type": "markdown",
   "metadata": {},
   "source": [
    "when executing the above command, show below messages on the opened terminal.\n",
    "\n",
    "example)\n",
    "```\n",
    "Client mosq/TqE1AIm00sCAJwKzdD received PUBLISH (d0, q0, r0, m0, '/mobile_robot/rosbot2_01/attrs', ... (51 bytes))\n",
    "2019-05-12T12:34:24.1557632064+09:00|r_mode|standby\n",
    "```"
   ]
  },
  {
   "cell_type": "markdown",
   "metadata": {},
   "source": [
    "#### confirm the mobile_robot entity"
   ]
  },
  {
   "cell_type": "code",
   "execution_count": null,
   "metadata": {},
   "outputs": [],
   "source": [
    "TOKEN=$(cat ${CORE_ROOT}/secrets/auth-tokens.json | jq '.[0].settings.bearer_tokens[0].token' -r)\n",
    "curl -sS -H \"Authorization: bearer ${TOKEN}\" -H \"Fiware-Service: ${FIWARE_SERVICE}\" -H \"Fiware-Servicepath: ${MOBILE_ROBOT_SERVICEPATH}\" https://api.${DOMAIN}/orion/v2/entities/${MOBILE_ROBOT_ID}/?attrs=r_mode,r_state | jq ."
   ]
  },
  {
   "cell_type": "markdown",
   "metadata": {},
   "source": [
    "**when the value of `r_mode` changes to \"standby\", the value of `r_state` changes to \"waiting\" automatically**\n",
    "\n",
    "example)\n",
    "```json\n",
    "{\n",
    "  \"id\": \"rosbot2_01\",\n",
    "  \"type\": \"mobile_robot\",\n",
    "  \"r_mode\": {\n",
    "    \"type\": \"string\",\n",
    "    \"value\": \"standby\",\n",
    "    \"metadata\": {\n",
    "      \"TimeInstant\": {\n",
    "        \"type\": \"ISO8601\",\n",
    "        \"value\": \"2019-05-12T12:34:24.1557632064+09:00\"\n",
    "      }\n",
    "    }\n",
    "  },\n",
    "  \"r_state\": {\n",
    "    \"type\": \"string\",\n",
    "    \"value\": \"waiting\",\n",
    "    \"metadata\": {\n",
    "      \"TimeInstant\": {\n",
    "        \"type\": \"ISO8601\",\n",
    "        \"value\": \"2019-05-12T03:34:24.00Z\"\n",
    "      }\n",
    "    }\n",
    "  }\n",
    "}\n",
    "```"
   ]
  }
 ],
 "metadata": {
  "kernelspec": {
   "display_name": "Bash",
   "language": "bash",
   "name": "bash"
  },
  "language_info": {
   "codemirror_mode": "shell",
   "file_extension": ".sh",
   "mimetype": "text/x-sh",
   "name": "bash"
  }
 },
 "nbformat": 4,
 "nbformat_minor": 2
}
