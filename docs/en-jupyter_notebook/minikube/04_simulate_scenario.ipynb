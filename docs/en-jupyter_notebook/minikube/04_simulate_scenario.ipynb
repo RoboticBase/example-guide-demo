{
 "cells": [
  {
   "cell_type": "markdown",
   "metadata": {},
   "source": [
    "# 4 simulate scenario"
   ]
  },
  {
   "cell_type": "markdown",
   "metadata": {},
   "source": [
    "change ${CORE_ROOT} to your path of `core`."
   ]
  },
  {
   "cell_type": "code",
   "execution_count": null,
   "metadata": {},
   "outputs": [],
   "source": [
    "export CORE_ROOT=\"${HOME}/core\""
   ]
  },
  {
   "cell_type": "markdown",
   "metadata": {},
   "source": [
    "change ${PJ_ROOT} to your path of `example-guide-demo`."
   ]
  },
  {
   "cell_type": "code",
   "execution_count": null,
   "metadata": {},
   "outputs": [],
   "source": [
    "export PJ_ROOT=\"${HOME}/example-guide-demo\"\n",
    "cd ${PJ_ROOT};pwd"
   ]
  },
  {
   "cell_type": "markdown",
   "metadata": {},
   "source": [
    "example)\n",
    "```\n",
    "/Users/user/example-guide-demo\n",
    "```"
   ]
  },
  {
   "cell_type": "markdown",
   "metadata": {},
   "source": [
    "## load environment variables"
   ]
  },
  {
   "cell_type": "markdown",
   "metadata": {},
   "source": [
    "load from `core`"
   ]
  },
  {
   "cell_type": "code",
   "execution_count": null,
   "metadata": {},
   "outputs": [],
   "source": [
    "source ${CORE_ROOT}/docs/environments/minikube/env"
   ]
  },
  {
   "cell_type": "markdown",
   "metadata": {},
   "source": [
    "load from `example-guide-demo`"
   ]
  },
  {
   "cell_type": "code",
   "execution_count": null,
   "metadata": {},
   "outputs": [],
   "source": [
    "source ${PJ_ROOT}/docs/environments/minikube/env"
   ]
  },
  {
   "cell_type": "markdown",
   "metadata": {},
   "source": [
    "## initialize the state of mobile_robot"
   ]
  },
  {
   "cell_type": "markdown",
   "metadata": {},
   "source": [
    "### initialize `r_state` and `r_mode`"
   ]
  },
  {
   "cell_type": "code",
   "execution_count": null,
   "metadata": {},
   "outputs": [],
   "source": [
    "TOKEN=$(cat ${CORE_ROOT}/secrets/auth-tokens.json | jq '.[0].settings.bearer_tokens[0].token' -r)\n",
    "curl -i -H \"Authorization: bearer ${TOKEN}\" -H \"Fiware-Service: ${FIWARE_SERVICE}\" -H \"Fiware-Servicepath: ${MOBILE_ROBOT_SERVICEPATH}\" -H \"Content-Type: application/json\" http://${HOST_IPADDR}:8080/orion/v2/entities/${MOBILE_ROBOT_ID}/attrs?type=${MOBILE_ROBOT_TYPE} -X PATCH -d @-<<__EOS__\n",
    "{\n",
    "  \"r_state\": {\n",
    "    \"type\": \"string\",\n",
    "    \"value\": \" \",\n",
    "    \"metadata\": {}\n",
    "  }\n",
    "}\n",
    "__EOS__"
   ]
  },
  {
   "cell_type": "markdown",
   "metadata": {},
   "source": [
    "example)\n",
    "```\n",
    "HTTP/1.1 204 No Content\n",
    "content-length: 0\n",
    "fiware-correlator: eb4c2342-73db-11e9-bd2e-62712902dfb1\n",
    "date: Sat, 11 May 2019 10:59:59 GMT\n",
    "x-envoy-upstream-service-time: 5\n",
    "server: envoy\n",
    "```"
   ]
  },
  {
   "cell_type": "code",
   "execution_count": null,
   "metadata": {},
   "outputs": [],
   "source": [
    "TOKEN=$(cat ${CORE_ROOT}/secrets/auth-tokens.json | jq '.[0].settings.bearer_tokens[0].token' -r)\n",
    "curl -i -H \"Authorization: bearer ${TOKEN}\" -H \"Fiware-Service: ${FIWARE_SERVICE}\" -H \"Fiware-Servicepath: ${MOBILE_ROBOT_SERVICEPATH}\" -H \"Content-Type: application/json\" http://${HOST_IPADDR}:8080/orion/v2/entities/${MOBILE_ROBOT_ID}/attrs?type=${MOBILE_ROBOT_TYPE} -X PATCH -d @-<<__EOS__\n",
    "{\n",
    "  \"r_mode\": {\n",
    "    \"type\": \"string\",\n",
    "    \"value\": \" \",\n",
    "    \"metadata\": {}\n",
    "  }\n",
    "}\n",
    "__EOS__"
   ]
  },
  {
   "cell_type": "markdown",
   "metadata": {},
   "source": [
    "example)\n",
    "```\n",
    "HTTP/1.1 204 No Content\n",
    "content-length: 0\n",
    "fiware-correlator: eb4c2342-73db-11e9-bd2e-62712902dfb1\n",
    "date: Sat, 11 May 2019 10:59:59 GMT\n",
    "x-envoy-upstream-service-time: 5\n",
    "server: envoy\n",
    "```"
   ]
  },
  {
   "cell_type": "markdown",
   "metadata": {},
   "source": [
    "#### confirm the mobile_robot entity"
   ]
  },
  {
   "cell_type": "code",
   "execution_count": null,
   "metadata": {},
   "outputs": [],
   "source": [
    "TOKEN=$(cat ${CORE_ROOT}/secrets/auth-tokens.json | jq '.[0].settings.bearer_tokens[0].token' -r)\n",
    "curl -sS -H \"Authorization: bearer ${TOKEN}\" -H \"Fiware-Service: ${FIWARE_SERVICE}\" -H \"Fiware-Servicepath: ${MOBILE_ROBOT_SERVICEPATH}\" http://${HOST_IPADDR}:8080/orion/v2/entities/${MOBILE_ROBOT_ID}/?attrs=r_mode,r_state | jq ."
   ]
  },
  {
   "cell_type": "markdown",
   "metadata": {},
   "source": [
    "example)\n",
    "```json\n",
    "{\n",
    "  \"id\": \"rosbot2_01\",\n",
    "  \"type\": \"mobile_robot\",\n",
    "  \"r_mode\": {\n",
    "    \"type\": \"string\",\n",
    "    \"value\": \" \",\n",
    "    \"metadata\": {}\n",
    "  },\n",
    "  \"r_state\": {\n",
    "    \"type\": \"string\",\n",
    "    \"value\": \" \",\n",
    "    \"metadata\": {}\n",
    "  }\n",
    "}\n",
    "```"
   ]
  },
  {
   "cell_type": "markdown",
   "metadata": {},
   "source": [
    "## subscribe MQTT topics"
   ]
  },
  {
   "cell_type": "markdown",
   "metadata": {},
   "source": [
    "### prepare a command to subscribe all topics"
   ]
  },
  {
   "cell_type": "code",
   "execution_count": null,
   "metadata": {},
   "outputs": [],
   "source": [
    "echo \"mosquitto_sub -h ${HOST_IPADDR} -p 1883 -d -u iotagent -P ${MQTT__iotagent} -t /#\""
   ]
  },
  {
   "cell_type": "markdown",
   "metadata": {},
   "source": [
    "### start subscribing"
   ]
  },
  {
   "cell_type": "markdown",
   "metadata": {},
   "source": [
    "_Outside of this notebook_\n",
    "1. open a ternminal.\n",
    "1. run the above command displayed `prepare a command to subscribe all topics`."
   ]
  },
  {
   "cell_type": "markdown",
   "metadata": {},
   "source": [
    "## 1) a visitor tells his/her destination to `comm_robot`"
   ]
  },
  {
   "cell_type": "markdown",
   "metadata": {},
   "source": [
    "### publish a MQTT message to emulate receiving the event from comm_robot"
   ]
  },
  {
   "cell_type": "code",
   "execution_count": null,
   "metadata": {},
   "outputs": [],
   "source": [
    "d=$(date '+%Y-%m-%dT%H:%M:%S.%s+09:00')\n",
    "mosquitto_pub -h ${HOST_IPADDR} -p 1883 -d -u iotagent -P ${MQTT__iotagent} -t /${COMM_ROBOT_TYPE}/${COMM_ROBOT_ID}/attrs -m \"${d}|move|dest01\""
   ]
  },
  {
   "cell_type": "markdown",
   "metadata": {},
   "source": [
    "example)\n",
    "```\n",
    "Client mosq/U0TQvpEnc6aE7EkU7b sending CONNECT\n",
    "Client mosq/U0TQvpEnc6aE7EkU7b received CONNACK (0)\n",
    "Client mosq/U0TQvpEnc6aE7EkU7b sending PUBLISH (d0, q0, r0, m1, '/comm_robot/xperiahello_01/attrs', ... (48 bytes))\n",
    "Client mosq/U0TQvpEnc6aE7EkU7b sending DISCONNECT\n",
    "```"
   ]
  },
  {
   "cell_type": "markdown",
   "metadata": {},
   "source": [
    "when executing the above command, show below messages on the opened terminal.\n",
    "\n",
    "**send `move|up` command to mobile_robot automatically.**\n",
    "\n",
    "example)\n",
    "```\n",
    "Client mosq/xqKg5bFJJXOKGa55gY received PUBLISH (d0, q0, r0, m0, '/comm_robot/xperiahello_01/attrs', ... (48 bytes))\n",
    "2019-05-13T20:50:56.1557748256+09:00|move|dest01\n",
    "Client mosq/xqKg5bFJJXOKGa55gY received PUBLISH (d0, q0, r0, m0, '/mobile_robot/rosbot2_01/cmd', ... (18 bytes))\n",
    "rosbot2_01@move|up\n",
    "```"
   ]
  },
  {
   "cell_type": "markdown",
   "metadata": {},
   "source": [
    "#### confirm the mobile_robot entity"
   ]
  },
  {
   "cell_type": "code",
   "execution_count": null,
   "metadata": {},
   "outputs": [],
   "source": [
    "TOKEN=$(cat ${CORE_ROOT}/secrets/auth-tokens.json | jq '.[0].settings.bearer_tokens[0].token' -r)\n",
    "curl -sS -H \"Authorization: bearer ${TOKEN}\" -H \"Fiware-Service: ${FIWARE_SERVICE}\" -H \"Fiware-Servicepath: ${MOBILE_ROBOT_SERVICEPATH}\" http://${HOST_IPADDR}:8080/orion/v2/entities/${MOBILE_ROBOT_ID}/?attrs=move_info,move_status | jq ."
   ]
  },
  {
   "cell_type": "markdown",
   "metadata": {},
   "source": [
    "**the value of  `move_status` is `PENDING`**\n",
    "\n",
    "example)\n",
    "```json\n",
    "{\n",
    "  \"id\": \"rosbot2_01\",\n",
    "  \"type\": \"mobile_robot\",\n",
    "  \"move_info\": {\n",
    "    \"type\": \"commandResult\",\n",
    "    \"value\": \"received up\",\n",
    "    \"metadata\": {\n",
    "      \"TimeInstant\": {\n",
    "        \"type\": \"ISO8601\",\n",
    "        \"value\": \"2019-05-13T11:32:56.155Z\"\n",
    "      }\n",
    "    }\n",
    "  },\n",
    "  \"move_status\": {\n",
    "    \"type\": \"commandStatus\",\n",
    "    \"value\": \"PENDING\",\n",
    "    \"metadata\": {\n",
    "      \"TimeInstant\": {\n",
    "        \"type\": \"ISO8601\",\n",
    "        \"value\": \"2019-05-13T11:50:56.659Z\"\n",
    "      }\n",
    "    }\n",
    "  }\n",
    "}\n",
    "```"
   ]
  },
  {
   "cell_type": "markdown",
   "metadata": {},
   "source": [
    "### publish a MQTT message to emulate receiving the command result from mobile_robot"
   ]
  },
  {
   "cell_type": "code",
   "execution_count": null,
   "metadata": {},
   "outputs": [],
   "source": [
    "mosquitto_pub -h ${HOST_IPADDR} -p 1883 -d -u iotagent -P ${MQTT__iotagent} -t /${MOBILE_ROBOT_TYPE}/${MOBILE_ROBOT_ID}/cmdexe -m \"${MOBILE_ROBOT_ID}@move|received up\""
   ]
  },
  {
   "cell_type": "markdown",
   "metadata": {},
   "source": [
    "example)\n",
    "```\n",
    "Client mosq/akM9daa2g2b8qK2H0t sending CONNECT\n",
    "Client mosq/akM9daa2g2b8qK2H0t received CONNACK (0)\n",
    "Client mosq/akM9daa2g2b8qK2H0t sending PUBLISH (d0, q0, r0, m1, '/mobile_robot/rosbot2_01/cmdexe', ... (27 bytes))\n",
    "Client mosq/akM9daa2g2b8qK2H0t sending DISCONNECT\n",
    "```"
   ]
  },
  {
   "cell_type": "markdown",
   "metadata": {},
   "source": [
    "when executing the above command, show below messages on the opened terminal.\n",
    "\n",
    "example)\n",
    "```\n",
    "Client mosq/xqKg5bFJJXOKGa55gY received PUBLISH (d0, q0, r0, m0, '/mobile_robot/rosbot2_01/cmdexe', ... (27 bytes))\n",
    "rosbot2_01@move|received up\n",
    "```"
   ]
  },
  {
   "cell_type": "markdown",
   "metadata": {},
   "source": [
    "#### confirm the mobile_robot entity"
   ]
  },
  {
   "cell_type": "code",
   "execution_count": null,
   "metadata": {},
   "outputs": [],
   "source": [
    "TOKEN=$(cat ${CORE_ROOT}/secrets/auth-tokens.json | jq '.[0].settings.bearer_tokens[0].token' -r)\n",
    "curl -sS -H \"Authorization: bearer ${TOKEN}\" -H \"Fiware-Service: ${FIWARE_SERVICE}\" -H \"Fiware-Servicepath: ${MOBILE_ROBOT_SERVICEPATH}\" http://${HOST_IPADDR}:8080/orion/v2/entities/${MOBILE_ROBOT_ID}/?attrs=move_info,move_status | jq ."
   ]
  },
  {
   "cell_type": "markdown",
   "metadata": {},
   "source": [
    "**the value of  `move_status` is `OK`**\n",
    "\n",
    "example)\n",
    "```json\n",
    "{\n",
    "  \"id\": \"rosbot2_01\",\n",
    "  \"type\": \"mobile_robot\",\n",
    "  \"move_info\": {\n",
    "    \"type\": \"commandResult\",\n",
    "    \"value\": \"received up\",\n",
    "    \"metadata\": {\n",
    "      \"TimeInstant\": {\n",
    "        \"type\": \"ISO8601\",\n",
    "        \"value\": \"2019-05-13T11:51:05.785Z\"\n",
    "      }\n",
    "    }\n",
    "  },\n",
    "  \"move_status\": {\n",
    "    \"type\": \"commandStatus\",\n",
    "    \"value\": \"OK\",\n",
    "    \"metadata\": {\n",
    "      \"TimeInstant\": {\n",
    "        \"type\": \"ISO8601\",\n",
    "        \"value\": \"2019-05-13T11:51:05.785Z\"\n",
    "      }\n",
    "    }\n",
    "  }\n",
    "}\n",
    "```"
   ]
  },
  {
   "cell_type": "markdown",
   "metadata": {},
   "source": [
    "## 2) `mobile_robot` notifies its current position periodically"
   ]
  },
  {
   "cell_type": "markdown",
   "metadata": {},
   "source": [
    "### publish a MQTT message to emulate receiving the position of mobile_robot"
   ]
  },
  {
   "cell_type": "markdown",
   "metadata": {},
   "source": [
    "#### 1: At first, mobile_robot notifies its current position as `standby` from the initial point. But nothing happens because mobile_robot is `waiting` or ' '."
   ]
  },
  {
   "cell_type": "code",
   "execution_count": null,
   "metadata": {},
   "outputs": [],
   "source": [
    "x=0.00\n",
    "y=0.00\n",
    "theta=0.00\n",
    "r_mode=\"standby\"\n",
    "d=$(date '+%Y-%m-%dT%H:%M:%S.%s+09:00')\n",
    "mosquitto_pub -h ${HOST_IPADDR} -p 1883 -d -u iotagent -P ${MQTT__iotagent} -t /${MOBILE_ROBOT_TYPE}/${MOBILE_ROBOT_ID}/attrs -m \"${d}|x|${x}|y|${y}|theta|${theta}|r_mode|${r_mode}\""
   ]
  },
  {
   "cell_type": "markdown",
   "metadata": {},
   "source": [
    "example)\n",
    "```\n",
    "Client mosq/Cxw0omh4FfW5BbFJTE sending CONNECT\n",
    "Client mosq/Cxw0omh4FfW5BbFJTE received CONNACK (0)\n",
    "Client mosq/Cxw0omh4FfW5BbFJTE sending PUBLISH (d0, q0, r0, m1, '/mobile_robot/rosbot2_01/attrs', ... (76 bytes))\n",
    "Client mosq/Cxw0omh4FfW5BbFJTE sending DISCONNECT\n",
    "```"
   ]
  },
  {
   "cell_type": "markdown",
   "metadata": {},
   "source": [
    "when executing the above command, show below messages on the opened terminal.\n",
    "\n",
    "example)\n",
    "```\n",
    "Client mosq/xqKg5bFJJXOKGa55gY received PUBLISH (d0, q0, r0, m0, '/mobile_robot/rosbot2_01/attrs', ... (76 bytes))\n",
    "2019-05-13T20:58:46.1557748726+09:00|x|0.00|y|0.00|theta|0.00|r_mode|standby\n",
    "```"
   ]
  },
  {
   "cell_type": "markdown",
   "metadata": {},
   "source": [
    "#### confirm the mobile_robot entity"
   ]
  },
  {
   "cell_type": "code",
   "execution_count": null,
   "metadata": {},
   "outputs": [],
   "source": [
    "TOKEN=$(cat ${CORE_ROOT}/secrets/auth-tokens.json | jq '.[0].settings.bearer_tokens[0].token' -r)\n",
    "curl -sS -H \"Authorization: bearer ${TOKEN}\" -H \"Fiware-Service: ${FIWARE_SERVICE}\" -H \"Fiware-Servicepath: ${MOBILE_ROBOT_SERVICEPATH}\" http://${HOST_IPADDR}:8080/orion/v2/entities/${MOBILE_ROBOT_ID}/?attrs=r_mode,r_state | jq ."
   ]
  },
  {
   "cell_type": "markdown",
   "metadata": {},
   "source": [
    "example)\n",
    "```json\n",
    "{\n",
    "  \"id\": \"rosbot2_01\",\n",
    "  \"type\": \"mobile_robot\",\n",
    "  \"r_mode\": {\n",
    "    \"type\": \"string\",\n",
    "    \"value\": \"standby\",\n",
    "    \"metadata\": {\n",
    "      \"TimeInstant\": {\n",
    "        \"type\": \"ISO8601\",\n",
    "        \"value\": \"2019-05-13T20:58:46.1557748726+09:00\"\n",
    "      }\n",
    "    }\n",
    "  },\n",
    "  \"r_state\": {\n",
    "    \"type\": \"string\",\n",
    "    \"value\": \" \",\n",
    "    \"metadata\": {}\n",
    "  }\n",
    "}\n",
    "```"
   ]
  },
  {
   "cell_type": "markdown",
   "metadata": {},
   "source": [
    "#### 2: Then, mobile_robot notifies its current position from near the initial point. But nothing happens because mobile_robot has not reached  the point to turn the LED on."
   ]
  },
  {
   "cell_type": "code",
   "execution_count": null,
   "metadata": {},
   "outputs": [],
   "source": [
    "x=0.05\n",
    "y=0.01\n",
    "theta=0.00\n",
    "r_mode=\"navi\"\n",
    "d=$(date '+%Y-%m-%dT%H:%M:%S.%s+09:00')\n",
    "mosquitto_pub -h ${HOST_IPADDR} -p 1883 -d -u iotagent -P ${MQTT__iotagent} -t /${MOBILE_ROBOT_TYPE}/${MOBILE_ROBOT_ID}/attrs -m \"${d}|x|${x}|y|${y}|theta|${theta}|r_mode|${r_mode}\""
   ]
  },
  {
   "cell_type": "markdown",
   "metadata": {},
   "source": [
    "example)\n",
    "```\n",
    "Client mosq/gK4hzUv1CdICXD3pqW sending CONNECT\n",
    "Client mosq/gK4hzUv1CdICXD3pqW received CONNACK (0)\n",
    "Client mosq/gK4hzUv1CdICXD3pqW sending PUBLISH (d0, q0, r0, m1, '/mobile_robot/rosbot2_01/attrs', ... (60 bytes))\n",
    "Client mosq/gK4hzUv1CdICXD3pqW sending DISCONNECT\n",
    "```"
   ]
  },
  {
   "cell_type": "markdown",
   "metadata": {},
   "source": [
    "when executing the above command, show below messages on the opened terminal.\n",
    "\n",
    "example)\n",
    "```\n",
    "Client mosq/xqKg5bFJJXOKGa55gY received PUBLISH (d0, q0, r0, m0, '/mobile_robot/rosbot2_01/attrs', ... (73 bytes))\n",
    "2019-05-13T20:59:59.1557748799+09:00|x|0.05|y|0.01|theta|0.00|r_mode|navi\n",
    "```"
   ]
  },
  {
   "cell_type": "markdown",
   "metadata": {},
   "source": [
    "#### confirm the mobile_robot entity"
   ]
  },
  {
   "cell_type": "code",
   "execution_count": null,
   "metadata": {
    "scrolled": false
   },
   "outputs": [],
   "source": [
    "TOKEN=$(cat ${CORE_ROOT}/secrets/auth-tokens.json | jq '.[0].settings.bearer_tokens[0].token' -r)\n",
    "curl -sS -H \"Authorization: bearer ${TOKEN}\" -H \"Fiware-Service: ${FIWARE_SERVICE}\" -H \"Fiware-Servicepath: ${MOBILE_ROBOT_SERVICEPATH}\" http://${HOST_IPADDR}:8080/orion/v2/entities/${MOBILE_ROBOT_ID}/?attrs=r_mode,r_state | jq ."
   ]
  },
  {
   "cell_type": "markdown",
   "metadata": {},
   "source": [
    "example)\n",
    "```json\n",
    "{\n",
    "  \"id\": \"rosbot2_01\",\n",
    "  \"type\": \"mobile_robot\",\n",
    "  \"r_mode\": {\n",
    "    \"type\": \"string\",\n",
    "    \"value\": \"navi\",\n",
    "    \"metadata\": {\n",
    "      \"TimeInstant\": {\n",
    "        \"type\": \"ISO8601\",\n",
    "        \"value\": \"2019-05-13T20:59:59.1557748799+09:00\"\n",
    "      }\n",
    "    }\n",
    "  },\n",
    "  \"r_state\": {\n",
    "    \"type\": \"string\",\n",
    "    \"value\": \"guiding\",\n",
    "    \"metadata\": {\n",
    "      \"TimeInstant\": {\n",
    "        \"type\": \"ISO8601\",\n",
    "        \"value\": \"2019-05-13T12:00:00.00Z\"\n",
    "      }\n",
    "    }\n",
    "  }\n",
    "}\n",
    "```"
   ]
  },
  {
   "cell_type": "code",
   "execution_count": null,
   "metadata": {},
   "outputs": [],
   "source": [
    "x=0.12\n",
    "y=0.05\n",
    "theta=0.01\n",
    "r_mode=\"navi\"\n",
    "d=$(date '+%Y-%m-%dT%H:%M:%S.%s+09:00')\n",
    "mosquitto_pub -h ${HOST_IPADDR} -p 1883 -d -u iotagent -P ${MQTT__iotagent} -t /${MOBILE_ROBOT_TYPE}/${MOBILE_ROBOT_ID}/attrs -m \"${d}|x|${x}|y|${y}|theta|${theta}|r_mode|${r_mode}\""
   ]
  },
  {
   "cell_type": "markdown",
   "metadata": {},
   "source": [
    "example)\n",
    "```\n",
    "Client mosq/gK4hzUv1CdICXD3pqW sending CONNECT\n",
    "Client mosq/gK4hzUv1CdICXD3pqW received CONNACK (0)\n",
    "Client mosq/gK4hzUv1CdICXD3pqW sending PUBLISH (d0, q0, r0, m1, '/mobile_robot/rosbot2_01/attrs', ... (60 bytes))\n",
    "Client mosq/gK4hzUv1CdICXD3pqW sending DISCONNECT\n",
    "```"
   ]
  },
  {
   "cell_type": "markdown",
   "metadata": {},
   "source": [
    "when executing the above command, show below messages on the opened terminal.\n",
    "\n",
    "example)\n",
    "```\n",
    "Client mosq/xqKg5bFJJXOKGa55gY received PUBLISH (d0, q0, r0, m0, '/mobile_robot/rosbot2_01/attrs', ... (73 bytes))\n",
    "2019-05-13T21:01:02.1557748862+09:00|x|0.12|y|0.05|theta|0.01|r_mode|navi\n",
    "```"
   ]
  },
  {
   "cell_type": "markdown",
   "metadata": {},
   "source": [
    "#### confirm the mobile_robot entity"
   ]
  },
  {
   "cell_type": "code",
   "execution_count": null,
   "metadata": {
    "scrolled": false
   },
   "outputs": [],
   "source": [
    "TOKEN=$(cat ${CORE_ROOT}/secrets/auth-tokens.json | jq '.[0].settings.bearer_tokens[0].token' -r)\n",
    "curl -sS -H \"Authorization: bearer ${TOKEN}\" -H \"Fiware-Service: ${FIWARE_SERVICE}\" -H \"Fiware-Servicepath: ${MOBILE_ROBOT_SERVICEPATH}\" http://${HOST_IPADDR}:8080/orion/v2/entities/${MOBILE_ROBOT_ID}/?attrs=r_mode,r_state | jq ."
   ]
  },
  {
   "cell_type": "markdown",
   "metadata": {},
   "source": [
    "example)\n",
    "```json\n",
    "{\n",
    "  \"id\": \"rosbot2_01\",\n",
    "  \"type\": \"mobile_robot\",\n",
    "  \"r_mode\": {\n",
    "    \"type\": \"string\",\n",
    "    \"value\": \"navi\",\n",
    "    \"metadata\": {\n",
    "      \"TimeInstant\": {\n",
    "        \"type\": \"ISO8601\",\n",
    "        \"value\": \"2019-05-13T21:01:02.1557748862+09:00\"\n",
    "      }\n",
    "    }\n",
    "  },\n",
    "  \"r_state\": {\n",
    "    \"type\": \"string\",\n",
    "    \"value\": \"guiding\",\n",
    "    \"metadata\": {\n",
    "      \"TimeInstant\": {\n",
    "        \"type\": \"ISO8601\",\n",
    "        \"value\": \"2019-05-13T12:00:00.00Z\"\n",
    "      }\n",
    "    }\n",
    "  }\n",
    "}\n",
    "```"
   ]
  },
  {
   "cell_type": "markdown",
   "metadata": {},
   "source": [
    "#### 3: when the mobile_robot notifies its current position nearby the point to be turned LED on, `dest_led` receives the `action|on` command automatically."
   ]
  },
  {
   "cell_type": "code",
   "execution_count": null,
   "metadata": {},
   "outputs": [],
   "source": [
    "x=0.78\n",
    "y=0.01\n",
    "theta=0.0\n",
    "r_mode=\"navi\"\n",
    "d=$(date '+%Y-%m-%dT%H:%M:%S.%s+09:00')\n",
    "mosquitto_pub -h ${HOST_IPADDR} -p 1883 -d -u iotagent -P ${MQTT__iotagent} -t /${MOBILE_ROBOT_TYPE}/${MOBILE_ROBOT_ID}/attrs -m \"${d}|x|${x}|y|${y}|theta|${theta}|r_mode|${r_mode}\""
   ]
  },
  {
   "cell_type": "markdown",
   "metadata": {},
   "source": [
    "example)\n",
    "```\n",
    "Client mosq/AGcKEoaq6b3c494WMC sending CONNECT\n",
    "Client mosq/AGcKEoaq6b3c494WMC received CONNACK (0)\n",
    "Client mosq/AGcKEoaq6b3c494WMC sending PUBLISH (d0, q0, r0, m1, '/mobile_robot/rosbot2_01/attrs', ... (60 bytes))\n",
    "Client mosq/AGcKEoaq6b3c494WMC sending DISCONNECT\n",
    "```"
   ]
  },
  {
   "cell_type": "markdown",
   "metadata": {},
   "source": [
    "when executing the above command, show below messages on the opened terminal.\n",
    "\n",
    "example)\n",
    "```\n",
    "Client mosq/xqKg5bFJJXOKGa55gY received PUBLISH (d0, q0, r0, m0, '/mobile_robot/rosbot2_01/attrs', ... (72 bytes))\n",
    "2019-05-13T21:07:49.1557749269+09:00|x|0.78|y|0.01|theta|0.0|r_mode|navi\n",
    "Client mosq/xqKg5bFJJXOKGa55gY received PUBLISH (d0, q0, r0, m0, '/led/led_01/cmd', ... (16 bytes))\n",
    "led_01@action|on\n",
    "```"
   ]
  },
  {
   "cell_type": "markdown",
   "metadata": {},
   "source": [
    "#### confirm the mobile_robot entity"
   ]
  },
  {
   "cell_type": "code",
   "execution_count": null,
   "metadata": {
    "scrolled": false
   },
   "outputs": [],
   "source": [
    "TOKEN=$(cat ${CORE_ROOT}/secrets/auth-tokens.json | jq '.[0].settings.bearer_tokens[0].token' -r)\n",
    "curl -sS -H \"Authorization: bearer ${TOKEN}\" -H \"Fiware-Service: ${FIWARE_SERVICE}\" -H \"Fiware-Servicepath: ${MOBILE_ROBOT_SERVICEPATH}\" http://${HOST_IPADDR}:8080/orion/v2/entities/${MOBILE_ROBOT_ID}/?attrs=r_mode,r_state | jq ."
   ]
  },
  {
   "cell_type": "markdown",
   "metadata": {},
   "source": [
    "example)\n",
    "```json\n",
    "{\n",
    "  \"id\": \"rosbot2_01\",\n",
    "  \"type\": \"mobile_robot\",\n",
    "  \"r_mode\": {\n",
    "    \"type\": \"string\",\n",
    "    \"value\": \"navi\",\n",
    "    \"metadata\": {\n",
    "      \"TimeInstant\": {\n",
    "        \"type\": \"ISO8601\",\n",
    "        \"value\": \"2019-05-13T21:07:49.1557749269+09:00\"\n",
    "      }\n",
    "    }\n",
    "  },\n",
    "  \"r_state\": {\n",
    "    \"type\": \"string\",\n",
    "    \"value\": \"guiding\",\n",
    "    \"metadata\": {\n",
    "      \"TimeInstant\": {\n",
    "        \"type\": \"ISO8601\",\n",
    "        \"value\": \"2019-05-13T12:00:00.00Z\"\n",
    "      }\n",
    "    }\n",
    "  }\n",
    "}\n",
    "```"
   ]
  },
  {
   "cell_type": "markdown",
   "metadata": {},
   "source": [
    "#### confirm dest_led entity"
   ]
  },
  {
   "cell_type": "code",
   "execution_count": null,
   "metadata": {},
   "outputs": [],
   "source": [
    "TOKEN=$(cat ${CORE_ROOT}/secrets/auth-tokens.json | jq '.[0].settings.bearer_tokens[0].token' -r)\n",
    "curl -sS -H \"Authorization: bearer ${TOKEN}\" -H \"Fiware-Service: ${FIWARE_SERVICE}\" -H \"Fiware-Servicepath: ${DEST_LED_SERVICEPATH}\" http://${HOST_IPADDR}:8080/orion/v2/entities/${DEST_LED_ID}/?attrs=action_info,action_status | jq ."
   ]
  },
  {
   "cell_type": "markdown",
   "metadata": {},
   "source": [
    "**the value of  `action_status` is `PENDING`**\n",
    "\n",
    "example)\n",
    "```json\n",
    "{\n",
    "  \"id\": \"led_01\",\n",
    "  \"type\": \"led\",\n",
    "  \"action_info\": {\n",
    "    \"type\": \"commandResult\",\n",
    "    \"value\": \"received on\",\n",
    "    \"metadata\": {\n",
    "      \"TimeInstant\": {\n",
    "        \"type\": \"ISO8601\",\n",
    "        \"value\": \"2019-05-12T12:05:44.684Z\"\n",
    "      }\n",
    "    }\n",
    "  },\n",
    "  \"action_status\": {\n",
    "    \"type\": \"commandStatus\",\n",
    "    \"value\": \"PENDING\",\n",
    "    \"metadata\": {\n",
    "      \"TimeInstant\": {\n",
    "        \"type\": \"ISO8601\",\n",
    "        \"value\": \"2019-05-13T12:07:48.877Z\"\n",
    "      }\n",
    "    }\n",
    "  }\n",
    "}\n",
    "```"
   ]
  },
  {
   "cell_type": "markdown",
   "metadata": {},
   "source": [
    "### publish a MQTT message to emulate receiving the command result from dest_led"
   ]
  },
  {
   "cell_type": "code",
   "execution_count": null,
   "metadata": {
    "scrolled": true
   },
   "outputs": [],
   "source": [
    "mosquitto_pub -h ${HOST_IPADDR} -p 1883 -d -u iotagent -P ${MQTT__iotagent} -t /${DEST_LED_TYPE}/${DEST_LED_ID}/cmdexe -m \"${DEST_LED_ID}@action|received on\""
   ]
  },
  {
   "cell_type": "markdown",
   "metadata": {},
   "source": [
    "example)\n",
    "```\n",
    "Client mosq/ZNj0gIzdIo9Tjdrnm1 sending CONNECT\n",
    "Client mosq/ZNj0gIzdIo9Tjdrnm1 received CONNACK (0)\n",
    "Client mosq/ZNj0gIzdIo9Tjdrnm1 sending PUBLISH (d0, q0, r0, m1, '/led/led_01/cmdexe', ... (25 bytes))\n",
    "Client mosq/ZNj0gIzdIo9Tjdrnm1 sending DISCONNECT\n",
    "```"
   ]
  },
  {
   "cell_type": "markdown",
   "metadata": {},
   "source": [
    "when executing the above command, show below messages on the opened terminal.\n",
    "\n",
    "example)\n",
    "```\n",
    "Client mosq/TqE1AIm00sCAJwKzdD received PUBLISH (d0, q0, r0, m0, '/led/led_01/cmdexe', ... (25 bytes))\n",
    "led_01@action|received on\n",
    "```"
   ]
  },
  {
   "cell_type": "markdown",
   "metadata": {},
   "source": [
    "#### confirm dest_led entity"
   ]
  },
  {
   "cell_type": "code",
   "execution_count": null,
   "metadata": {},
   "outputs": [],
   "source": [
    "TOKEN=$(cat ${CORE_ROOT}/secrets/auth-tokens.json | jq '.[0].settings.bearer_tokens[0].token' -r)\n",
    "curl -sS -H \"Authorization: bearer ${TOKEN}\" -H \"Fiware-Service: ${FIWARE_SERVICE}\" -H \"Fiware-Servicepath: ${DEST_LED_SERVICEPATH}\" http://${HOST_IPADDR}:8080/orion/v2/entities/${DEST_LED_ID}/?attrs=action_info,action_status | jq ."
   ]
  },
  {
   "cell_type": "markdown",
   "metadata": {},
   "source": [
    "**the value of  `action_status` is `OK`**\n",
    "\n",
    "example)\n",
    "```json\n",
    "{\n",
    "  \"id\": \"led_01\",\n",
    "  \"type\": \"led\",\n",
    "  \"action_info\": {\n",
    "    \"type\": \"commandResult\",\n",
    "    \"value\": \"received on\",\n",
    "    \"metadata\": {\n",
    "      \"TimeInstant\": {\n",
    "        \"type\": \"ISO8601\",\n",
    "        \"value\": \"2019-05-13T12:08:39.249Z\"\n",
    "      }\n",
    "    }\n",
    "  },\n",
    "  \"action_status\": {\n",
    "    \"type\": \"commandStatus\",\n",
    "    \"value\": \"OK\",\n",
    "    \"metadata\": {\n",
    "      \"TimeInstant\": {\n",
    "        \"type\": \"ISO8601\",\n",
    "        \"value\": \"2019-05-13T12:08:39.249Z\"\n",
    "      }\n",
    "    }\n",
    "  }\n",
    "}\n",
    "```"
   ]
  },
  {
   "cell_type": "markdown",
   "metadata": {},
   "source": [
    "#### 4: Finally, mobile_robot notifies its current mode is `standby` when it reaches its destination."
   ]
  },
  {
   "cell_type": "code",
   "execution_count": null,
   "metadata": {},
   "outputs": [],
   "source": [
    "x=2.01\n",
    "y=0.12\n",
    "theta=-0.10\n",
    "r_mode=\"standby\"\n",
    "d=$(date '+%Y-%m-%dT%H:%M:%S.%s+09:00')\n",
    "mosquitto_pub -h ${HOST_IPADDR} -p 1883 -d -u iotagent -P ${MQTT__iotagent} -t /${MOBILE_ROBOT_TYPE}/${MOBILE_ROBOT_ID}/attrs -m \"${d}|x|${x}|y|${y}|theta|${theta}|r_mode|${r_mode}\""
   ]
  },
  {
   "cell_type": "markdown",
   "metadata": {},
   "source": [
    "example)\n",
    "```\n",
    "Client mosq/gK4hzUv1CdICXD3pqW sending CONNECT\n",
    "Client mosq/gK4hzUv1CdICXD3pqW received CONNACK (0)\n",
    "Client mosq/gK4hzUv1CdICXD3pqW sending PUBLISH (d0, q0, r0, m1, '/mobile_robot/rosbot2_01/attrs', ... (60 bytes))\n",
    "Client mosq/gK4hzUv1CdICXD3pqW sending DISCONNECT\n",
    "```"
   ]
  },
  {
   "cell_type": "markdown",
   "metadata": {},
   "source": [
    "when executing the above command, show below messages on the opened terminal.\n",
    "\n",
    "example)\n",
    "```\n",
    "Client mosq/xqKg5bFJJXOKGa55gY received PUBLISH (d0, q0, r0, m0, '/mobile_robot/rosbot2_01/attrs', ... (77 bytes))\n",
    "2019-05-13T21:13:51.1557749631+09:00|x|2.01|y|0.12|theta|-0.10|r_mode|standby\n",
    "```"
   ]
  },
  {
   "cell_type": "markdown",
   "metadata": {},
   "source": [
    "#### confirm the mobile_robot entity"
   ]
  },
  {
   "cell_type": "code",
   "execution_count": null,
   "metadata": {
    "scrolled": false
   },
   "outputs": [],
   "source": [
    "TOKEN=$(cat ${CORE_ROOT}/secrets/auth-tokens.json | jq '.[0].settings.bearer_tokens[0].token' -r)\n",
    "curl -sS -H \"Authorization: bearer ${TOKEN}\" -H \"Fiware-Service: ${FIWARE_SERVICE}\" -H \"Fiware-Servicepath: ${MOBILE_ROBOT_SERVICEPATH}\" http://${HOST_IPADDR}:8080/orion/v2/entities/${MOBILE_ROBOT_ID}/?attrs=r_mode,r_state | jq ."
   ]
  },
  {
   "cell_type": "markdown",
   "metadata": {},
   "source": [
    "example)\n",
    "```json\n",
    "{\n",
    "  \"id\": \"rosbot2_01\",\n",
    "  \"type\": \"mobile_robot\",\n",
    "  \"r_mode\": {\n",
    "    \"type\": \"string\",\n",
    "    \"value\": \"standby\",\n",
    "    \"metadata\": {\n",
    "      \"TimeInstant\": {\n",
    "        \"type\": \"ISO8601\",\n",
    "        \"value\": \"2019-05-13T21:13:51.1557749631+09:00\"\n",
    "      }\n",
    "    }\n",
    "  },\n",
    "  \"r_state\": {\n",
    "    \"type\": \"string\",\n",
    "    \"value\": \"suspending\",\n",
    "    \"metadata\": {\n",
    "      \"TimeInstant\": {\n",
    "        \"type\": \"ISO8601\",\n",
    "        \"value\": \"2019-05-13T12:13:51.00Z\"\n",
    "      }\n",
    "    }\n",
    "  }\n",
    "}\n",
    "```"
   ]
  },
  {
   "cell_type": "code",
   "execution_count": null,
   "metadata": {},
   "outputs": [],
   "source": [
    "x=2.01\n",
    "y=0.12\n",
    "theta=-0.10\n",
    "r_mode=\"standby\"\n",
    "d=$(date '+%Y-%m-%dT%H:%M:%S.%s+09:00')\n",
    "mosquitto_pub -h ${HOST_IPADDR} -p 1883 -d -u iotagent -P ${MQTT__iotagent} -t /${MOBILE_ROBOT_TYPE}/${MOBILE_ROBOT_ID}/attrs -m \"${d}|x|${x}|y|${y}|theta|${theta}|r_mode|${r_mode}\""
   ]
  },
  {
   "cell_type": "markdown",
   "metadata": {},
   "source": [
    "example)\n",
    "```\n",
    "Client mosq/gK4hzUv1CdICXD3pqW sending CONNECT\n",
    "Client mosq/gK4hzUv1CdICXD3pqW received CONNACK (0)\n",
    "Client mosq/gK4hzUv1CdICXD3pqW sending PUBLISH (d0, q0, r0, m1, '/mobile_robot/rosbot2_01/attrs', ... (60 bytes))\n",
    "Client mosq/gK4hzUv1CdICXD3pqW sending DISCONNECT\n",
    "```"
   ]
  },
  {
   "cell_type": "markdown",
   "metadata": {},
   "source": [
    "when executing the above command, show below messages on the opened terminal.\n",
    "\n",
    "example)\n",
    "```\n",
    "Client mosq/xqKg5bFJJXOKGa55gY received PUBLISH (d0, q0, r0, m0, '/mobile_robot/rosbot2_01/attrs', ... (77 bytes))\n",
    "2019-05-13T21:14:55.1557749695+09:00|x|2.01|y|0.12|theta|-0.10|r_mode|standby\n",
    "```"
   ]
  },
  {
   "cell_type": "markdown",
   "metadata": {},
   "source": [
    "#### confirm the mobile_robot entity"
   ]
  },
  {
   "cell_type": "code",
   "execution_count": null,
   "metadata": {
    "scrolled": false
   },
   "outputs": [],
   "source": [
    "TOKEN=$(cat ${CORE_ROOT}/secrets/auth-tokens.json | jq '.[0].settings.bearer_tokens[0].token' -r)\n",
    "curl -sS -H \"Authorization: bearer ${TOKEN}\" -H \"Fiware-Service: ${FIWARE_SERVICE}\" -H \"Fiware-Servicepath: ${MOBILE_ROBOT_SERVICEPATH}\" http://${HOST_IPADDR}:8080/orion/v2/entities/${MOBILE_ROBOT_ID}/?attrs=r_mode,r_state | jq ."
   ]
  },
  {
   "cell_type": "markdown",
   "metadata": {},
   "source": [
    "example)\n",
    "```json\n",
    "{\n",
    "  \"id\": \"rosbot2_01\",\n",
    "  \"type\": \"mobile_robot\",\n",
    "  \"r_mode\": {\n",
    "    \"type\": \"string\",\n",
    "    \"value\": \"standby\",\n",
    "    \"metadata\": {\n",
    "      \"TimeInstant\": {\n",
    "        \"type\": \"ISO8601\",\n",
    "        \"value\": \"2019-05-13T21:14:55.1557749695+09:00\"\n",
    "      }\n",
    "    }\n",
    "  },\n",
    "  \"r_state\": {\n",
    "    \"type\": \"string\",\n",
    "    \"value\": \"suspending\",\n",
    "    \"metadata\": {\n",
    "      \"TimeInstant\": {\n",
    "        \"type\": \"ISO8601\",\n",
    "        \"value\": \"2019-05-13T12:13:51.00Z\"\n",
    "      }\n",
    "    }\n",
    "  }\n",
    "}\n",
    "```"
   ]
  },
  {
   "cell_type": "markdown",
   "metadata": {},
   "source": [
    "## 3) the visitor pushes the arrival button of `dest_button`"
   ]
  },
  {
   "cell_type": "code",
   "execution_count": null,
   "metadata": {},
   "outputs": [],
   "source": [
    "d=$(date '+%Y-%m-%dT%H:%M:%S.%s+09:00')\n",
    "mosquitto_pub -h ${HOST_IPADDR} -p 1883 -d -u iotagent -P ${MQTT__iotagent} -t /${DEST_BUTTON_TYPE}/${DEST_BUTTON_ID}/attrs -m \"${d}|push|${d}\""
   ]
  },
  {
   "cell_type": "markdown",
   "metadata": {},
   "source": [
    "example)\n",
    "```\n",
    "Client mosq/K09A0nnTo89nbMbjNl sending CONNECT\n",
    "Client mosq/K09A0nnTo89nbMbjNl received CONNACK (0)\n",
    "Client mosq/K09A0nnTo89nbMbjNl sending PUBLISH (d0, q0, r0, m1, '/button/button_01/attrs', ... (78 bytes))\n",
    "Client mosq/K09A0nnTo89nbMbjNl sending DISCONNECT\n",
    "```"
   ]
  },
  {
   "cell_type": "markdown",
   "metadata": {},
   "source": [
    "when executing the above command, show below messages on the opened terminal.\n",
    "\n",
    "**send `move|return` command to mobile_robot automatically.**\n",
    "\n",
    "**send `action|off` command to dest_led automatically.**\n",
    "\n",
    "example)\n",
    "```\n",
    "Client mosq/xqKg5bFJJXOKGa55gY received PUBLISH (d0, q0, r0, m0, '/button/button_01/attrs', ... (78 bytes))\n",
    "2019-05-13T21:16:32.1557749792+09:00|push|2019-05-13T21:16:32.1557749792+09:00\n",
    "Client mosq/xqKg5bFJJXOKGa55gY received PUBLISH (d0, q0, r0, m0, '/mobile_robot/rosbot2_01/cmd', ... (22 bytes))\n",
    "rosbot2_01@move|return\n",
    "Client mosq/xqKg5bFJJXOKGa55gY received PUBLISH (d0, q0, r0, m0, '/led/led_01/cmd', ... (17 bytes))\n",
    "led_01@action|off\n",
    "```"
   ]
  },
  {
   "cell_type": "markdown",
   "metadata": {},
   "source": [
    "#### confirm the mobile_robot entity"
   ]
  },
  {
   "cell_type": "code",
   "execution_count": null,
   "metadata": {},
   "outputs": [],
   "source": [
    "TOKEN=$(cat ${CORE_ROOT}/secrets/auth-tokens.json | jq '.[0].settings.bearer_tokens[0].token' -r)\n",
    "curl -sS -H \"Authorization: bearer ${TOKEN}\" -H \"Fiware-Service: ${FIWARE_SERVICE}\" -H \"Fiware-Servicepath: ${MOBILE_ROBOT_SERVICEPATH}\" http://${HOST_IPADDR}:8080/orion/v2/entities/${MOBILE_ROBOT_ID}/?attrs=move_info,move_status | jq ."
   ]
  },
  {
   "cell_type": "markdown",
   "metadata": {},
   "source": [
    "**the value of  `move_status` is `PENDING`**\n",
    "\n",
    "example)\n",
    "```json\n",
    "{\n",
    "  \"id\": \"rosbot2_01\",\n",
    "  \"type\": \"mobile_robot\",\n",
    "  \"move_info\": {\n",
    "    \"type\": \"commandResult\",\n",
    "    \"value\": \"received up\",\n",
    "    \"metadata\": {\n",
    "      \"TimeInstant\": {\n",
    "        \"type\": \"ISO8601\",\n",
    "        \"value\": \"2019-05-13T11:58:33.919Z\"\n",
    "      }\n",
    "    }\n",
    "  },\n",
    "  \"move_status\": {\n",
    "    \"type\": \"commandStatus\",\n",
    "    \"value\": \"PENDING\",\n",
    "    \"metadata\": {\n",
    "      \"TimeInstant\": {\n",
    "        \"type\": \"ISO8601\",\n",
    "        \"value\": \"2019-05-13T12:16:31.620Z\"\n",
    "      }\n",
    "    }\n",
    "  }\n",
    "}\n",
    "```"
   ]
  },
  {
   "cell_type": "markdown",
   "metadata": {},
   "source": [
    "#### confirm dest_led entity"
   ]
  },
  {
   "cell_type": "code",
   "execution_count": null,
   "metadata": {},
   "outputs": [],
   "source": [
    "TOKEN=$(cat ${CORE_ROOT}/secrets/auth-tokens.json | jq '.[0].settings.bearer_tokens[0].token' -r)\n",
    "curl -sS -H \"Authorization: bearer ${TOKEN}\" -H \"Fiware-Service: ${FIWARE_SERVICE}\" -H \"Fiware-Servicepath: ${DEST_LED_SERVICEPATH}\" http://${HOST_IPADDR}:8080/orion/v2/entities/${DEST_LED_ID}/?attrs=action_info,action_status | jq ."
   ]
  },
  {
   "cell_type": "markdown",
   "metadata": {},
   "source": [
    "**the value of  `action_status` is `PENDING`**\n",
    "\n",
    "example)\n",
    "```json\n",
    "{\n",
    "  \"id\": \"led_01\",\n",
    "  \"type\": \"led\",\n",
    "  \"action_info\": {\n",
    "    \"type\": \"commandResult\",\n",
    "    \"value\": \"received on\",\n",
    "    \"metadata\": {\n",
    "      \"TimeInstant\": {\n",
    "        \"type\": \"ISO8601\",\n",
    "        \"value\": \"2019-05-13T12:08:39.249Z\"\n",
    "      }\n",
    "    }\n",
    "  },\n",
    "  \"action_status\": {\n",
    "    \"type\": \"commandStatus\",\n",
    "    \"value\": \"PENDING\",\n",
    "    \"metadata\": {\n",
    "      \"TimeInstant\": {\n",
    "        \"type\": \"ISO8601\",\n",
    "        \"value\": \"2019-05-13T12:16:31.685Z\"\n",
    "      }\n",
    "    }\n",
    "  }\n",
    "}\n",
    "```"
   ]
  },
  {
   "cell_type": "markdown",
   "metadata": {},
   "source": [
    "### publish a MQTT message to emulate receiving the command result from mobile_robot"
   ]
  },
  {
   "cell_type": "code",
   "execution_count": null,
   "metadata": {},
   "outputs": [],
   "source": [
    "mosquitto_pub -h ${HOST_IPADDR} -p 1883 -d -u iotagent -P ${MQTT__iotagent} -t /${MOBILE_ROBOT_TYPE}/${MOBILE_ROBOT_ID}/cmdexe -m \"${MOBILE_ROBOT_ID}@move|received return\""
   ]
  },
  {
   "cell_type": "markdown",
   "metadata": {},
   "source": [
    "example)\n",
    "```\n",
    "Client mosq/Gr0gThCfozLAMnfuTN sending CONNECT\n",
    "Client mosq/Gr0gThCfozLAMnfuTN received CONNACK (0)\n",
    "Client mosq/Gr0gThCfozLAMnfuTN sending PUBLISH (d0, q0, r0, m1, '/mobile_robot/rosbot2_01/cmdexe', ... (31 bytes))\n",
    "Client mosq/Gr0gThCfozLAMnfuTN sending DISCONNECT\n",
    "```"
   ]
  },
  {
   "cell_type": "markdown",
   "metadata": {},
   "source": [
    "when executing the above command, show below messages on the opened terminal.\n",
    "\n",
    "example)\n",
    "```\n",
    "Client mosq/TqE1AIm00sCAJwKzdD received PUBLISH (d0, q0, r0, m0, '/mobile_robot/rosbot2_01/cmdexe', ... (31 bytes))\n",
    "rosbot2_01@move|received return\n",
    "```"
   ]
  },
  {
   "cell_type": "markdown",
   "metadata": {},
   "source": [
    "#### confirm the mobile_robot entity"
   ]
  },
  {
   "cell_type": "code",
   "execution_count": null,
   "metadata": {},
   "outputs": [],
   "source": [
    "TOKEN=$(cat ${CORE_ROOT}/secrets/auth-tokens.json | jq '.[0].settings.bearer_tokens[0].token' -r)\n",
    "curl -sS -H \"Authorization: bearer ${TOKEN}\" -H \"Fiware-Service: ${FIWARE_SERVICE}\" -H \"Fiware-Servicepath: ${MOBILE_ROBOT_SERVICEPATH}\" http://${HOST_IPADDR}:8080/orion/v2/entities/${MOBILE_ROBOT_ID}/?attrs=move_info,move_status | jq ."
   ]
  },
  {
   "cell_type": "markdown",
   "metadata": {},
   "source": [
    "**the value of  `move_status` is `OK`**\n",
    "\n",
    "example)\n",
    "```json\n",
    "{\n",
    "  \"id\": \"rosbot2_01\",\n",
    "  \"type\": \"mobile_robot\",\n",
    "  \"move_info\": {\n",
    "    \"type\": \"commandResult\",\n",
    "    \"value\": \"received return\",\n",
    "    \"metadata\": {\n",
    "      \"TimeInstant\": {\n",
    "        \"type\": \"ISO8601\",\n",
    "        \"value\": \"2019-05-13T12:17:09.375Z\"\n",
    "      }\n",
    "    }\n",
    "  },\n",
    "  \"move_status\": {\n",
    "    \"type\": \"commandStatus\",\n",
    "    \"value\": \"OK\",\n",
    "    \"metadata\": {\n",
    "      \"TimeInstant\": {\n",
    "        \"type\": \"ISO8601\",\n",
    "        \"value\": \"2019-05-13T12:17:09.375Z\"\n",
    "      }\n",
    "    }\n",
    "  }\n",
    "}\n",
    "```"
   ]
  },
  {
   "cell_type": "markdown",
   "metadata": {},
   "source": [
    "### publish a MQTT message to emulate receiving the command result from dest_led"
   ]
  },
  {
   "cell_type": "code",
   "execution_count": null,
   "metadata": {
    "scrolled": true
   },
   "outputs": [],
   "source": [
    "mosquitto_pub -h ${HOST_IPADDR} -p 1883 -d -u iotagent -P ${MQTT__iotagent} -t /${DEST_LED_TYPE}/${DEST_LED_ID}/cmdexe -m \"${DEST_LED_ID}@action|received off\""
   ]
  },
  {
   "cell_type": "markdown",
   "metadata": {},
   "source": [
    "example)\n",
    "```\n",
    "Client mosq/onEcaJqDUnvMMMNL1E sending CONNECT\n",
    "Client mosq/onEcaJqDUnvMMMNL1E received CONNACK (0)\n",
    "Client mosq/onEcaJqDUnvMMMNL1E sending PUBLISH (d0, q0, r0, m1, '/led/led_01/cmdexe', ... (26 bytes))\n",
    "Client mosq/onEcaJqDUnvMMMNL1E sending DISCONNECT\n",
    "```"
   ]
  },
  {
   "cell_type": "markdown",
   "metadata": {},
   "source": [
    "when executing the above command, show below messages on the opened terminal.\n",
    "\n",
    "example)\n",
    "```\n",
    "Client mosq/TqE1AIm00sCAJwKzdD received PUBLISH (d0, q0, r0, m0, '/led/led_01/cmdexe', ... (26 bytes))\n",
    "led_01@action|received off\n",
    "```"
   ]
  },
  {
   "cell_type": "markdown",
   "metadata": {},
   "source": [
    "#### confirm dest_led entity"
   ]
  },
  {
   "cell_type": "code",
   "execution_count": null,
   "metadata": {},
   "outputs": [],
   "source": [
    "TOKEN=$(cat ${CORE_ROOT}/secrets/auth-tokens.json | jq '.[0].settings.bearer_tokens[0].token' -r)\n",
    "curl -sS -H \"Authorization: bearer ${TOKEN}\" -H \"Fiware-Service: ${FIWARE_SERVICE}\" -H \"Fiware-Servicepath: ${DEST_LED_SERVICEPATH}\" http://${HOST_IPADDR}:8080/orion/v2/entities/${DEST_LED_ID}/?attrs=action_info,action_status | jq ."
   ]
  },
  {
   "cell_type": "markdown",
   "metadata": {},
   "source": [
    "**the value of  `action_status` is `OK`**\n",
    "\n",
    "example)\n",
    "```json\n",
    "{\n",
    "  \"id\": \"led_01\",\n",
    "  \"type\": \"led\",\n",
    "  \"action_info\": {\n",
    "    \"type\": \"commandResult\",\n",
    "    \"value\": \"received off\",\n",
    "    \"metadata\": {\n",
    "      \"TimeInstant\": {\n",
    "        \"type\": \"ISO8601\",\n",
    "        \"value\": \"2019-05-13T12:18:04.394Z\"\n",
    "      }\n",
    "    }\n",
    "  },\n",
    "  \"action_status\": {\n",
    "    \"type\": \"commandStatus\",\n",
    "    \"value\": \"OK\",\n",
    "    \"metadata\": {\n",
    "      \"TimeInstant\": {\n",
    "        \"type\": \"ISO8601\",\n",
    "        \"value\": \"2019-05-13T12:18:04.394Z\"\n",
    "      }\n",
    "    }\n",
    "  }\n",
    "}\n",
    "```"
   ]
  },
  {
   "cell_type": "markdown",
   "metadata": {},
   "source": [
    "## 4) `mobile_robot` notifies its current position periodically"
   ]
  },
  {
   "cell_type": "markdown",
   "metadata": {},
   "source": [
    "### publish a MQTT message to emulate receiving the position of mobile_robot"
   ]
  },
  {
   "cell_type": "markdown",
   "metadata": {},
   "source": [
    "#### 1: At first, mobile_robot notifies its current position as `standby` from the destination. But nothing happens because mobile_robot is `suspending`."
   ]
  },
  {
   "cell_type": "code",
   "execution_count": null,
   "metadata": {},
   "outputs": [],
   "source": [
    "x=2.01\n",
    "y=0.12\n",
    "theta=-0.10\n",
    "r_mode=\"standby\"\n",
    "d=$(date '+%Y-%m-%dT%H:%M:%S.%s+09:00')\n",
    "mosquitto_pub -h ${HOST_IPADDR} -p 1883 -d -u iotagent -P ${MQTT__iotagent} -t /${MOBILE_ROBOT_TYPE}/${MOBILE_ROBOT_ID}/attrs -m \"${d}|x|${x}|y|${y}|theta|${theta}|r_mode|${r_mode}\""
   ]
  },
  {
   "cell_type": "markdown",
   "metadata": {},
   "source": [
    "example)\n",
    "```\n",
    "Client mosq/vBoqLH6u6sxOWdkbQD sending CONNECT\n",
    "Client mosq/vBoqLH6u6sxOWdkbQD received CONNACK (0)\n",
    "Client mosq/vBoqLH6u6sxOWdkbQD sending PUBLISH (d0, q0, r0, m1, '/mobile_robot/rosbot2_01/attrs', ... (77 bytes))\n",
    "Client mosq/vBoqLH6u6sxOWdkbQD sending DISCONNECT\n",
    "```"
   ]
  },
  {
   "cell_type": "markdown",
   "metadata": {},
   "source": [
    "when executing the above command, show below messages on the opened terminal.\n",
    "\n",
    "example)\n",
    "```\n",
    "Client mosq/xqKg5bFJJXOKGa55gY received PUBLISH (d0, q0, r0, m0, '/mobile_robot/rosbot2_01/attrs', ... (77 bytes))\n",
    "2019-05-13T21:22:19.1557750139+09:00|x|2.01|y|0.12|theta|-0.10|r_mode|standby\n",
    "```"
   ]
  },
  {
   "cell_type": "markdown",
   "metadata": {},
   "source": [
    "#### confirm the mobile_robot entity"
   ]
  },
  {
   "cell_type": "code",
   "execution_count": null,
   "metadata": {},
   "outputs": [],
   "source": [
    "TOKEN=$(cat ${CORE_ROOT}/secrets/auth-tokens.json | jq '.[0].settings.bearer_tokens[0].token' -r)\n",
    "curl -sS -H \"Authorization: bearer ${TOKEN}\" -H \"Fiware-Service: ${FIWARE_SERVICE}\" -H \"Fiware-Servicepath: ${MOBILE_ROBOT_SERVICEPATH}\" http://${HOST_IPADDR}:8080/orion/v2/entities/${MOBILE_ROBOT_ID}/?attrs=r_mode,r_state | jq ."
   ]
  },
  {
   "cell_type": "markdown",
   "metadata": {},
   "source": [
    "example)\n",
    "```json\n",
    "{\n",
    "  \"id\": \"rosbot2_01\",\n",
    "  \"type\": \"mobile_robot\",\n",
    "  \"r_mode\": {\n",
    "    \"type\": \"string\",\n",
    "    \"value\": \"standby\",\n",
    "    \"metadata\": {\n",
    "      \"TimeInstant\": {\n",
    "        \"type\": \"ISO8601\",\n",
    "        \"value\": \"2019-05-13T21:22:19.1557750139+09:00\"\n",
    "      }\n",
    "    }\n",
    "  },\n",
    "  \"r_state\": {\n",
    "    \"type\": \"string\",\n",
    "    \"value\": \"suspending\",\n",
    "    \"metadata\": {\n",
    "      \"TimeInstant\": {\n",
    "        \"type\": \"ISO8601\",\n",
    "        \"value\": \"2019-05-13T12:13:51.00Z\"\n",
    "      }\n",
    "    }\n",
    "  }\n",
    "}\n",
    "```"
   ]
  },
  {
   "cell_type": "markdown",
   "metadata": {},
   "source": [
    "#### 2: Then, mobile_robot notifies its current position from near the destination. But nothing happens because mobile_robot is returning to its initial point."
   ]
  },
  {
   "cell_type": "code",
   "execution_count": null,
   "metadata": {},
   "outputs": [],
   "source": [
    "x=2.01\n",
    "y=0.12\n",
    "theta=-0.10\n",
    "r_mode=\"navi\"\n",
    "d=$(date '+%Y-%m-%dT%H:%M:%S.%s+09:00')\n",
    "mosquitto_pub -h ${HOST_IPADDR} -p 1883 -d -u iotagent -P ${MQTT__iotagent} -t /${MOBILE_ROBOT_TYPE}/${MOBILE_ROBOT_ID}/attrs -m \"${d}|x|${x}|y|${y}|theta|${theta}|r_mode|${r_mode}\""
   ]
  },
  {
   "cell_type": "markdown",
   "metadata": {},
   "source": [
    "example)\n",
    "```\n",
    "Client mosq/gK4hzUv1CdICXD3pqW sending CONNECT\n",
    "Client mosq/gK4hzUv1CdICXD3pqW received CONNACK (0)\n",
    "Client mosq/gK4hzUv1CdICXD3pqW sending PUBLISH (d0, q0, r0, m1, '/mobile_robot/rosbot2_01/attrs', ... (60 bytes))\n",
    "Client mosq/gK4hzUv1CdICXD3pqW sending DISCONNECT\n",
    "```"
   ]
  },
  {
   "cell_type": "markdown",
   "metadata": {},
   "source": [
    "when executing the above command, show below messages on the opened terminal.\n",
    "\n",
    "example)\n",
    "```\n",
    "Client mosq/xqKg5bFJJXOKGa55gY received PUBLISH (d0, q0, r0, m0, '/mobile_robot/rosbot2_01/attrs', ... (74 bytes))\n",
    "2019-05-13T21:27:02.1557750422+09:00|x|2.01|y|0.12|theta|-0.10|r_mode|navi\n",
    "```"
   ]
  },
  {
   "cell_type": "markdown",
   "metadata": {},
   "source": [
    "#### confirm the mobile_robot entity"
   ]
  },
  {
   "cell_type": "code",
   "execution_count": null,
   "metadata": {
    "scrolled": false
   },
   "outputs": [],
   "source": [
    "TOKEN=$(cat ${CORE_ROOT}/secrets/auth-tokens.json | jq '.[0].settings.bearer_tokens[0].token' -r)\n",
    "curl -sS -H \"Authorization: bearer ${TOKEN}\" -H \"Fiware-Service: ${FIWARE_SERVICE}\" -H \"Fiware-Servicepath: ${MOBILE_ROBOT_SERVICEPATH}\" http://${HOST_IPADDR}:8080/orion/v2/entities/${MOBILE_ROBOT_ID}/?attrs=r_mode,r_state | jq ."
   ]
  },
  {
   "cell_type": "markdown",
   "metadata": {},
   "source": [
    "example)\n",
    "```json\n",
    "{\n",
    "  \"id\": \"rosbot2_01\",\n",
    "  \"type\": \"mobile_robot\",\n",
    "  \"r_mode\": {\n",
    "    \"type\": \"string\",\n",
    "    \"value\": \"navi\",\n",
    "    \"metadata\": {\n",
    "      \"TimeInstant\": {\n",
    "        \"type\": \"ISO8601\",\n",
    "        \"value\": \"2019-05-13T21:27:02.1557750422+09:00\"\n",
    "      }\n",
    "    }\n",
    "  },\n",
    "  \"r_state\": {\n",
    "    \"type\": \"string\",\n",
    "    \"value\": \"returning\",\n",
    "    \"metadata\": {\n",
    "      \"TimeInstant\": {\n",
    "        \"type\": \"ISO8601\",\n",
    "        \"value\": \"2019-05-13T12:27:03.00Z\"\n",
    "      }\n",
    "    }\n",
    "  }\n",
    "}\n",
    "```"
   ]
  },
  {
   "cell_type": "code",
   "execution_count": null,
   "metadata": {},
   "outputs": [],
   "source": [
    "x=1.80\n",
    "y=-0.01\n",
    "theta=-0.20\n",
    "r_mode=\"navi\"\n",
    "d=$(date '+%Y-%m-%dT%H:%M:%S.%s+09:00')\n",
    "mosquitto_pub -h ${HOST_IPADDR} -p 1883 -d -u iotagent -P ${MQTT__iotagent} -t /${MOBILE_ROBOT_TYPE}/${MOBILE_ROBOT_ID}/attrs -m \"${d}|x|${x}|y|${y}|theta|${theta}|r_mode|${r_mode}\""
   ]
  },
  {
   "cell_type": "markdown",
   "metadata": {},
   "source": [
    "example)\n",
    "```\n",
    "Client mosq/gK4hzUv1CdICXD3pqW sending CONNECT\n",
    "Client mosq/gK4hzUv1CdICXD3pqW received CONNACK (0)\n",
    "Client mosq/gK4hzUv1CdICXD3pqW sending PUBLISH (d0, q0, r0, m1, '/mobile_robot/rosbot2_01/attrs', ... (60 bytes))\n",
    "Client mosq/gK4hzUv1CdICXD3pqW sending DISCONNECT\n",
    "```"
   ]
  },
  {
   "cell_type": "markdown",
   "metadata": {},
   "source": [
    "when executing the above command, show below messages on the opened terminal.\n",
    "\n",
    "example)\n",
    "```\n",
    "Client mosq/xqKg5bFJJXOKGa55gY received PUBLISH (d0, q0, r0, m0, '/mobile_robot/rosbot2_01/attrs', ... (75 bytes))\n",
    "2019-05-13T21:28:12.1557750492+09:00|x|1.80|y|-0.01|theta|-0.20|r_mode|navi\n",
    "```"
   ]
  },
  {
   "cell_type": "markdown",
   "metadata": {},
   "source": [
    "#### confirm the mobile_robot entity"
   ]
  },
  {
   "cell_type": "code",
   "execution_count": null,
   "metadata": {
    "scrolled": false
   },
   "outputs": [],
   "source": [
    "TOKEN=$(cat ${CORE_ROOT}/secrets/auth-tokens.json | jq '.[0].settings.bearer_tokens[0].token' -r)\n",
    "curl -sS -H \"Authorization: bearer ${TOKEN}\" -H \"Fiware-Service: ${FIWARE_SERVICE}\" -H \"Fiware-Servicepath: ${MOBILE_ROBOT_SERVICEPATH}\" http://${HOST_IPADDR}:8080/orion/v2/entities/${MOBILE_ROBOT_ID}/?attrs=r_mode,r_state | jq ."
   ]
  },
  {
   "cell_type": "markdown",
   "metadata": {},
   "source": [
    "example)\n",
    "```json\n",
    "{\n",
    "  \"id\": \"rosbot2_01\",\n",
    "  \"type\": \"mobile_robot\",\n",
    "  \"r_mode\": {\n",
    "    \"type\": \"string\",\n",
    "    \"value\": \"navi\",\n",
    "    \"metadata\": {\n",
    "      \"TimeInstant\": {\n",
    "        \"type\": \"ISO8601\",\n",
    "        \"value\": \"2019-05-13T21:28:12.1557750492+09:00\"\n",
    "      }\n",
    "    }\n",
    "  },\n",
    "  \"r_state\": {\n",
    "    \"type\": \"string\",\n",
    "    \"value\": \"returning\",\n",
    "    \"metadata\": {\n",
    "      \"TimeInstant\": {\n",
    "        \"type\": \"ISO8601\",\n",
    "        \"value\": \"2019-05-13T12:27:03.00Z\"\n",
    "      }\n",
    "    }\n",
    "  }\n",
    "}\n",
    "```"
   ]
  },
  {
   "cell_type": "markdown",
   "metadata": {},
   "source": [
    "#### 3: Although the mobile_robot notifies its current position nearby the point to be turned LED on, nothing happens because mobile_robot is returning to its initial point."
   ]
  },
  {
   "cell_type": "code",
   "execution_count": null,
   "metadata": {},
   "outputs": [],
   "source": [
    "x=0.78\n",
    "y=0.01\n",
    "theta=0.0\n",
    "r_mode=\"navi\"\n",
    "d=$(date '+%Y-%m-%dT%H:%M:%S.%s+09:00')\n",
    "mosquitto_pub -h ${HOST_IPADDR} -p 1883 -d -u iotagent -P ${MQTT__iotagent} -t /${MOBILE_ROBOT_TYPE}/${MOBILE_ROBOT_ID}/attrs -m \"${d}|x|${x}|y|${y}|theta|${theta}|r_mode|${r_mode}\""
   ]
  },
  {
   "cell_type": "markdown",
   "metadata": {},
   "source": [
    "example)\n",
    "```\n",
    "Client mosq/AGcKEoaq6b3c494WMC sending CONNECT\n",
    "Client mosq/AGcKEoaq6b3c494WMC received CONNACK (0)\n",
    "Client mosq/AGcKEoaq6b3c494WMC sending PUBLISH (d0, q0, r0, m1, '/mobile_robot/rosbot2_01/attrs', ... (60 bytes))\n",
    "Client mosq/AGcKEoaq6b3c494WMC sending DISCONNECT\n",
    "```"
   ]
  },
  {
   "cell_type": "markdown",
   "metadata": {},
   "source": [
    "when executing the above command, show below messages on the opened terminal.\n",
    "\n",
    "example)\n",
    "```\n",
    "Client mosq/xqKg5bFJJXOKGa55gY received PUBLISH (d0, q0, r0, m0, '/mobile_robot/rosbot2_01/attrs', ... (72 bytes))\n",
    "2019-05-13T21:30:38.1557750638+09:00|x|0.78|y|0.01|theta|0.0|r_mode|navi\n",
    "```"
   ]
  },
  {
   "cell_type": "markdown",
   "metadata": {},
   "source": [
    "#### confirm the mobile_robot entity"
   ]
  },
  {
   "cell_type": "code",
   "execution_count": null,
   "metadata": {
    "scrolled": false
   },
   "outputs": [],
   "source": [
    "TOKEN=$(cat ${CORE_ROOT}/secrets/auth-tokens.json | jq '.[0].settings.bearer_tokens[0].token' -r)\n",
    "curl -sS -H \"Authorization: bearer ${TOKEN}\" -H \"Fiware-Service: ${FIWARE_SERVICE}\" -H \"Fiware-Servicepath: ${MOBILE_ROBOT_SERVICEPATH}\" http://${HOST_IPADDR}:8080/orion/v2/entities/${MOBILE_ROBOT_ID}/?attrs=r_mode,r_state | jq ."
   ]
  },
  {
   "cell_type": "markdown",
   "metadata": {},
   "source": [
    "example)\n",
    "```json\n",
    "{\n",
    "  \"id\": \"rosbot2_01\",\n",
    "  \"type\": \"mobile_robot\",\n",
    "  \"r_mode\": {\n",
    "    \"type\": \"string\",\n",
    "    \"value\": \"navi\",\n",
    "    \"metadata\": {\n",
    "      \"TimeInstant\": {\n",
    "        \"type\": \"ISO8601\",\n",
    "        \"value\": \"2019-05-13T21:30:38.1557750638+09:00\"\n",
    "      }\n",
    "    }\n",
    "  },\n",
    "  \"r_state\": {\n",
    "    \"type\": \"string\",\n",
    "    \"value\": \"returning\",\n",
    "    \"metadata\": {\n",
    "      \"TimeInstant\": {\n",
    "        \"type\": \"ISO8601\",\n",
    "        \"value\": \"2019-05-13T12:27:03.00Z\"\n",
    "      }\n",
    "    }\n",
    "  }\n",
    "}\n",
    "```"
   ]
  },
  {
   "cell_type": "markdown",
   "metadata": {},
   "source": [
    "#### 4: Finally, mobile_robot notifies its current mode is `standby` when it reaches the initial point."
   ]
  },
  {
   "cell_type": "code",
   "execution_count": null,
   "metadata": {},
   "outputs": [],
   "source": [
    "x=0.01\n",
    "y=0.02\n",
    "theta=0.02\n",
    "r_mode=\"standby\"\n",
    "d=$(date '+%Y-%m-%dT%H:%M:%S.%s+09:00')\n",
    "mosquitto_pub -h ${HOST_IPADDR} -p 1883 -d -u iotagent -P ${MQTT__iotagent} -t /${MOBILE_ROBOT_TYPE}/${MOBILE_ROBOT_ID}/attrs -m \"${d}|x|${x}|y|${y}|theta|${theta}|r_mode|${r_mode}\""
   ]
  },
  {
   "cell_type": "markdown",
   "metadata": {},
   "source": [
    "example)\n",
    "```\n",
    "Client mosq/gK4hzUv1CdICXD3pqW sending CONNECT\n",
    "Client mosq/gK4hzUv1CdICXD3pqW received CONNACK (0)\n",
    "Client mosq/gK4hzUv1CdICXD3pqW sending PUBLISH (d0, q0, r0, m1, '/mobile_robot/rosbot2_01/attrs', ... (60 bytes))\n",
    "Client mosq/gK4hzUv1CdICXD3pqW sending DISCONNECT\n",
    "```"
   ]
  },
  {
   "cell_type": "markdown",
   "metadata": {},
   "source": [
    "when executing the above command, show below messages on the opened terminal.\n",
    "\n",
    "example)\n",
    "```\n",
    "Client mosq/xqKg5bFJJXOKGa55gY received PUBLISH (d0, q0, r0, m0, '/mobile_robot/rosbot2_01/attrs', ... (76 bytes))\n",
    "2019-05-13T21:33:55.1557750835+09:00|x|0.01|y|0.02|theta|0.02|r_mode|standby\n",
    "```"
   ]
  },
  {
   "cell_type": "markdown",
   "metadata": {},
   "source": [
    "#### confirm the mobile_robot entity"
   ]
  },
  {
   "cell_type": "code",
   "execution_count": null,
   "metadata": {
    "scrolled": false
   },
   "outputs": [],
   "source": [
    "TOKEN=$(cat ${CORE_ROOT}/secrets/auth-tokens.json | jq '.[0].settings.bearer_tokens[0].token' -r)\n",
    "curl -sS -H \"Authorization: bearer ${TOKEN}\" -H \"Fiware-Service: ${FIWARE_SERVICE}\" -H \"Fiware-Servicepath: ${MOBILE_ROBOT_SERVICEPATH}\" http://${HOST_IPADDR}:8080/orion/v2/entities/${MOBILE_ROBOT_ID}/?attrs=r_mode,r_state | jq ."
   ]
  },
  {
   "cell_type": "markdown",
   "metadata": {},
   "source": [
    "example)\n",
    "```json\n",
    "{\n",
    "  \"id\": \"rosbot2_01\",\n",
    "  \"type\": \"mobile_robot\",\n",
    "  \"r_mode\": {\n",
    "    \"type\": \"string\",\n",
    "    \"value\": \"standby\",\n",
    "    \"metadata\": {\n",
    "      \"TimeInstant\": {\n",
    "        \"type\": \"ISO8601\",\n",
    "        \"value\": \"2019-05-13T21:33:55.1557750835+09:00\"\n",
    "      }\n",
    "    }\n",
    "  },\n",
    "  \"r_state\": {\n",
    "    \"type\": \"string\",\n",
    "    \"value\": \"waiting\",\n",
    "    \"metadata\": {\n",
    "      \"TimeInstant\": {\n",
    "        \"type\": \"ISO8601\",\n",
    "        \"value\": \"2019-05-13T12:33:55.00Z\"\n",
    "      }\n",
    "    }\n",
    "  }\n",
    "}\n",
    "```"
   ]
  },
  {
   "cell_type": "code",
   "execution_count": null,
   "metadata": {},
   "outputs": [],
   "source": [
    "x=0.01\n",
    "y=0.02\n",
    "theta=0.02\n",
    "r_mode=\"standby\"\n",
    "d=$(date '+%Y-%m-%dT%H:%M:%S.%s+09:00')\n",
    "mosquitto_pub -h ${HOST_IPADDR} -p 1883 -d -u iotagent -P ${MQTT__iotagent} -t /${MOBILE_ROBOT_TYPE}/${MOBILE_ROBOT_ID}/attrs -m \"${d}|x|${x}|y|${y}|theta|${theta}|r_mode|${r_mode}\""
   ]
  },
  {
   "cell_type": "markdown",
   "metadata": {},
   "source": [
    "example)\n",
    "```\n",
    "Client mosq/gK4hzUv1CdICXD3pqW sending CONNECT\n",
    "Client mosq/gK4hzUv1CdICXD3pqW received CONNACK (0)\n",
    "Client mosq/gK4hzUv1CdICXD3pqW sending PUBLISH (d0, q0, r0, m1, '/mobile_robot/rosbot2_01/attrs', ... (60 bytes))\n",
    "Client mosq/gK4hzUv1CdICXD3pqW sending DISCONNECT\n",
    "```"
   ]
  },
  {
   "cell_type": "markdown",
   "metadata": {},
   "source": [
    "when executing the above command, show below messages on the opened terminal.\n",
    "\n",
    "example)\n",
    "```\n",
    "Client mosq/xqKg5bFJJXOKGa55gY received PUBLISH (d0, q0, r0, m0, '/mobile_robot/rosbot2_01/attrs', ... (76 bytes))\n",
    "2019-05-13T21:34:31.1557750871+09:00|x|0.01|y|0.02|theta|0.02|r_mode|standby\n",
    "```"
   ]
  },
  {
   "cell_type": "markdown",
   "metadata": {},
   "source": [
    "#### confirm the mobile_robot entity"
   ]
  },
  {
   "cell_type": "code",
   "execution_count": null,
   "metadata": {
    "scrolled": false
   },
   "outputs": [],
   "source": [
    "TOKEN=$(cat ${CORE_ROOT}/secrets/auth-tokens.json | jq '.[0].settings.bearer_tokens[0].token' -r)\n",
    "curl -sS -H \"Authorization: bearer ${TOKEN}\" -H \"Fiware-Service: ${FIWARE_SERVICE}\" -H \"Fiware-Servicepath: ${MOBILE_ROBOT_SERVICEPATH}\" http://${HOST_IPADDR}:8080/orion/v2/entities/${MOBILE_ROBOT_ID}/?attrs=r_mode,r_state | jq ."
   ]
  },
  {
   "cell_type": "markdown",
   "metadata": {},
   "source": [
    "example)\n",
    "```json\n",
    "{\n",
    "  \"id\": \"rosbot2_01\",\n",
    "  \"type\": \"mobile_robot\",\n",
    "  \"r_mode\": {\n",
    "    \"type\": \"string\",\n",
    "    \"value\": \"standby\",\n",
    "    \"metadata\": {\n",
    "      \"TimeInstant\": {\n",
    "        \"type\": \"ISO8601\",\n",
    "        \"value\": \"2019-05-13T21:34:31.1557750871+09:00\"\n",
    "      }\n",
    "    }\n",
    "  },\n",
    "  \"r_state\": {\n",
    "    \"type\": \"string\",\n",
    "    \"value\": \"waiting\",\n",
    "    \"metadata\": {\n",
    "      \"TimeInstant\": {\n",
    "        \"type\": \"ISO8601\",\n",
    "        \"value\": \"2019-05-13T12:33:55.00Z\"\n",
    "      }\n",
    "    }\n",
    "  }\n",
    "}\n",
    "```"
   ]
  }
 ],
 "metadata": {
  "kernelspec": {
   "display_name": "Bash",
   "language": "bash",
   "name": "bash"
  },
  "language_info": {
   "codemirror_mode": "shell",
   "file_extension": ".sh",
   "mimetype": "text/x-sh",
   "name": "bash"
  }
 },
 "nbformat": 4,
 "nbformat_minor": 2
}
