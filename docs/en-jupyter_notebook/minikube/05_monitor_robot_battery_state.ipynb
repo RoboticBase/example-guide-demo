{
 "cells": [
  {
   "cell_type": "markdown",
   "metadata": {},
   "source": [
    "# 5 monitor robot battery state"
   ]
  },
  {
   "cell_type": "markdown",
   "metadata": {},
   "source": [
    "change ${CORE_ROOT} to your path of `core`."
   ]
  },
  {
   "cell_type": "code",
   "execution_count": null,
   "metadata": {},
   "outputs": [],
   "source": [
    "export CORE_ROOT=\"${HOME}/core\""
   ]
  },
  {
   "cell_type": "markdown",
   "metadata": {},
   "source": [
    "change ${PJ_ROOT} to your path of `example-guide-demo`."
   ]
  },
  {
   "cell_type": "code",
   "execution_count": null,
   "metadata": {},
   "outputs": [],
   "source": [
    "export PJ_ROOT=\"${HOME}/example-guide-demo\"\n",
    "cd ${PJ_ROOT};pwd"
   ]
  },
  {
   "cell_type": "markdown",
   "metadata": {},
   "source": [
    "example)\n",
    "```\n",
    "/Users/user/example-guide-demo\n",
    "```"
   ]
  },
  {
   "cell_type": "markdown",
   "metadata": {},
   "source": [
    "## load environment variables"
   ]
  },
  {
   "cell_type": "markdown",
   "metadata": {},
   "source": [
    "load from `core`"
   ]
  },
  {
   "cell_type": "code",
   "execution_count": null,
   "metadata": {},
   "outputs": [],
   "source": [
    "source ${CORE_ROOT}/docs/environments/minikube/env"
   ]
  },
  {
   "cell_type": "markdown",
   "metadata": {},
   "source": [
    "load from `example-guide-demo`"
   ]
  },
  {
   "cell_type": "code",
   "execution_count": null,
   "metadata": {},
   "outputs": [],
   "source": [
    "source ${PJ_ROOT}/docs/environments/minikube/env"
   ]
  },
  {
   "cell_type": "markdown",
   "metadata": {},
   "source": [
    "## setup alias"
   ]
  },
  {
   "cell_type": "code",
   "execution_count": null,
   "metadata": {},
   "outputs": [],
   "source": [
    "if [ \"$(uname)\" == 'Darwin' ]; then\n",
    "  alias openbrowser='open'\n",
    "elif [ \"$(expr substr $(uname -s) 1 5)\" == 'Linux' ]; then\n",
    "  alias openbrowser='xdg-open'\n",
    "else\n",
    "  echo \"Your platform ($(uname -a)) is not supported.\"\n",
    "  exit 1\n",
    "fi"
   ]
  },
  {
   "cell_type": "markdown",
   "metadata": {},
   "source": [
    "## register `cygnus-elasticsearch` as a subscriber of mobile_robot device"
   ]
  },
  {
   "cell_type": "code",
   "execution_count": null,
   "metadata": {},
   "outputs": [],
   "source": [
    "TOKEN=$(cat ${CORE_ROOT}/secrets/auth-tokens.json | jq '.[0].settings.bearer_tokens[0].token' -r)\n",
    "curl -i -H \"Authorization: bearer ${TOKEN}\" -H \"Fiware-Service: ${FIWARE_SERVICE}\" -H \"Fiware-ServicePath: ${MOBILE_ROBOT_SERVICEPATH}\" -H \"Content-Type: application/json\" http://${HOST_IPADDR}:8080/orion/v2/subscriptions/ -X POST -d @- <<__EOS__\n",
    "{\n",
    "  \"subject\": {\n",
    "    \"entities\": [{\n",
    "      \"idPattern\": \"${MOBILE_ROBOT_ID}\",\n",
    "      \"type\": \"${MOBILE_ROBOT_TYPE}\"\n",
    "    }],\n",
    "    \"condition\": {\n",
    "      \"attrs\": [\"voltage\", \"current\", \"charge\", \"capacity\", \"design_capacity\", \"percentage\"]\n",
    "    }\n",
    "  },\n",
    "  \"notification\": {\n",
    "    \"http\": {\n",
    "      \"url\": \"http://cygnus-elasticsearch:5050/notify\"\n",
    "    },\n",
    "    \"attrs\": [\"voltage\", \"current\", \"charge\", \"capacity\", \"design_capacity\", \"percentage\"],\n",
    "    \"attrsFormat\": \"legacy\"\n",
    "  }\n",
    "}\n",
    "__EOS__"
   ]
  },
  {
   "cell_type": "markdown",
   "metadata": {},
   "source": [
    "example)\n",
    "```\n",
    "HTTP/1.1 201 Created\n",
    "content-length: 0\n",
    "location: /v2/subscriptions/5cda7d5812c6efcf9ec387fe\n",
    "fiware-correlator: f2cc0bde-7622-11e9-ba92-0636c4938d99\n",
    "date: Tue, 14 May 2019 08:33:28 GMT\n",
    "x-envoy-upstream-service-time: 5\n",
    "server: envoy\n",
    "```"
   ]
  },
  {
   "cell_type": "code",
   "execution_count": null,
   "metadata": {
    "scrolled": false
   },
   "outputs": [],
   "source": [
    "TOKEN=$(cat ${CORE_ROOT}/secrets/auth-tokens.json | jq '.[0].settings.bearer_tokens[0].token' -r)\n",
    "curl -sS -H \"Authorization: bearer ${TOKEN}\" -H \"Fiware-Service: ${FIWARE_SERVICE}\" -H \"Fiware-ServicePath: ${MOBILE_ROBOT_SERVICEPATH}\" http://${HOST_IPADDR}:8080/orion/v2/subscriptions/ | jq ."
   ]
  },
  {
   "cell_type": "markdown",
   "metadata": {},
   "source": [
    "example)\n",
    "```json\n",
    "[\n",
    "  {\n",
    "    \"id\": \"5cd952ef12c6efcf9ec387fd\",\n",
    "    \"status\": \"active\",\n",
    "    \"subject\": {\n",
    "      \"entities\": [\n",
    "        {\n",
    "          \"idPattern\": \"rosbot2_01\",\n",
    "          \"type\": \"mobile_robot\"\n",
    "        }\n",
    "      ],\n",
    "      \"condition\": {\n",
    "        \"attrs\": [\n",
    "          \"r_mode\",\n",
    "          \"r_state\",\n",
    "          \"x\",\n",
    "          \"y\",\n",
    "          \"theta\",\n",
    "          \"move_status\",\n",
    "          \"move_info\",\n",
    "          \"voltage\",\n",
    "          \"current\",\n",
    "          \"charge\",\n",
    "          \"capacity\",\n",
    "          \"design_capacity\",\n",
    "          \"percentage\"\n",
    "        ]\n",
    "      }\n",
    "    },\n",
    "    \"notification\": {\n",
    "      \"timesSent\": 22009,\n",
    "      \"lastNotification\": \"2019-05-14T07:57:33.00Z\",\n",
    "      \"attrs\": [\n",
    "        \"r_mode\",\n",
    "        \"r_state\",\n",
    "        \"x\",\n",
    "        \"y\",\n",
    "        \"theta\",\n",
    "        \"move_status\",\n",
    "        \"move_info\",\n",
    "        \"voltage\",\n",
    "        \"current\",\n",
    "        \"charge\",\n",
    "        \"capacity\",\n",
    "        \"design_capacity\",\n",
    "        \"percentage\"\n",
    "      ],\n",
    "      \"attrsFormat\": \"legacy\",\n",
    "      \"http\": {\n",
    "        \"url\": \"http://cygnus-mongo:5050/notify\"\n",
    "      },\n",
    "      \"lastSuccess\": \"2019-05-14T07:57:33.00Z\",\n",
    "      \"lastSuccessCode\": 200\n",
    "    }\n",
    "  },\n",
    "  {\n",
    "    \"id\": \"5cd959929ea137395f05c133\",\n",
    "    \"status\": \"active\",\n",
    "    \"subject\": {\n",
    "      \"entities\": [\n",
    "        {\n",
    "          \"idPattern\": \"rosbot2_01\",\n",
    "          \"type\": \"mobile_robot\"\n",
    "        }\n",
    "      ],\n",
    "      \"condition\": {\n",
    "        \"attrs\": [\n",
    "          \"x\",\n",
    "          \"y\",\n",
    "          \"theta\",\n",
    "          \"r_mode\"\n",
    "        ]\n",
    "      }\n",
    "    },\n",
    "    \"notification\": {\n",
    "      \"timesSent\": 21745,\n",
    "      \"lastNotification\": \"2019-05-14T07:57:33.00Z\",\n",
    "      \"attrs\": [\n",
    "        \"x\",\n",
    "        \"y\",\n",
    "        \"theta\",\n",
    "        \"r_mode\"\n",
    "      ],\n",
    "      \"attrsFormat\": \"normalized\",\n",
    "      \"http\": {\n",
    "        \"url\": \"http://guide-demo:3000/notify/update-mobilerobot-state/\"\n",
    "      },\n",
    "      \"lastFailure\": \"2019-05-14T06:45:19.00Z\",\n",
    "      \"lastFailureReason\": \"Server returned nothing (no headers, no data)\",\n",
    "      \"lastSuccess\": \"2019-05-14T07:57:33.00Z\",\n",
    "      \"lastSuccessCode\": 200\n",
    "    }\n",
    "  },\n",
    "  {\n",
    "    \"id\": \"5cda7d5812c6efcf9ec387fe\",\n",
    "    \"status\": \"active\",\n",
    "    \"subject\": {\n",
    "      \"entities\": [\n",
    "        {\n",
    "          \"idPattern\": \"rosbot2_01\",\n",
    "          \"type\": \"mobile_robot\"\n",
    "        }\n",
    "      ],\n",
    "      \"condition\": {\n",
    "        \"attrs\": [\n",
    "          \"voltage\",\n",
    "          \"current\",\n",
    "          \"charge\",\n",
    "          \"capacity\",\n",
    "          \"design_capacity\",\n",
    "          \"percentage\"\n",
    "        ]\n",
    "      }\n",
    "    },\n",
    "    \"notification\": {\n",
    "      \"timesSent\": 1,\n",
    "      \"lastNotification\": \"2019-05-14T08:33:28.00Z\",\n",
    "      \"attrs\": [\n",
    "        \"voltage\",\n",
    "        \"current\",\n",
    "        \"charge\",\n",
    "        \"capacity\",\n",
    "        \"design_capacity\",\n",
    "        \"percentage\"\n",
    "      ],\n",
    "      \"attrsFormat\": \"legacy\",\n",
    "      \"http\": {\n",
    "        \"url\": \"http://cygnus-elasticsearch:5050/notify\"\n",
    "      },\n",
    "      \"lastSuccess\": \"2019-05-14T08:33:28.00Z\",\n",
    "      \"lastSuccessCode\": 200\n",
    "    }\n",
    "  }\n",
    "]\n",
    "```"
   ]
  },
  {
   "cell_type": "markdown",
   "metadata": {},
   "source": [
    "## set up Kibana and grafana"
   ]
  },
  {
   "cell_type": "markdown",
   "metadata": {},
   "source": [
    "### open kibana"
   ]
  },
  {
   "cell_type": "code",
   "execution_count": null,
   "metadata": {},
   "outputs": [],
   "source": [
    "echo 'kubectl --namespace monitoring port-forward $(kubectl get pod -l k8s-app=kibana-logging --namespace monitoring -o template --template \"{{(index .items 0).metadata.name}}\") 5601:5601'"
   ]
  },
  {
   "cell_type": "code",
   "execution_count": null,
   "metadata": {},
   "outputs": [],
   "source": [
    "openbrowser http://localhost:5601/"
   ]
  },
  {
   "cell_type": "markdown",
   "metadata": {},
   "source": [
    "1. show `Management -> Index Patterns`\n",
    "2. click `Create index pattern`\n",
    "3. set `cygnus-guide_demo-mobile_robot-*` as Index Pattern, and push `Next step`\n",
    "4. set `recvTime` as Time Filter field name, and push `Create index pattern`\n",
    "\n",
    "**Index name is like: `<<IndexPrefix of cygnus>>-<<FIWARE_SERVICE>>-<<FIWARE_SERVICEPATH of depoloyer>>-<<yyyy.mm.dd>>`**"
   ]
  },
  {
   "cell_type": "markdown",
   "metadata": {},
   "source": [
    "### open grafana"
   ]
  },
  {
   "cell_type": "code",
   "execution_count": null,
   "metadata": {},
   "outputs": [],
   "source": [
    "echo 'kubectl --namespace monitoring port-forward $(kubectl get pod --namespace monitoring -l app=grafana,release=po -o template --template \"{{(index .items 0).metadata.name}}\") 3000:3000'"
   ]
  },
  {
   "cell_type": "code",
   "execution_count": null,
   "metadata": {},
   "outputs": [],
   "source": [
    "openbrowser http://localhost:3000/login"
   ]
  },
  {
   "cell_type": "markdown",
   "metadata": {},
   "source": [
    "1. add a new Data Source (ElasticSearch)\n",
    "    * Name: `cygnus-elasticsearch`\n",
    "    * URL: `http://elasticsearch-logging:9200`\n",
    "    * Access: `Server(Default)`\n",
    "    * Index name: `cygnus-guide_demo-mobile_robot-*`\n",
    "    * Time field name: `recvTime`\n",
    "    * Version: `6.0+`\n",
    "2. import `monitoring/dashboard_battery.json`"
   ]
  }
 ],
 "metadata": {
  "kernelspec": {
   "display_name": "Bash",
   "language": "bash",
   "name": "bash"
  },
  "language_info": {
   "codemirror_mode": "shell",
   "file_extension": ".sh",
   "mimetype": "text/x-sh",
   "name": "bash"
  }
 },
 "nbformat": 4,
 "nbformat_minor": 2
}
